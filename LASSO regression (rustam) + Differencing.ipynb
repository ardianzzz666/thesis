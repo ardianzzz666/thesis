{
 "cells": [
  {
   "cell_type": "code",
   "execution_count": 1,
   "metadata": {},
   "outputs": [],
   "source": [
    "# load and summarize the housing dataset\n",
    "from matplotlib import pyplot\n",
    "\n",
    "import pandas as pd\n",
    "import numpy as np\n",
    "from numpy import arange\n",
    "\n",
    "\n",
    "from sklearn.metrics import mean_squared_error\n",
    "from sklearn.metrics import mean_absolute_error\n",
    "\n",
    "# evaluate an lasso regression model on the dataset\n",
    "from numpy import mean\n",
    "from numpy import std\n",
    "from numpy import absolute\n",
    "from sklearn.model_selection import cross_val_score\n",
    "from sklearn.model_selection import GridSearchCV\n",
    "from sklearn.model_selection import RepeatedKFold\n",
    "from sklearn.linear_model import Lasso"
   ]
  },
  {
   "cell_type": "code",
   "execution_count": 2,
   "metadata": {},
   "outputs": [],
   "source": [
    "# dataset indonesia (jakarta)\n",
    "case = pd.read_csv('data/new/case_maret_july.csv')\n",
    "mobility = pd.read_csv('data/new/mobility_maret_july.csv')\n",
    "weather = pd.read_csv('data/new/weather_maret_july.csv')\n",
    "case.set_index('date', inplace=True)\n",
    "#weather.set_index('date', inplace=True)\n",
    "mobility.set_index('date', inplace=True)"
   ]
  },
  {
   "cell_type": "code",
   "execution_count": 3,
   "metadata": {},
   "outputs": [],
   "source": [
    "new_weather = weather.interpolate(method='spline', order=2)\n",
    "new_weather.head()\n",
    "\n",
    "new_weather.set_index('date', inplace=True)"
   ]
  },
  {
   "cell_type": "code",
   "execution_count": 4,
   "metadata": {},
   "outputs": [
    {
     "data": {
      "text/html": [
       "<div>\n",
       "<style scoped>\n",
       "    .dataframe tbody tr th:only-of-type {\n",
       "        vertical-align: middle;\n",
       "    }\n",
       "\n",
       "    .dataframe tbody tr th {\n",
       "        vertical-align: top;\n",
       "    }\n",
       "\n",
       "    .dataframe thead th {\n",
       "        text-align: right;\n",
       "    }\n",
       "</style>\n",
       "<table border=\"1\" class=\"dataframe\">\n",
       "  <thead>\n",
       "    <tr style=\"text-align: right;\">\n",
       "      <th></th>\n",
       "      <th>retail_recreation</th>\n",
       "      <th>grocery_pahrmacy</th>\n",
       "      <th>parks</th>\n",
       "      <th>transit_station</th>\n",
       "      <th>workplace</th>\n",
       "      <th>residential</th>\n",
       "    </tr>\n",
       "    <tr>\n",
       "      <th>date</th>\n",
       "      <th></th>\n",
       "      <th></th>\n",
       "      <th></th>\n",
       "      <th></th>\n",
       "      <th></th>\n",
       "      <th></th>\n",
       "    </tr>\n",
       "  </thead>\n",
       "  <tbody>\n",
       "    <tr>\n",
       "      <th>2020-03-19</th>\n",
       "      <td>-6.0</td>\n",
       "      <td>-9.0</td>\n",
       "      <td>-5.0</td>\n",
       "      <td>-6.0</td>\n",
       "      <td>-2.0</td>\n",
       "      <td>1.0</td>\n",
       "    </tr>\n",
       "    <tr>\n",
       "      <th>2020-03-20</th>\n",
       "      <td>-2.0</td>\n",
       "      <td>1.0</td>\n",
       "      <td>1.0</td>\n",
       "      <td>-4.0</td>\n",
       "      <td>-2.0</td>\n",
       "      <td>3.0</td>\n",
       "    </tr>\n",
       "    <tr>\n",
       "      <th>2020-03-21</th>\n",
       "      <td>-5.0</td>\n",
       "      <td>6.0</td>\n",
       "      <td>-6.0</td>\n",
       "      <td>2.0</td>\n",
       "      <td>13.0</td>\n",
       "      <td>-4.0</td>\n",
       "    </tr>\n",
       "    <tr>\n",
       "      <th>2020-03-22</th>\n",
       "      <td>-14.0</td>\n",
       "      <td>-17.0</td>\n",
       "      <td>-21.0</td>\n",
       "      <td>-9.0</td>\n",
       "      <td>-2.0</td>\n",
       "      <td>3.0</td>\n",
       "    </tr>\n",
       "    <tr>\n",
       "      <th>2020-03-23</th>\n",
       "      <td>9.0</td>\n",
       "      <td>3.0</td>\n",
       "      <td>16.0</td>\n",
       "      <td>-4.0</td>\n",
       "      <td>-22.0</td>\n",
       "      <td>4.0</td>\n",
       "    </tr>\n",
       "  </tbody>\n",
       "</table>\n",
       "</div>"
      ],
      "text/plain": [
       "            retail_recreation  grocery_pahrmacy  parks  transit_station  \\\n",
       "date                                                                      \n",
       "2020-03-19               -6.0              -9.0   -5.0             -6.0   \n",
       "2020-03-20               -2.0               1.0    1.0             -4.0   \n",
       "2020-03-21               -5.0               6.0   -6.0              2.0   \n",
       "2020-03-22              -14.0             -17.0  -21.0             -9.0   \n",
       "2020-03-23                9.0               3.0   16.0             -4.0   \n",
       "\n",
       "            workplace  residential  \n",
       "date                                \n",
       "2020-03-19       -2.0          1.0  \n",
       "2020-03-20       -2.0          3.0  \n",
       "2020-03-21       13.0         -4.0  \n",
       "2020-03-22       -2.0          3.0  \n",
       "2020-03-23      -22.0          4.0  "
      ]
     },
     "execution_count": 4,
     "metadata": {},
     "output_type": "execute_result"
    }
   ],
   "source": [
    "# Differencing order = 1\n",
    "mobility_diff = mobility.diff(periods=1)\n",
    "mobility_diff = mobility_diff.iloc[1:]\n",
    "\n",
    "case_diff = case.diff(periods=1)\n",
    "case_diff = case_diff.iloc[1:]\n",
    "\n",
    "new_weather = new_weather.iloc[1:]\n",
    "mobility_diff.head()"
   ]
  },
  {
   "cell_type": "code",
   "execution_count": 5,
   "metadata": {},
   "outputs": [
    {
     "data": {
      "text/html": [
       "<div>\n",
       "<style scoped>\n",
       "    .dataframe tbody tr th:only-of-type {\n",
       "        vertical-align: middle;\n",
       "    }\n",
       "\n",
       "    .dataframe tbody tr th {\n",
       "        vertical-align: top;\n",
       "    }\n",
       "\n",
       "    .dataframe thead th {\n",
       "        text-align: right;\n",
       "    }\n",
       "</style>\n",
       "<table border=\"1\" class=\"dataframe\">\n",
       "  <thead>\n",
       "    <tr style=\"text-align: right;\">\n",
       "      <th></th>\n",
       "      <th>case</th>\n",
       "      <th>rh</th>\n",
       "      <th>avt</th>\n",
       "      <th>mxt</th>\n",
       "      <th>mnt</th>\n",
       "      <th>retail_recreation</th>\n",
       "      <th>grocery_pahrmacy</th>\n",
       "      <th>parks</th>\n",
       "      <th>transit_station</th>\n",
       "      <th>workplace</th>\n",
       "      <th>residential</th>\n",
       "    </tr>\n",
       "    <tr>\n",
       "      <th>date</th>\n",
       "      <th></th>\n",
       "      <th></th>\n",
       "      <th></th>\n",
       "      <th></th>\n",
       "      <th></th>\n",
       "      <th></th>\n",
       "      <th></th>\n",
       "      <th></th>\n",
       "      <th></th>\n",
       "      <th></th>\n",
       "      <th></th>\n",
       "    </tr>\n",
       "  </thead>\n",
       "  <tbody>\n",
       "    <tr>\n",
       "      <th>2020-03-19</th>\n",
       "      <td>12.0</td>\n",
       "      <td>83.0</td>\n",
       "      <td>28.1</td>\n",
       "      <td>31.4</td>\n",
       "      <td>25.800000</td>\n",
       "      <td>-6.0</td>\n",
       "      <td>-9.0</td>\n",
       "      <td>-5.0</td>\n",
       "      <td>-6.0</td>\n",
       "      <td>-2.0</td>\n",
       "      <td>1.0</td>\n",
       "    </tr>\n",
       "    <tr>\n",
       "      <th>2020-03-20</th>\n",
       "      <td>-36.0</td>\n",
       "      <td>82.0</td>\n",
       "      <td>27.4</td>\n",
       "      <td>31.2</td>\n",
       "      <td>25.200000</td>\n",
       "      <td>-2.0</td>\n",
       "      <td>1.0</td>\n",
       "      <td>1.0</td>\n",
       "      <td>-4.0</td>\n",
       "      <td>-2.0</td>\n",
       "      <td>3.0</td>\n",
       "    </tr>\n",
       "    <tr>\n",
       "      <th>2020-03-21</th>\n",
       "      <td>30.0</td>\n",
       "      <td>81.0</td>\n",
       "      <td>28.1</td>\n",
       "      <td>32.4</td>\n",
       "      <td>26.521978</td>\n",
       "      <td>-5.0</td>\n",
       "      <td>6.0</td>\n",
       "      <td>-6.0</td>\n",
       "      <td>2.0</td>\n",
       "      <td>13.0</td>\n",
       "      <td>-4.0</td>\n",
       "    </tr>\n",
       "    <tr>\n",
       "      <th>2020-03-22</th>\n",
       "      <td>-8.0</td>\n",
       "      <td>84.0</td>\n",
       "      <td>27.2</td>\n",
       "      <td>31.2</td>\n",
       "      <td>25.000000</td>\n",
       "      <td>-14.0</td>\n",
       "      <td>-17.0</td>\n",
       "      <td>-21.0</td>\n",
       "      <td>-9.0</td>\n",
       "      <td>-2.0</td>\n",
       "      <td>3.0</td>\n",
       "    </tr>\n",
       "    <tr>\n",
       "      <th>2020-03-23</th>\n",
       "      <td>15.0</td>\n",
       "      <td>81.0</td>\n",
       "      <td>28.2</td>\n",
       "      <td>31.8</td>\n",
       "      <td>25.000000</td>\n",
       "      <td>9.0</td>\n",
       "      <td>3.0</td>\n",
       "      <td>16.0</td>\n",
       "      <td>-4.0</td>\n",
       "      <td>-22.0</td>\n",
       "      <td>4.0</td>\n",
       "    </tr>\n",
       "  </tbody>\n",
       "</table>\n",
       "</div>"
      ],
      "text/plain": [
       "            case    rh   avt   mxt        mnt  retail_recreation  \\\n",
       "date                                                               \n",
       "2020-03-19  12.0  83.0  28.1  31.4  25.800000               -6.0   \n",
       "2020-03-20 -36.0  82.0  27.4  31.2  25.200000               -2.0   \n",
       "2020-03-21  30.0  81.0  28.1  32.4  26.521978               -5.0   \n",
       "2020-03-22  -8.0  84.0  27.2  31.2  25.000000              -14.0   \n",
       "2020-03-23  15.0  81.0  28.2  31.8  25.000000                9.0   \n",
       "\n",
       "            grocery_pahrmacy  parks  transit_station  workplace  residential  \n",
       "date                                                                          \n",
       "2020-03-19              -9.0   -5.0             -6.0       -2.0          1.0  \n",
       "2020-03-20               1.0    1.0             -4.0       -2.0          3.0  \n",
       "2020-03-21               6.0   -6.0              2.0       13.0         -4.0  \n",
       "2020-03-22             -17.0  -21.0             -9.0       -2.0          3.0  \n",
       "2020-03-23               3.0   16.0             -4.0      -22.0          4.0  "
      ]
     },
     "execution_count": 5,
     "metadata": {},
     "output_type": "execute_result"
    }
   ],
   "source": [
    "data = pd.concat([case_diff, new_weather, mobility_diff], axis=1)\n",
    "data.head()"
   ]
  },
  {
   "cell_type": "code",
   "execution_count": 6,
   "metadata": {},
   "outputs": [
    {
     "data": {
      "text/plain": [
       "(422, 11)"
      ]
     },
     "execution_count": 6,
     "metadata": {},
     "output_type": "execute_result"
    }
   ],
   "source": [
    "data.shape"
   ]
  },
  {
   "cell_type": "code",
   "execution_count": 7,
   "metadata": {},
   "outputs": [],
   "source": [
    "train = data[:412]\n",
    "test = data[412:]"
   ]
  },
  {
   "cell_type": "code",
   "execution_count": 8,
   "metadata": {},
   "outputs": [],
   "source": [
    "X = train[['rh', 'avt', 'mxt', 'mnt', 'retail_recreation', 'grocery_pahrmacy', 'parks', 'transit_station', 'workplace', 'residential']]\n",
    "y = train['case']"
   ]
  },
  {
   "cell_type": "code",
   "execution_count": 9,
   "metadata": {},
   "outputs": [
    {
     "name": "stdout",
     "output_type": "stream",
     "text": [
      "MAE: -213.158\n",
      "Config: {'alpha': 0.99}\n"
     ]
    }
   ],
   "source": [
    "model = Lasso()\n",
    "# defiinisikan evaluation method\n",
    "cv = RepeatedKFold(n_splits=10, n_repeats=3, random_state=1)\n",
    "# definisikan grid search\n",
    "grid = dict()\n",
    "grid['alpha'] = arange(0, 1, 0.01)\n",
    "# definisikan search\n",
    "search = GridSearchCV(model, grid, scoring='neg_mean_absolute_error', cv=cv, n_jobs=-1)\n",
    "# perform the search\n",
    "results = search.fit(X, y)\n",
    "# summarize\n",
    "print('MAE: %.3f' % results.best_score_)\n",
    "print('Config: %s' % results.best_params_)"
   ]
  },
  {
   "cell_type": "code",
   "execution_count": 10,
   "metadata": {},
   "outputs": [],
   "source": [
    "case_true = test['case']\n",
    "del test['case']"
   ]
  },
  {
   "cell_type": "code",
   "execution_count": 11,
   "metadata": {},
   "outputs": [
    {
     "name": "stdout",
     "output_type": "stream",
     "text": [
      "[-11.08754865  40.79820056   7.93695443 -45.96109335   3.20307949\n",
      "  18.33775819 -21.81540164  18.38529778 118.31069195 -69.28741405]\n"
     ]
    }
   ],
   "source": [
    "# fit model\n",
    "model.fit(X, y)\n",
    "# make a prediction\n",
    "yhat = model.predict(test)\n",
    "\n",
    "print(yhat)"
   ]
  },
  {
   "cell_type": "code",
   "execution_count": 12,
   "metadata": {},
   "outputs": [],
   "source": [
    "list_hasil = yhat.tolist()\n",
    "list_eval = case_true.tolist()"
   ]
  },
  {
   "cell_type": "code",
   "execution_count": 13,
   "metadata": {},
   "outputs": [
    {
     "data": {
      "text/plain": [
       "191.25934606332723"
      ]
     },
     "execution_count": 13,
     "metadata": {},
     "output_type": "execute_result"
    }
   ],
   "source": [
    "rmse = mean_squared_error(list_eval, list_hasil, squared=False)\n",
    "rmse"
   ]
  },
  {
   "cell_type": "code",
   "execution_count": 14,
   "metadata": {},
   "outputs": [
    {
     "data": {
      "text/plain": [
       "36580.13745657157"
      ]
     },
     "execution_count": 14,
     "metadata": {},
     "output_type": "execute_result"
    }
   ],
   "source": [
    "mse = mean_squared_error(list_eval, list_hasil)\n",
    "mse"
   ]
  },
  {
   "cell_type": "code",
   "execution_count": 15,
   "metadata": {},
   "outputs": [
    {
     "data": {
      "text/plain": [
       "139.36010824530655"
      ]
     },
     "execution_count": 15,
     "metadata": {},
     "output_type": "execute_result"
    }
   ],
   "source": [
    "mae = mean_absolute_error(list_eval, list_hasil)\n",
    "mae"
   ]
  },
  {
   "cell_type": "code",
   "execution_count": 16,
   "metadata": {},
   "outputs": [
    {
     "data": {
      "text/plain": [
       "<AxesSubplot:>"
      ]
     },
     "execution_count": 16,
     "metadata": {},
     "output_type": "execute_result"
    },
    {
     "data": {
      "image/png": "[encoded data removed]",
      "text/plain": [
       "<Figure size 432x288 with 1 Axes>"
      ]
     },
     "metadata": {
      "needs_background": "light"
     },
     "output_type": "display_data"
    }
   ],
   "source": [
    "compare = pd.DataFrame(list(zip(list_eval, list_hasil)), columns =['Real Value', 'Predict Value'])\n",
    "compare.plot()"
   ]
  },
  {
   "cell_type": "code",
   "execution_count": null,
   "metadata": {},
   "outputs": [],
   "source": []
  }
 ],
 "metadata": {
  "kernelspec": {
   "display_name": "Python 3",
   "language": "python",
   "name": "python3"
  },
  "language_info": {
   "codemirror_mode": {
    "name": "ipython",
    "version": 3
   },
   "file_extension": ".py",
   "mimetype": "text/x-python",
   "name": "python",
   "nbconvert_exporter": "python",
   "pygments_lexer": "ipython3",
   "version": "3.7.9"
  }
 },
 "nbformat": 4,
 "nbformat_minor": 4
}
