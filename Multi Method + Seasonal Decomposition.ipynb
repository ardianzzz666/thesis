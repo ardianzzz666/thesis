{
 "cells": [
  {
   "cell_type": "code",
   "execution_count": 40,
   "metadata": {},
   "outputs": [],
   "source": [
    "import pandas as pd\n",
    "from statsmodels.tsa.arima.model import ARIMA\n",
    "import matplotlib.pyplot as plt\n",
    "from statsmodels.tsa.seasonal import seasonal_decompose\n",
    "from pandas import DataFrame\n",
    "\n",
    "from math import sqrt\n",
    "from numpy import concatenate\n",
    "from pandas import concat\n",
    "from numpy import ndarray\n",
    "\n",
    "from sklearn.metrics import mean_squared_error\n",
    "from keras.models import Sequential\n",
    "from keras.layers import Dense\n",
    "from keras.layers import LSTM"
   ]
  },
  {
   "cell_type": "code",
   "execution_count": 2,
   "metadata": {},
   "outputs": [],
   "source": [
    "def series_to_supervised(data, n_in=1, n_out=1, dropnan=True):\n",
    "    \"\"\"\n",
    "    Frame a time series as a supervised learning dataset.\n",
    "    Arguments:\n",
    "        data: Sequence of observations as a list or NumPy array.\n",
    "        n_in: Number of lag observations as input (X).\n",
    "        n_out: Number of observations as output (y).\n",
    "        dropnan: Boolean whether or not to drop rows with NaN values.\n",
    "    Returns:\n",
    "        Pandas DataFrame of series framed for supervised learning.\n",
    "    \"\"\"\n",
    "    n_vars = 1 if type(data) is list else data.shape[1]\n",
    "    df = DataFrame(data)\n",
    "    cols, names = list(), list()\n",
    "    # input sequence (t-n, ... t-1)\n",
    "    for i in range(n_in, 0, -1):\n",
    "        cols.append(df.shift(i))\n",
    "        names += [('var%d(t-%d)' % (j+1, i)) for j in range(n_vars)]\n",
    "    # forecast sequence (t, t+1, ... t+n)\n",
    "    for i in range(0, n_out):\n",
    "        cols.append(df.shift(-i))\n",
    "        if i == 0:\n",
    "            names += [('var%d(t)' % (j+1)) for j in range(n_vars)]\n",
    "        else:\n",
    "            names += [('var%d(t+%d)' % (j+1, i)) for j in range(n_vars)]\n",
    "    # put it all together\n",
    "    agg = concat(cols, axis=1)\n",
    "    agg.columns = names\n",
    "    # drop rows with NaN values\n",
    "    if dropnan:\n",
    "        agg.dropna(inplace=True)\n",
    "    return agg"
   ]
  },
  {
   "cell_type": "code",
   "execution_count": 3,
   "metadata": {},
   "outputs": [],
   "source": [
    "case = pd.read_csv('data/new/case_maret_july.csv')\n",
    "\n",
    "mobility = pd.read_csv('data/new/mobility_maret_july.csv')\n",
    "weather = pd.read_csv('data/new/weather_maret_july.csv')\n",
    "mobility.set_index('date', inplace=True)"
   ]
  },
  {
   "cell_type": "code",
   "execution_count": 4,
   "metadata": {},
   "outputs": [
    {
     "data": {
      "image/png": "[encoded data removed]",
      "text/plain": [
       "<Figure size 432x288 with 1 Axes>"
      ]
     },
     "metadata": {
      "needs_background": "light"
     },
     "output_type": "display_data"
    }
   ],
   "source": [
    "case.plot()\n",
    "plt.title(\"Daily Case\")\n",
    "plt.show()"
   ]
  },
  {
   "cell_type": "code",
   "execution_count": 5,
   "metadata": {},
   "outputs": [],
   "source": [
    "new_weather = weather.interpolate(method='spline', order=2)\n",
    "\n",
    "new_date = weather[['date']]\n",
    "\n",
    "new_weather.set_index('date', inplace=True)"
   ]
  },
  {
   "cell_type": "code",
   "execution_count": 6,
   "metadata": {},
   "outputs": [
    {
     "data": {
      "text/html": [
       "<div>\n",
       "<style scoped>\n",
       "    .dataframe tbody tr th:only-of-type {\n",
       "        vertical-align: middle;\n",
       "    }\n",
       "\n",
       "    .dataframe tbody tr th {\n",
       "        vertical-align: top;\n",
       "    }\n",
       "\n",
       "    .dataframe thead th {\n",
       "        text-align: right;\n",
       "    }\n",
       "</style>\n",
       "<table border=\"1\" class=\"dataframe\">\n",
       "  <thead>\n",
       "    <tr style=\"text-align: right;\">\n",
       "      <th></th>\n",
       "      <th>case</th>\n",
       "    </tr>\n",
       "    <tr>\n",
       "      <th>date</th>\n",
       "      <th></th>\n",
       "    </tr>\n",
       "  </thead>\n",
       "  <tbody>\n",
       "    <tr>\n",
       "      <th>2020-03-18</th>\n",
       "      <td>38</td>\n",
       "    </tr>\n",
       "    <tr>\n",
       "      <th>2020-03-19</th>\n",
       "      <td>50</td>\n",
       "    </tr>\n",
       "    <tr>\n",
       "      <th>2020-03-20</th>\n",
       "      <td>14</td>\n",
       "    </tr>\n",
       "    <tr>\n",
       "      <th>2020-03-21</th>\n",
       "      <td>44</td>\n",
       "    </tr>\n",
       "    <tr>\n",
       "      <th>2020-03-22</th>\n",
       "      <td>36</td>\n",
       "    </tr>\n",
       "  </tbody>\n",
       "</table>\n",
       "</div>"
      ],
      "text/plain": [
       "            case\n",
       "date            \n",
       "2020-03-18    38\n",
       "2020-03-19    50\n",
       "2020-03-20    14\n",
       "2020-03-21    44\n",
       "2020-03-22    36"
      ]
     },
     "execution_count": 6,
     "metadata": {},
     "output_type": "execute_result"
    }
   ],
   "source": [
    "case['date'] = case['date'].astype('datetime64[ns]')\n",
    "case.set_index('date', inplace=True)\n",
    "case.head()"
   ]
  },
  {
   "cell_type": "code",
   "execution_count": 7,
   "metadata": {},
   "outputs": [],
   "source": [
    "# Ambil data untuk evaluasi\n",
    "data_evaluasi = case[413:]"
   ]
  },
  {
   "cell_type": "code",
   "execution_count": 8,
   "metadata": {},
   "outputs": [],
   "source": [
    "decompose = seasonal_decompose(case, model='additive', extrapolate_trend='freq')"
   ]
  },
  {
   "cell_type": "code",
   "execution_count": 9,
   "metadata": {},
   "outputs": [
    {
     "data": {
      "image/png": "[encoded data removed]",
      "text/plain": [
       "<Figure size 432x288 with 1 Axes>"
      ]
     },
     "metadata": {
      "needs_background": "light"
     },
     "output_type": "display_data"
    }
   ],
   "source": [
    "decompose.seasonal.plot()\n",
    "plt.show()"
   ]
  },
  {
   "cell_type": "code",
   "execution_count": 10,
   "metadata": {},
   "outputs": [
    {
     "data": {
      "image/png": "[encoded data removed]",
      "text/plain": [
       "<Figure size 432x288 with 1 Axes>"
      ]
     },
     "metadata": {
      "needs_background": "light"
     },
     "output_type": "display_data"
    }
   ],
   "source": [
    "decompose.trend.plot()\n",
    "plt.show()"
   ]
  },
  {
   "cell_type": "code",
   "execution_count": 11,
   "metadata": {},
   "outputs": [
    {
     "data": {
      "image/png": "[encoded data removed]",
      "text/plain": [
       "<Figure size 432x288 with 1 Axes>"
      ]
     },
     "metadata": {
      "needs_background": "light"
     },
     "output_type": "display_data"
    }
   ],
   "source": [
    "decompose.resid.plot()\n",
    "plt.show()"
   ]
  },
  {
   "cell_type": "code",
   "execution_count": 12,
   "metadata": {},
   "outputs": [],
   "source": [
    "trend = decompose.trend\n",
    "seasonal = decompose.seasonal\n",
    "residual = decompose.resid\n",
    "actual = decompose.observed"
   ]
  },
  {
   "cell_type": "code",
   "execution_count": 13,
   "metadata": {},
   "outputs": [],
   "source": [
    "new_trend = trend.to_frame()\n",
    "new_seasonal = seasonal.to_frame()\n",
    "new_residual = residual.to_frame()\n",
    "new_actual = actual.to_frame()"
   ]
  },
  {
   "cell_type": "code",
   "execution_count": 14,
   "metadata": {},
   "outputs": [],
   "source": [
    "# Split data ARIMA\n",
    "train_ARIMA = new_trend[:412]\n",
    "test_ARIMA = new_trend[412:]"
   ]
  },
  {
   "cell_type": "code",
   "execution_count": 15,
   "metadata": {},
   "outputs": [
    {
     "name": "stderr",
     "output_type": "stream",
     "text": [
      "C:\\ProgramData\\Anaconda3\\envs\\Forecatsing\\lib\\site-packages\\statsmodels\\tsa\\base\\tsa_model.py:527: ValueWarning: No frequency information was provided, so inferred frequency D will be used.\n",
      "  % freq, ValueWarning)\n",
      "C:\\ProgramData\\Anaconda3\\envs\\Forecatsing\\lib\\site-packages\\statsmodels\\tsa\\base\\tsa_model.py:527: ValueWarning: No frequency information was provided, so inferred frequency D will be used.\n",
      "  % freq, ValueWarning)\n",
      "C:\\ProgramData\\Anaconda3\\envs\\Forecatsing\\lib\\site-packages\\statsmodels\\tsa\\base\\tsa_model.py:527: ValueWarning: No frequency information was provided, so inferred frequency D will be used.\n",
      "  % freq, ValueWarning)\n"
     ]
    }
   ],
   "source": [
    "model = ARIMA(train_ARIMA, order=(2,0,1))\n",
    "model_fit = model.fit()"
   ]
  },
  {
   "cell_type": "code",
   "execution_count": 16,
   "metadata": {},
   "outputs": [
    {
     "name": "stdout",
     "output_type": "stream",
     "text": [
      "                               SARIMAX Results                                \n",
      "==============================================================================\n",
      "Dep. Variable:                  trend   No. Observations:                  412\n",
      "Model:                 ARIMA(2, 0, 1)   Log Likelihood               -2203.667\n",
      "Date:                Tue, 14 Sep 2021   AIC                           4417.334\n",
      "Time:                        12:41:08   BIC                           4437.439\n",
      "Sample:                    03-18-2020   HQIC                          4425.287\n",
      "                         - 05-03-2021                                         \n",
      "Covariance Type:                  opg                                         \n",
      "==============================================================================\n",
      "                 coef    std err          z      P>|z|      [0.025      0.975]\n",
      "------------------------------------------------------------------------------\n",
      "const        997.2644    569.026      1.753      0.080    -118.006    2112.534\n",
      "ar.L1          1.7395      0.034     51.455      0.000       1.673       1.806\n",
      "ar.L2         -0.7420      0.034    -22.001      0.000      -0.808      -0.676\n",
      "ma.L1         -0.4084      0.046     -8.883      0.000      -0.499      -0.318\n",
      "sigma2      2553.7948     90.769     28.135      0.000    2375.890    2731.699\n",
      "===================================================================================\n",
      "Ljung-Box (L1) (Q):                   0.08   Jarque-Bera (JB):               688.84\n",
      "Prob(Q):                              0.77   Prob(JB):                         0.00\n",
      "Heteroskedasticity (H):              60.64   Skew:                            -0.30\n",
      "Prob(H) (two-sided):                  0.00   Kurtosis:                         9.31\n",
      "===================================================================================\n",
      "\n",
      "Warnings:\n",
      "[1] Covariance matrix calculated using the outer product of gradients (complex-step).\n"
     ]
    }
   ],
   "source": [
    "print(model_fit.summary())"
   ]
  },
  {
   "cell_type": "code",
   "execution_count": 17,
   "metadata": {},
   "outputs": [],
   "source": [
    "hasil = model_fit.forecast(10)"
   ]
  },
  {
   "cell_type": "code",
   "execution_count": 18,
   "metadata": {},
   "outputs": [
    {
     "data": {
      "text/plain": [
       "2021-05-04    785.700668\n",
       "2021-05-05    787.074250\n",
       "2021-05-06    788.625656\n",
       "2021-05-07    790.305075\n",
       "2021-05-08    792.075229\n",
       "Freq: D, Name: predicted_mean, dtype: float64"
      ]
     },
     "execution_count": 18,
     "metadata": {},
     "output_type": "execute_result"
    }
   ],
   "source": [
    "hasil.head()"
   ]
  },
  {
   "cell_type": "code",
   "execution_count": 19,
   "metadata": {},
   "outputs": [],
   "source": [
    "new_seasonal.reset_index(drop=True, inplace=True)\n",
    "seasonal_data = pd.concat([new_date, new_seasonal], axis=1)\n",
    "seasonal_data.set_index('date', inplace=True)\n",
    "\n",
    "new_residual.reset_index(drop=True, inplace=True)\n",
    "residual_data = pd.concat([new_date, new_residual], axis=1)\n",
    "residual_data.set_index('date', inplace=True)"
   ]
  },
  {
   "cell_type": "code",
   "execution_count": 20,
   "metadata": {},
   "outputs": [
    {
     "data": {
      "text/html": [
       "<div>\n",
       "<style scoped>\n",
       "    .dataframe tbody tr th:only-of-type {\n",
       "        vertical-align: middle;\n",
       "    }\n",
       "\n",
       "    .dataframe tbody tr th {\n",
       "        vertical-align: top;\n",
       "    }\n",
       "\n",
       "    .dataframe thead th {\n",
       "        text-align: right;\n",
       "    }\n",
       "</style>\n",
       "<table border=\"1\" class=\"dataframe\">\n",
       "  <thead>\n",
       "    <tr style=\"text-align: right;\">\n",
       "      <th></th>\n",
       "      <th>seasonal</th>\n",
       "    </tr>\n",
       "    <tr>\n",
       "      <th>date</th>\n",
       "      <th></th>\n",
       "    </tr>\n",
       "  </thead>\n",
       "  <tbody>\n",
       "    <tr>\n",
       "      <th>2020-03-18</th>\n",
       "      <td>-40.116647</td>\n",
       "    </tr>\n",
       "    <tr>\n",
       "      <th>2020-03-19</th>\n",
       "      <td>39.596803</td>\n",
       "    </tr>\n",
       "    <tr>\n",
       "      <th>2020-03-20</th>\n",
       "      <td>46.139292</td>\n",
       "    </tr>\n",
       "    <tr>\n",
       "      <th>2020-03-21</th>\n",
       "      <td>71.891567</td>\n",
       "    </tr>\n",
       "    <tr>\n",
       "      <th>2020-03-22</th>\n",
       "      <td>84.486805</td>\n",
       "    </tr>\n",
       "  </tbody>\n",
       "</table>\n",
       "</div>"
      ],
      "text/plain": [
       "             seasonal\n",
       "date                 \n",
       "2020-03-18 -40.116647\n",
       "2020-03-19  39.596803\n",
       "2020-03-20  46.139292\n",
       "2020-03-21  71.891567\n",
       "2020-03-22  84.486805"
      ]
     },
     "execution_count": 20,
     "metadata": {},
     "output_type": "execute_result"
    }
   ],
   "source": [
    "seasonal_data.head()"
   ]
  },
  {
   "cell_type": "code",
   "execution_count": 21,
   "metadata": {},
   "outputs": [
    {
     "data": {
      "text/html": [
       "<div>\n",
       "<style scoped>\n",
       "    .dataframe tbody tr th:only-of-type {\n",
       "        vertical-align: middle;\n",
       "    }\n",
       "\n",
       "    .dataframe tbody tr th {\n",
       "        vertical-align: top;\n",
       "    }\n",
       "\n",
       "    .dataframe thead th {\n",
       "        text-align: right;\n",
       "    }\n",
       "</style>\n",
       "<table border=\"1\" class=\"dataframe\">\n",
       "  <thead>\n",
       "    <tr style=\"text-align: right;\">\n",
       "      <th></th>\n",
       "      <th>resid</th>\n",
       "    </tr>\n",
       "    <tr>\n",
       "      <th>date</th>\n",
       "      <th></th>\n",
       "    </tr>\n",
       "  </thead>\n",
       "  <tbody>\n",
       "    <tr>\n",
       "      <th>2020-03-18</th>\n",
       "      <td>42.177871</td>\n",
       "    </tr>\n",
       "    <tr>\n",
       "      <th>2020-03-19</th>\n",
       "      <td>-27.596803</td>\n",
       "    </tr>\n",
       "    <tr>\n",
       "      <th>2020-03-20</th>\n",
       "      <td>-72.200516</td>\n",
       "    </tr>\n",
       "    <tr>\n",
       "      <th>2020-03-21</th>\n",
       "      <td>-71.320138</td>\n",
       "    </tr>\n",
       "    <tr>\n",
       "      <th>2020-03-22</th>\n",
       "      <td>-93.058233</td>\n",
       "    </tr>\n",
       "  </tbody>\n",
       "</table>\n",
       "</div>"
      ],
      "text/plain": [
       "                resid\n",
       "date                 \n",
       "2020-03-18  42.177871\n",
       "2020-03-19 -27.596803\n",
       "2020-03-20 -72.200516\n",
       "2020-03-21 -71.320138\n",
       "2020-03-22 -93.058233"
      ]
     },
     "execution_count": 21,
     "metadata": {},
     "output_type": "execute_result"
    }
   ],
   "source": [
    "residual_data.head()"
   ]
  },
  {
   "cell_type": "code",
   "execution_count": 22,
   "metadata": {},
   "outputs": [],
   "source": [
    "data_seasonal = pd.concat([seasonal_data, new_weather, mobility], axis=1)\n",
    "\n",
    "data_residual = pd.concat([residual_data, new_weather, mobility], axis=1)"
   ]
  },
  {
   "cell_type": "code",
   "execution_count": 23,
   "metadata": {},
   "outputs": [],
   "source": [
    "# frame as supervised learning\n",
    "reframed_seasonal = series_to_supervised(data_seasonal, 1, 1)\n",
    "reframed_residual = series_to_supervised(data_residual, 1, 1)"
   ]
  },
  {
   "cell_type": "code",
   "execution_count": 24,
   "metadata": {},
   "outputs": [],
   "source": [
    "# drop columns we don't want to predict\n",
    "reframed_seasonal.drop(reframed_seasonal.columns[[12,13,14,15,16,17,18,19,20,21]], axis=1, inplace=True)\n",
    "reframed_residual.drop(reframed_residual.columns[[12,13,14,15,16,17,18,19,20,21]], axis=1, inplace=True)"
   ]
  },
  {
   "cell_type": "code",
   "execution_count": 25,
   "metadata": {},
   "outputs": [],
   "source": [
    "# split into train and test sets\n",
    "values_seasonal= reframed_seasonal.values\n",
    "values_residual= reframed_residual.values\n",
    "\n",
    "#n_total = round((values.shape[0])*80/100)\n",
    "n_total = 412\n",
    "\n",
    "\n",
    "train_seasonal = values_seasonal[:n_total, :]\n",
    "test_seasonal = values_seasonal[n_total:, :]\n",
    "\n",
    "train_residual = values_residual[:n_total, :]\n",
    "test_residual = values_residual[n_total:, :]\n",
    "\n",
    "# split into input and outputs\n",
    "seasonal_train_X, seasonal_train_y = train_seasonal[:, :-1], train_seasonal[:, -1]\n",
    "seasonal_test_X, seasonal_test_y = test_seasonal[:, :-1], test_seasonal[:, -1]\n",
    "\n",
    "residual_train_X, residual_train_y = train_residual[:, :-1], train_residual[:, -1]\n",
    "residual_test_X, residual_test_y = test_residual[:, :-1], test_residual[:, -1]\n",
    "\n",
    "# reshape input to be 3D [samples, timesteps, features]\n",
    "seasonal_train_X = seasonal_train_X.reshape((seasonal_train_X.shape[0], 1, seasonal_train_X.shape[1]))\n",
    "seasonal_test_X = seasonal_test_X.reshape((seasonal_test_X.shape[0], 1, seasonal_test_X.shape[1]))\n",
    "\n",
    "residual_train_X = residual_train_X.reshape((residual_train_X.shape[0], 1, residual_train_X.shape[1]))\n",
    "residual_test_X = residual_test_X.reshape((residual_test_X.shape[0], 1, residual_test_X.shape[1]))\n",
    "\n",
    "\n",
    "#print(train_X.shape, train_y.shape, test_X.shape, test_y.shape)\n"
   ]
  },
  {
   "cell_type": "code",
   "execution_count": 26,
   "metadata": {},
   "outputs": [
    {
     "name": "stdout",
     "output_type": "stream",
     "text": [
      "Epoch 1/100\n",
      "83/83 - 2s - loss: 68.7472 - val_loss: 59.8253\n",
      "Epoch 2/100\n",
      "83/83 - 0s - loss: 68.0201 - val_loss: 59.1537\n",
      "Epoch 3/100\n",
      "83/83 - 0s - loss: 67.4282 - val_loss: 58.5061\n",
      "Epoch 4/100\n",
      "83/83 - 0s - loss: 66.7781 - val_loss: 57.6547\n",
      "Epoch 5/100\n",
      "83/83 - 0s - loss: 66.0213 - val_loss: 56.9861\n",
      "Epoch 6/100\n",
      "83/83 - 0s - loss: 65.4149 - val_loss: 56.3580\n",
      "Epoch 7/100\n",
      "83/83 - 0s - loss: 64.7793 - val_loss: 55.6843\n",
      "Epoch 8/100\n",
      "83/83 - 0s - loss: 64.1646 - val_loss: 55.0111\n",
      "Epoch 9/100\n",
      "83/83 - 0s - loss: 63.4950 - val_loss: 54.5104\n",
      "Epoch 10/100\n",
      "83/83 - 0s - loss: 62.8263 - val_loss: 53.8718\n",
      "Epoch 11/100\n",
      "83/83 - 0s - loss: 62.2318 - val_loss: 53.2730\n",
      "Epoch 12/100\n",
      "83/83 - 0s - loss: 61.5449 - val_loss: 52.7198\n",
      "Epoch 13/100\n",
      "83/83 - 0s - loss: 60.8003 - val_loss: 52.1667\n",
      "Epoch 14/100\n",
      "83/83 - 0s - loss: 60.1359 - val_loss: 51.5689\n",
      "Epoch 15/100\n",
      "83/83 - 0s - loss: 59.4787 - val_loss: 50.9918\n",
      "Epoch 16/100\n",
      "83/83 - 0s - loss: 58.8339 - val_loss: 50.4713\n",
      "Epoch 17/100\n",
      "83/83 - 0s - loss: 58.1305 - val_loss: 49.8141\n",
      "Epoch 18/100\n",
      "83/83 - 0s - loss: 57.4618 - val_loss: 49.2759\n",
      "Epoch 19/100\n",
      "83/83 - 0s - loss: 56.8056 - val_loss: 48.6867\n",
      "Epoch 20/100\n",
      "83/83 - 0s - loss: 56.1436 - val_loss: 48.1399\n",
      "Epoch 21/100\n",
      "83/83 - 0s - loss: 55.4799 - val_loss: 47.5654\n",
      "Epoch 22/100\n",
      "83/83 - 0s - loss: 54.8232 - val_loss: 47.0208\n",
      "Epoch 23/100\n",
      "83/83 - 0s - loss: 54.1543 - val_loss: 46.4975\n",
      "Epoch 24/100\n",
      "83/83 - 0s - loss: 53.5008 - val_loss: 45.9750\n",
      "Epoch 25/100\n",
      "83/83 - 0s - loss: 52.8435 - val_loss: 45.4771\n",
      "Epoch 26/100\n",
      "83/83 - 0s - loss: 52.1842 - val_loss: 44.8993\n",
      "Epoch 27/100\n",
      "83/83 - 0s - loss: 51.4795 - val_loss: 44.3234\n",
      "Epoch 28/100\n",
      "83/83 - 0s - loss: 50.8118 - val_loss: 44.1459\n",
      "Epoch 29/100\n",
      "83/83 - 0s - loss: 50.1533 - val_loss: 43.6527\n",
      "Epoch 30/100\n",
      "83/83 - 0s - loss: 49.4198 - val_loss: 43.1585\n",
      "Epoch 31/100\n",
      "83/83 - 0s - loss: 48.7175 - val_loss: 42.6187\n",
      "Epoch 32/100\n",
      "83/83 - 0s - loss: 48.0706 - val_loss: 42.0169\n",
      "Epoch 33/100\n",
      "83/83 - 0s - loss: 47.3493 - val_loss: 41.5874\n",
      "Epoch 34/100\n",
      "83/83 - 0s - loss: 46.7072 - val_loss: 41.0118\n",
      "Epoch 35/100\n",
      "83/83 - 0s - loss: 46.0245 - val_loss: 40.5736\n",
      "Epoch 36/100\n",
      "83/83 - 0s - loss: 45.3518 - val_loss: 39.8981\n",
      "Epoch 37/100\n",
      "83/83 - 0s - loss: 44.5537 - val_loss: 39.4250\n",
      "Epoch 38/100\n",
      "83/83 - 0s - loss: 43.8586 - val_loss: 38.8851\n",
      "Epoch 39/100\n",
      "83/83 - 0s - loss: 43.1694 - val_loss: 38.1581\n",
      "Epoch 40/100\n",
      "83/83 - 0s - loss: 42.3445 - val_loss: 37.7171\n",
      "Epoch 41/100\n",
      "83/83 - 0s - loss: 41.7874 - val_loss: 37.2863\n",
      "Epoch 42/100\n",
      "83/83 - 0s - loss: 41.4516 - val_loss: 37.3626\n",
      "Epoch 43/100\n",
      "83/83 - 0s - loss: 41.3387 - val_loss: 37.4242\n",
      "Epoch 44/100\n",
      "83/83 - 0s - loss: 41.2668 - val_loss: 37.4813\n",
      "Epoch 45/100\n",
      "83/83 - 0s - loss: 41.0594 - val_loss: 37.6296\n",
      "Epoch 46/100\n",
      "83/83 - 0s - loss: 40.9072 - val_loss: 37.4882\n",
      "Epoch 47/100\n",
      "83/83 - 0s - loss: 40.7129 - val_loss: 37.6879\n",
      "Epoch 48/100\n",
      "83/83 - 0s - loss: 40.4959 - val_loss: 37.4791\n",
      "Epoch 49/100\n",
      "83/83 - 0s - loss: 40.3538 - val_loss: 37.4045\n",
      "Epoch 50/100\n",
      "83/83 - 0s - loss: 40.2370 - val_loss: 37.5333\n",
      "Epoch 51/100\n",
      "83/83 - 0s - loss: 40.1059 - val_loss: 37.6695\n",
      "Epoch 52/100\n",
      "83/83 - 0s - loss: 39.9499 - val_loss: 37.8201\n",
      "Epoch 53/100\n",
      "83/83 - 0s - loss: 39.8069 - val_loss: 37.8782\n",
      "Epoch 54/100\n",
      "83/83 - 0s - loss: 39.6587 - val_loss: 37.9333\n",
      "Epoch 55/100\n",
      "83/83 - 0s - loss: 39.4989 - val_loss: 37.9762\n",
      "Epoch 56/100\n",
      "83/83 - 0s - loss: 39.3513 - val_loss: 38.0270\n",
      "Epoch 57/100\n",
      "83/83 - 0s - loss: 39.2048 - val_loss: 38.0014\n",
      "Epoch 58/100\n",
      "83/83 - 0s - loss: 39.0396 - val_loss: 37.9591\n",
      "Epoch 59/100\n",
      "83/83 - 0s - loss: 38.8987 - val_loss: 38.0735\n",
      "Epoch 60/100\n",
      "83/83 - 0s - loss: 38.7585 - val_loss: 38.1244\n",
      "Epoch 61/100\n",
      "83/83 - 0s - loss: 38.6067 - val_loss: 38.1561\n",
      "Epoch 62/100\n",
      "83/83 - 0s - loss: 38.3873 - val_loss: 37.8738\n",
      "Epoch 63/100\n",
      "83/83 - 0s - loss: 38.1867 - val_loss: 37.9193\n",
      "Epoch 64/100\n",
      "83/83 - 0s - loss: 38.0743 - val_loss: 38.0889\n",
      "Epoch 65/100\n",
      "83/83 - 0s - loss: 37.8671 - val_loss: 38.0733\n",
      "Epoch 66/100\n",
      "83/83 - 0s - loss: 37.7396 - val_loss: 38.0968\n",
      "Epoch 67/100\n",
      "83/83 - 0s - loss: 37.5519 - val_loss: 38.1985\n",
      "Epoch 68/100\n",
      "83/83 - 0s - loss: 37.3940 - val_loss: 38.3215\n",
      "Epoch 69/100\n",
      "83/83 - 0s - loss: 37.2959 - val_loss: 38.1753\n",
      "Epoch 70/100\n",
      "83/83 - 0s - loss: 37.2087 - val_loss: 38.2049\n",
      "Epoch 71/100\n",
      "83/83 - 0s - loss: 37.1318 - val_loss: 38.4494\n",
      "Epoch 72/100\n",
      "83/83 - 0s - loss: 37.0311 - val_loss: 38.2691\n",
      "Epoch 73/100\n",
      "83/83 - 0s - loss: 36.9987 - val_loss: 38.3166\n",
      "Epoch 74/100\n",
      "83/83 - 0s - loss: 36.8829 - val_loss: 38.4484\n",
      "Epoch 75/100\n",
      "83/83 - 0s - loss: 36.8213 - val_loss: 38.1152\n",
      "Epoch 76/100\n",
      "83/83 - 0s - loss: 36.6161 - val_loss: 37.7107\n",
      "Epoch 77/100\n",
      "83/83 - 0s - loss: 36.4235 - val_loss: 38.1096\n",
      "Epoch 78/100\n",
      "83/83 - 0s - loss: 36.3704 - val_loss: 37.7868\n",
      "Epoch 79/100\n",
      "83/83 - 0s - loss: 36.1779 - val_loss: 38.0531\n",
      "Epoch 80/100\n",
      "83/83 - 0s - loss: 36.0122 - val_loss: 38.1977\n",
      "Epoch 81/100\n",
      "83/83 - 0s - loss: 35.9638 - val_loss: 37.7609\n",
      "Epoch 82/100\n",
      "83/83 - 0s - loss: 35.8222 - val_loss: 38.1803\n",
      "Epoch 83/100\n",
      "83/83 - 0s - loss: 35.6973 - val_loss: 38.2652\n",
      "Epoch 84/100\n",
      "83/83 - 0s - loss: 35.6162 - val_loss: 38.3589\n",
      "Epoch 85/100\n",
      "83/83 - 0s - loss: 35.4920 - val_loss: 38.3181\n",
      "Epoch 86/100\n",
      "83/83 - 0s - loss: 35.1801 - val_loss: 37.7233\n",
      "Epoch 87/100\n",
      "83/83 - 0s - loss: 35.0896 - val_loss: 37.7181\n",
      "Epoch 88/100\n",
      "83/83 - 0s - loss: 34.9467 - val_loss: 37.6698\n",
      "Epoch 89/100\n",
      "83/83 - 0s - loss: 34.7341 - val_loss: 37.7071\n",
      "Epoch 90/100\n",
      "83/83 - 0s - loss: 34.6397 - val_loss: 37.6957\n",
      "Epoch 91/100\n",
      "83/83 - 0s - loss: 34.4929 - val_loss: 37.6501\n",
      "Epoch 92/100\n",
      "83/83 - 0s - loss: 34.2891 - val_loss: 37.3522\n",
      "Epoch 93/100\n",
      "83/83 - 0s - loss: 34.3002 - val_loss: 37.7066\n",
      "Epoch 94/100\n",
      "83/83 - 0s - loss: 34.1325 - val_loss: 37.6869\n",
      "Epoch 95/100\n",
      "83/83 - 0s - loss: 34.0869 - val_loss: 37.6833\n",
      "Epoch 96/100\n",
      "83/83 - 0s - loss: 34.0457 - val_loss: 37.6657\n",
      "Epoch 97/100\n",
      "83/83 - 0s - loss: 33.9525 - val_loss: 37.6173\n",
      "Epoch 98/100\n",
      "83/83 - 0s - loss: 33.7048 - val_loss: 37.1760\n",
      "Epoch 99/100\n",
      "83/83 - 0s - loss: 33.6443 - val_loss: 36.9838\n",
      "Epoch 100/100\n",
      "83/83 - 0s - loss: 33.5301 - val_loss: 36.9202\n"
     ]
    },
    {
     "data": {
      "image/png": "[encoded data removed]",
      "text/plain": [
       "<Figure size 432x288 with 1 Axes>"
      ]
     },
     "metadata": {
      "needs_background": "light"
     },
     "output_type": "display_data"
    }
   ],
   "source": [
    "# LSTM model untuk seasonal\n",
    "model1 = Sequential()\n",
    "model1.add(LSTM(50, input_shape=(seasonal_train_X.shape[1], seasonal_train_X.shape[2])))\n",
    "model1.add(Dense(1))\n",
    "model1.compile(loss='mae', optimizer='adam')\n",
    "# fit network\n",
    "history = model1.fit(seasonal_train_X, seasonal_train_y, epochs=100, batch_size=5, validation_data=(seasonal_test_X, seasonal_test_y), verbose=2, shuffle=False)\n",
    "# plot history\n",
    "plt.plot(history.history['loss'], label='train')\n",
    "plt.plot(history.history['val_loss'], label='test')\n",
    "plt.legend()\n",
    "plt.show()"
   ]
  },
  {
   "cell_type": "code",
   "execution_count": 27,
   "metadata": {},
   "outputs": [
    {
     "data": {
      "text/plain": [
       "array([[-4.0100739e+01],\n",
       "       [ 3.4631133e+00],\n",
       "       [ 5.0864208e+01],\n",
       "       [ 6.8790077e+01],\n",
       "       [ 7.4515755e+01],\n",
       "       [ 6.8610641e+01],\n",
       "       [-1.2353897e-02],\n",
       "       [-4.0094891e+01],\n",
       "       [ 2.0824912e+00],\n",
       "       [ 5.3262119e+01]], dtype=float32)"
      ]
     },
     "execution_count": 27,
     "metadata": {},
     "output_type": "execute_result"
    }
   ],
   "source": [
    "# make a prediction\n",
    "yhat_seasonality = model1.predict(seasonal_test_X)\n",
    "yhat_seasonality"
   ]
  },
  {
   "cell_type": "code",
   "execution_count": 28,
   "metadata": {},
   "outputs": [
    {
     "name": "stdout",
     "output_type": "stream",
     "text": [
      "Epoch 1/100\n",
      "83/83 - 1s - loss: 151.7433 - val_loss: 64.8104\n",
      "Epoch 2/100\n",
      "83/83 - 0s - loss: 151.6497 - val_loss: 64.9596\n",
      "Epoch 3/100\n",
      "83/83 - 0s - loss: 151.5842 - val_loss: 64.9421\n",
      "Epoch 4/100\n",
      "83/83 - 0s - loss: 151.5638 - val_loss: 65.0900\n",
      "Epoch 5/100\n",
      "83/83 - 0s - loss: 151.5101 - val_loss: 65.1915\n",
      "Epoch 6/100\n",
      "83/83 - 0s - loss: 151.4560 - val_loss: 65.3167\n",
      "Epoch 7/100\n",
      "83/83 - 0s - loss: 151.4098 - val_loss: 65.4059\n",
      "Epoch 8/100\n",
      "83/83 - 0s - loss: 151.3625 - val_loss: 65.5222\n",
      "Epoch 9/100\n",
      "83/83 - 0s - loss: 151.3139 - val_loss: 65.5976\n",
      "Epoch 10/100\n",
      "83/83 - 0s - loss: 151.2713 - val_loss: 65.6644\n",
      "Epoch 11/100\n",
      "83/83 - 0s - loss: 151.2124 - val_loss: 65.7913\n",
      "Epoch 12/100\n",
      "83/83 - 0s - loss: 151.1635 - val_loss: 65.9306\n",
      "Epoch 13/100\n",
      "83/83 - 0s - loss: 151.0943 - val_loss: 65.8749\n",
      "Epoch 14/100\n",
      "83/83 - 0s - loss: 151.0547 - val_loss: 65.9382\n",
      "Epoch 15/100\n",
      "83/83 - 0s - loss: 150.9876 - val_loss: 66.1215\n",
      "Epoch 16/100\n",
      "83/83 - 0s - loss: 150.9252 - val_loss: 66.1924\n",
      "Epoch 17/100\n",
      "83/83 - 0s - loss: 150.9151 - val_loss: 66.2022\n",
      "Epoch 18/100\n",
      "83/83 - 0s - loss: 150.8589 - val_loss: 66.2357\n",
      "Epoch 19/100\n",
      "83/83 - 0s - loss: 150.7982 - val_loss: 66.1650\n",
      "Epoch 20/100\n",
      "83/83 - 0s - loss: 150.7552 - val_loss: 66.1975\n",
      "Epoch 21/100\n",
      "83/83 - 0s - loss: 150.6777 - val_loss: 66.1681\n",
      "Epoch 22/100\n",
      "83/83 - 0s - loss: 150.6319 - val_loss: 66.2052\n",
      "Epoch 23/100\n",
      "83/83 - 0s - loss: 150.5806 - val_loss: 66.4040\n",
      "Epoch 24/100\n",
      "83/83 - 0s - loss: 150.5196 - val_loss: 66.3757\n",
      "Epoch 25/100\n",
      "83/83 - 0s - loss: 150.4990 - val_loss: 66.4945\n",
      "Epoch 26/100\n",
      "83/83 - 0s - loss: 150.4557 - val_loss: 66.5744\n",
      "Epoch 27/100\n",
      "83/83 - 0s - loss: 150.3647 - val_loss: 66.4631\n",
      "Epoch 28/100\n",
      "83/83 - 0s - loss: 150.3825 - val_loss: 66.7341\n",
      "Epoch 29/100\n",
      "83/83 - 0s - loss: 150.2935 - val_loss: 66.9702\n",
      "Epoch 30/100\n",
      "83/83 - 0s - loss: 150.1987 - val_loss: 66.7276\n",
      "Epoch 31/100\n",
      "83/83 - 0s - loss: 150.1971 - val_loss: 66.8638\n",
      "Epoch 32/100\n",
      "83/83 - 0s - loss: 150.1253 - val_loss: 66.7714\n",
      "Epoch 33/100\n",
      "83/83 - 0s - loss: 150.0860 - val_loss: 66.8694\n",
      "Epoch 34/100\n",
      "83/83 - 0s - loss: 150.0237 - val_loss: 66.8438\n",
      "Epoch 35/100\n",
      "83/83 - 0s - loss: 150.0057 - val_loss: 67.2157\n",
      "Epoch 36/100\n",
      "83/83 - 0s - loss: 149.9562 - val_loss: 67.1606\n",
      "Epoch 37/100\n",
      "83/83 - 0s - loss: 149.8928 - val_loss: 67.3586\n",
      "Epoch 38/100\n",
      "83/83 - 0s - loss: 149.8777 - val_loss: 67.3743\n",
      "Epoch 39/100\n",
      "83/83 - 0s - loss: 149.8075 - val_loss: 67.4217\n",
      "Epoch 40/100\n",
      "83/83 - 0s - loss: 149.7601 - val_loss: 67.2642\n",
      "Epoch 41/100\n",
      "83/83 - 0s - loss: 149.6997 - val_loss: 67.3594\n",
      "Epoch 42/100\n",
      "83/83 - 0s - loss: 149.6839 - val_loss: 67.7625\n",
      "Epoch 43/100\n",
      "83/83 - 0s - loss: 149.6465 - val_loss: 67.7058\n",
      "Epoch 44/100\n",
      "83/83 - 0s - loss: 149.6132 - val_loss: 67.8471\n",
      "Epoch 45/100\n",
      "83/83 - 0s - loss: 149.5610 - val_loss: 67.7183\n",
      "Epoch 46/100\n",
      "83/83 - 0s - loss: 149.5280 - val_loss: 67.7320\n",
      "Epoch 47/100\n",
      "83/83 - 0s - loss: 149.5010 - val_loss: 67.8737\n",
      "Epoch 48/100\n",
      "83/83 - 0s - loss: 149.4515 - val_loss: 67.7825\n",
      "Epoch 49/100\n",
      "83/83 - 0s - loss: 149.3991 - val_loss: 67.7780\n",
      "Epoch 50/100\n",
      "83/83 - 0s - loss: 149.3281 - val_loss: 68.0203\n",
      "Epoch 51/100\n",
      "83/83 - 0s - loss: 149.3066 - val_loss: 67.9112\n",
      "Epoch 52/100\n",
      "83/83 - 0s - loss: 149.2356 - val_loss: 68.2266\n",
      "Epoch 53/100\n",
      "83/83 - 0s - loss: 149.2499 - val_loss: 68.3245\n",
      "Epoch 54/100\n",
      "83/83 - 0s - loss: 149.1549 - val_loss: 68.0066\n",
      "Epoch 55/100\n",
      "83/83 - 0s - loss: 149.1356 - val_loss: 68.0021\n",
      "Epoch 56/100\n",
      "83/83 - 0s - loss: 149.1072 - val_loss: 68.3896\n",
      "Epoch 57/100\n",
      "83/83 - 0s - loss: 149.0763 - val_loss: 68.3328\n",
      "Epoch 58/100\n",
      "83/83 - 0s - loss: 149.0084 - val_loss: 67.9103\n",
      "Epoch 59/100\n",
      "83/83 - 0s - loss: 148.9950 - val_loss: 68.3455\n",
      "Epoch 60/100\n",
      "83/83 - 0s - loss: 148.9858 - val_loss: 68.5837\n",
      "Epoch 61/100\n",
      "83/83 - 0s - loss: 148.9260 - val_loss: 68.1607\n",
      "Epoch 62/100\n",
      "83/83 - 0s - loss: 148.8698 - val_loss: 68.5860\n",
      "Epoch 63/100\n",
      "83/83 - 0s - loss: 148.7807 - val_loss: 68.7632\n",
      "Epoch 64/100\n",
      "83/83 - 0s - loss: 148.8296 - val_loss: 68.3582\n",
      "Epoch 65/100\n",
      "83/83 - 0s - loss: 148.6873 - val_loss: 67.9507\n",
      "Epoch 66/100\n",
      "83/83 - 0s - loss: 148.6382 - val_loss: 68.1465\n",
      "Epoch 67/100\n",
      "83/83 - 0s - loss: 148.6033 - val_loss: 68.4223\n",
      "Epoch 68/100\n",
      "83/83 - 0s - loss: 148.5493 - val_loss: 68.6122\n",
      "Epoch 69/100\n",
      "83/83 - 0s - loss: 148.5307 - val_loss: 68.5819\n",
      "Epoch 70/100\n",
      "83/83 - 0s - loss: 148.5443 - val_loss: 68.4118\n",
      "Epoch 71/100\n",
      "83/83 - 0s - loss: 148.4577 - val_loss: 68.5524\n",
      "Epoch 72/100\n",
      "83/83 - 0s - loss: 148.4652 - val_loss: 68.3668\n",
      "Epoch 73/100\n",
      "83/83 - 0s - loss: 148.3766 - val_loss: 68.5226\n",
      "Epoch 74/100\n",
      "83/83 - 0s - loss: 148.3883 - val_loss: 67.8628\n",
      "Epoch 75/100\n",
      "83/83 - 0s - loss: 148.2916 - val_loss: 68.1894\n",
      "Epoch 76/100\n",
      "83/83 - 0s - loss: 148.2673 - val_loss: 68.7074\n",
      "Epoch 77/100\n",
      "83/83 - 0s - loss: 148.2660 - val_loss: 68.3039\n",
      "Epoch 78/100\n",
      "83/83 - 0s - loss: 148.1564 - val_loss: 68.9187\n",
      "Epoch 79/100\n",
      "83/83 - 0s - loss: 148.2128 - val_loss: 68.5079\n",
      "Epoch 80/100\n",
      "83/83 - 0s - loss: 148.1525 - val_loss: 68.7688\n",
      "Epoch 81/100\n",
      "83/83 - 0s - loss: 148.1015 - val_loss: 68.4916\n",
      "Epoch 82/100\n",
      "83/83 - 0s - loss: 148.1141 - val_loss: 68.9692\n",
      "Epoch 83/100\n",
      "83/83 - 0s - loss: 148.0108 - val_loss: 68.9047\n",
      "Epoch 84/100\n",
      "83/83 - 0s - loss: 148.0607 - val_loss: 68.9114\n",
      "Epoch 85/100\n",
      "83/83 - 0s - loss: 147.9629 - val_loss: 68.9703\n",
      "Epoch 86/100\n",
      "83/83 - 0s - loss: 147.9919 - val_loss: 69.1049\n",
      "Epoch 87/100\n",
      "83/83 - 0s - loss: 147.9061 - val_loss: 68.6198\n",
      "Epoch 88/100\n",
      "83/83 - 0s - loss: 147.9098 - val_loss: 69.5770\n",
      "Epoch 89/100\n",
      "83/83 - 0s - loss: 147.8416 - val_loss: 69.0376\n",
      "Epoch 90/100\n",
      "83/83 - 0s - loss: 147.8991 - val_loss: 69.3821\n",
      "Epoch 91/100\n",
      "83/83 - 0s - loss: 147.7898 - val_loss: 68.7734\n",
      "Epoch 92/100\n",
      "83/83 - 0s - loss: 147.7829 - val_loss: 69.7469\n",
      "Epoch 93/100\n",
      "83/83 - 0s - loss: 147.7467 - val_loss: 69.0134\n",
      "Epoch 94/100\n",
      "83/83 - 0s - loss: 147.7498 - val_loss: 69.4757\n",
      "Epoch 95/100\n",
      "83/83 - 0s - loss: 147.6682 - val_loss: 69.5174\n",
      "Epoch 96/100\n",
      "83/83 - 0s - loss: 147.7196 - val_loss: 69.7018\n",
      "Epoch 97/100\n",
      "83/83 - 0s - loss: 147.6113 - val_loss: 69.2403\n",
      "Epoch 98/100\n",
      "83/83 - 0s - loss: 147.6801 - val_loss: 69.2385\n",
      "Epoch 99/100\n",
      "83/83 - 0s - loss: 147.5667 - val_loss: 69.2354\n",
      "Epoch 100/100\n",
      "83/83 - 0s - loss: 147.5963 - val_loss: 69.4680\n"
     ]
    },
    {
     "data": {
      "image/png": "[encoded data removed]",
      "text/plain": [
       "<Figure size 432x288 with 1 Axes>"
      ]
     },
     "metadata": {
      "needs_background": "light"
     },
     "output_type": "display_data"
    }
   ],
   "source": [
    "# LSTM model untuk residual\n",
    "model2 = Sequential()\n",
    "model2.add(LSTM(50, input_shape=(residual_train_X.shape[1], residual_train_X.shape[2])))\n",
    "model2.add(Dense(1))\n",
    "model2.compile(loss='mae', optimizer='adam')\n",
    "# fit network\n",
    "history = model2.fit(residual_train_X, residual_train_y, epochs=100, batch_size=5, validation_data=(residual_test_X, residual_test_y), verbose=2, shuffle=False)\n",
    "# plot history\n",
    "plt.plot(history.history['loss'], label='train')\n",
    "plt.plot(history.history['val_loss'], label='test')\n",
    "plt.legend()\n",
    "plt.show()"
   ]
  },
  {
   "cell_type": "code",
   "execution_count": 29,
   "metadata": {
    "scrolled": true
   },
   "outputs": [
    {
     "data": {
      "text/plain": [
       "array([[ -0.721514],\n",
       "       [ 27.678627],\n",
       "       [ 27.381794],\n",
       "       [-17.55874 ],\n",
       "       [-17.247551],\n",
       "       [  2.137965],\n",
       "       [ 18.79297 ],\n",
       "       [-17.31351 ],\n",
       "       [ -9.548098],\n",
       "       [  4.477814]], dtype=float32)"
      ]
     },
     "execution_count": 29,
     "metadata": {},
     "output_type": "execute_result"
    }
   ],
   "source": [
    "# make a prediction\n",
    "yhat_residual = model2.predict(residual_test_X)\n",
    "yhat_residual"
   ]
  },
  {
   "cell_type": "code",
   "execution_count": 30,
   "metadata": {},
   "outputs": [
    {
     "data": {
      "text/html": [
       "<div>\n",
       "<style scoped>\n",
       "    .dataframe tbody tr th:only-of-type {\n",
       "        vertical-align: middle;\n",
       "    }\n",
       "\n",
       "    .dataframe tbody tr th {\n",
       "        vertical-align: top;\n",
       "    }\n",
       "\n",
       "    .dataframe thead th {\n",
       "        text-align: right;\n",
       "    }\n",
       "</style>\n",
       "<table border=\"1\" class=\"dataframe\">\n",
       "  <thead>\n",
       "    <tr style=\"text-align: right;\">\n",
       "      <th></th>\n",
       "      <th>case</th>\n",
       "    </tr>\n",
       "    <tr>\n",
       "      <th>date</th>\n",
       "      <th></th>\n",
       "    </tr>\n",
       "  </thead>\n",
       "  <tbody>\n",
       "    <tr>\n",
       "      <th>2021-05-04</th>\n",
       "      <td>416</td>\n",
       "    </tr>\n",
       "    <tr>\n",
       "      <th>2021-05-05</th>\n",
       "      <td>845</td>\n",
       "    </tr>\n",
       "    <tr>\n",
       "      <th>2021-05-06</th>\n",
       "      <td>905</td>\n",
       "    </tr>\n",
       "    <tr>\n",
       "      <th>2021-05-07</th>\n",
       "      <td>783</td>\n",
       "    </tr>\n",
       "    <tr>\n",
       "      <th>2021-05-08</th>\n",
       "      <td>732</td>\n",
       "    </tr>\n",
       "    <tr>\n",
       "      <th>2021-05-09</th>\n",
       "      <td>809</td>\n",
       "    </tr>\n",
       "    <tr>\n",
       "      <th>2021-05-10</th>\n",
       "      <td>694</td>\n",
       "    </tr>\n",
       "    <tr>\n",
       "      <th>2021-05-11</th>\n",
       "      <td>406</td>\n",
       "    </tr>\n",
       "    <tr>\n",
       "      <th>2021-05-12</th>\n",
       "      <td>656</td>\n",
       "    </tr>\n",
       "    <tr>\n",
       "      <th>2021-05-13</th>\n",
       "      <td>785</td>\n",
       "    </tr>\n",
       "    <tr>\n",
       "      <th>2021-05-14</th>\n",
       "      <td>632</td>\n",
       "    </tr>\n",
       "  </tbody>\n",
       "</table>\n",
       "</div>"
      ],
      "text/plain": [
       "            case\n",
       "date            \n",
       "2021-05-04   416\n",
       "2021-05-05   845\n",
       "2021-05-06   905\n",
       "2021-05-07   783\n",
       "2021-05-08   732\n",
       "2021-05-09   809\n",
       "2021-05-10   694\n",
       "2021-05-11   406\n",
       "2021-05-12   656\n",
       "2021-05-13   785\n",
       "2021-05-14   632"
      ]
     },
     "execution_count": 30,
     "metadata": {},
     "output_type": "execute_result"
    }
   ],
   "source": [
    "data_evaluasi"
   ]
  },
  {
   "cell_type": "code",
   "execution_count": 42,
   "metadata": {},
   "outputs": [
    {
     "ename": "NameError",
     "evalue": "name 'scaler' is not defined",
     "output_type": "error",
     "traceback": [
      "\u001b[1;31m---------------------------------------------------------------------------\u001b[0m",
      "\u001b[1;31mNameError\u001b[0m                                 Traceback (most recent call last)",
      "\u001b[1;32m<ipython-input-42-412b56e83d6e>\u001b[0m in \u001b[0;36m<module>\u001b[1;34m\u001b[0m\n\u001b[0;32m      8\u001b[0m \u001b[1;31m# invert scaling for forecast\u001b[0m\u001b[1;33m\u001b[0m\u001b[1;33m\u001b[0m\u001b[1;33m\u001b[0m\u001b[0m\n\u001b[0;32m      9\u001b[0m \u001b[0minv_yhat\u001b[0m \u001b[1;33m=\u001b[0m \u001b[0mconcatenate\u001b[0m\u001b[1;33m(\u001b[0m\u001b[1;33m(\u001b[0m\u001b[0myhat_residual\u001b[0m\u001b[1;33m,\u001b[0m \u001b[0mresidual_test_X\u001b[0m\u001b[1;33m[\u001b[0m\u001b[1;33m:\u001b[0m\u001b[1;33m,\u001b[0m \u001b[1;36m1\u001b[0m\u001b[1;33m:\u001b[0m\u001b[1;33m]\u001b[0m\u001b[1;33m)\u001b[0m\u001b[1;33m,\u001b[0m \u001b[0maxis\u001b[0m\u001b[1;33m=\u001b[0m\u001b[1;36m1\u001b[0m\u001b[1;33m)\u001b[0m\u001b[1;33m\u001b[0m\u001b[1;33m\u001b[0m\u001b[0m\n\u001b[1;32m---> 10\u001b[1;33m \u001b[0minv_yhat\u001b[0m \u001b[1;33m=\u001b[0m \u001b[0mscaler\u001b[0m\u001b[1;33m.\u001b[0m\u001b[0minverse_transform\u001b[0m\u001b[1;33m(\u001b[0m\u001b[0minv_yhat\u001b[0m\u001b[1;33m)\u001b[0m\u001b[1;33m\u001b[0m\u001b[1;33m\u001b[0m\u001b[0m\n\u001b[0m\u001b[0;32m     11\u001b[0m \u001b[0minv_yhat\u001b[0m \u001b[1;33m=\u001b[0m \u001b[0minv_yhat\u001b[0m\u001b[1;33m[\u001b[0m\u001b[1;33m:\u001b[0m\u001b[1;33m,\u001b[0m\u001b[1;36m0\u001b[0m\u001b[1;33m]\u001b[0m\u001b[1;33m\u001b[0m\u001b[1;33m\u001b[0m\u001b[0m\n",
      "\u001b[1;31mNameError\u001b[0m: name 'scaler' is not defined"
     ]
    }
   ],
   "source": [
    "#type(yhat_residual)\n",
    "\n",
    "\n",
    "#embuh = ndarray.tolist(yhat_residual)\n",
    "#embuh\n",
    "\n",
    "residual_test_X = residual_test_X.reshape((residual_test_X.shape[0], residual_test_X.shape[2]))\n",
    "# invert scaling for forecast\n",
    "inv_yhat = concatenate((yhat_residual, residual_test_X[:, 1:]), axis=1)\n",
    "inv_yhat = scaler.inverse_transform(inv_yhat)\n",
    "inv_yhat = inv_yhat[:,0]"
   ]
  },
  {
   "cell_type": "code",
   "execution_count": 35,
   "metadata": {},
   "outputs": [],
   "source": [
    "#list_hasil = hasil['case'].tolist()\n",
    "list_evaluasi = data_evaluasi['case'].tolist()"
   ]
  },
  {
   "cell_type": "code",
   "execution_count": 36,
   "metadata": {},
   "outputs": [
    {
     "data": {
      "text/plain": [
       "[416, 845, 905, 783, 732, 809, 694, 406, 656, 785, 632]"
      ]
     },
     "execution_count": 36,
     "metadata": {},
     "output_type": "execute_result"
    }
   ],
   "source": [
    "list_evaluasi"
   ]
  },
  {
   "cell_type": "code",
   "execution_count": 37,
   "metadata": {},
   "outputs": [
    {
     "name": "stdout",
     "output_type": "stream",
     "text": [
      "hasil evaluasi 416\n",
      "hasil residual [-0.7215139865875244]\n",
      "hasil evaluasi 845\n",
      "hasil residual [27.678627014160156]\n",
      "hasil evaluasi 905\n",
      "hasil residual [27.381793975830078]\n",
      "hasil evaluasi 783\n",
      "hasil residual [-17.558740615844727]\n",
      "hasil evaluasi 732\n",
      "hasil residual [-17.24755096435547]\n",
      "hasil evaluasi 809\n",
      "hasil residual [2.137964963912964]\n",
      "hasil evaluasi 694\n",
      "hasil residual [18.792970657348633]\n",
      "hasil evaluasi 406\n",
      "hasil residual [-17.31351089477539]\n",
      "hasil evaluasi 656\n",
      "hasil residual [-9.548097610473633]\n",
      "hasil evaluasi 785\n",
      "hasil residual [4.477814197540283]\n",
      "hasil evaluasi 632\n"
     ]
    },
    {
     "ename": "IndexError",
     "evalue": "list index out of range",
     "output_type": "error",
     "traceback": [
      "\u001b[1;31m---------------------------------------------------------------------------\u001b[0m",
      "\u001b[1;31mIndexError\u001b[0m                                Traceback (most recent call last)",
      "\u001b[1;32m<ipython-input-37-83cba47725fb>\u001b[0m in \u001b[0;36m<module>\u001b[1;34m\u001b[0m\n\u001b[0;32m      3\u001b[0m \u001b[1;32mfor\u001b[0m \u001b[0mi\u001b[0m \u001b[1;32min\u001b[0m \u001b[0mrange\u001b[0m\u001b[1;33m(\u001b[0m\u001b[0mlength\u001b[0m\u001b[1;33m)\u001b[0m\u001b[1;33m:\u001b[0m\u001b[1;33m\u001b[0m\u001b[1;33m\u001b[0m\u001b[0m\n\u001b[0;32m      4\u001b[0m     \u001b[0mprint\u001b[0m\u001b[1;33m(\u001b[0m\u001b[1;34m'hasil evaluasi'\u001b[0m\u001b[1;33m,\u001b[0m\u001b[0mlist_evaluasi\u001b[0m\u001b[1;33m[\u001b[0m\u001b[0mi\u001b[0m\u001b[1;33m]\u001b[0m\u001b[1;33m)\u001b[0m\u001b[1;33m\u001b[0m\u001b[1;33m\u001b[0m\u001b[0m\n\u001b[1;32m----> 5\u001b[1;33m     \u001b[0mprint\u001b[0m\u001b[1;33m(\u001b[0m\u001b[1;34m'hasil residual'\u001b[0m\u001b[1;33m,\u001b[0m\u001b[0mhasil_residual\u001b[0m\u001b[1;33m[\u001b[0m\u001b[0mi\u001b[0m\u001b[1;33m]\u001b[0m\u001b[1;33m)\u001b[0m\u001b[1;33m\u001b[0m\u001b[1;33m\u001b[0m\u001b[0m\n\u001b[0m",
      "\u001b[1;31mIndexError\u001b[0m: list index out of range"
     ]
    }
   ],
   "source": [
    "length = len(list_evaluasi)\n",
    "\n",
    "for i in range(length):\n",
    "    print('hasil evaluasi',list_evaluasi[i])\n",
    "    print('hasil residual',hasil_residual[i])"
   ]
  },
  {
   "cell_type": "code",
   "execution_count": null,
   "metadata": {},
   "outputs": [],
   "source": []
  }
 ],
 "metadata": {
  "kernelspec": {
   "display_name": "Python 3",
   "language": "python",
   "name": "python3"
  },
  "language_info": {
   "codemirror_mode": {
    "name": "ipython",
    "version": 3
   },
   "file_extension": ".py",
   "mimetype": "text/x-python",
   "name": "python",
   "nbconvert_exporter": "python",
   "pygments_lexer": "ipython3",
   "version": "3.7.9"
  }
 },
 "nbformat": 4,
 "nbformat_minor": 4
}
