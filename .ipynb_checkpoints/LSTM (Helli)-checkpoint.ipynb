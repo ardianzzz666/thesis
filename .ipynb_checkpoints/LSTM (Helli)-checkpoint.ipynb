{
 "cells": [
  {
   "cell_type": "code",
   "execution_count": 11,
   "metadata": {},
   "outputs": [],
   "source": [
    "import pandas as pd\n",
    "import matplotlib.pyplot as plt\n",
    "from pandas import DataFrame\n",
    "\n",
    "from math import sqrt\n",
    "from numpy import concatenate\n",
    "from pandas import concat\n",
    "from numpy import ndarray\n",
    "\n",
    "from sklearn.metrics import mean_squared_error\n",
    "from sklearn.metrics import mean_absolute_error\n",
    "from keras.models import Sequential\n",
    "from keras.layers import Dense\n",
    "from keras.layers import LSTM"
   ]
  },
  {
   "cell_type": "code",
   "execution_count": 13,
   "metadata": {},
   "outputs": [],
   "source": [
    "# fungsi untuk merubah data menjadi supervised learning problem\n",
    "def series_to_supervised(data, n_in=1, n_out=1, dropnan=True):\n",
    "    \"\"\"\n",
    "    Frame a time series as a supervised learning dataset.\n",
    "    Arguments:\n",
    "        data: Sequence of observations as a list or NumPy array.\n",
    "        n_in: Number of lag observations as input (X).\n",
    "        n_out: Number of observations as output (y).\n",
    "        dropnan: Boolean whether or not to drop rows with NaN values.\n",
    "    Returns:\n",
    "        Pandas DataFrame of series framed for supervised learning.\n",
    "    \"\"\"\n",
    "    n_vars = 1 if type(data) is list else data.shape[1]\n",
    "    df = DataFrame(data)\n",
    "    cols, names = list(), list()\n",
    "    # input sequence (t-n, ... t-1)\n",
    "    for i in range(n_in, 0, -1):\n",
    "        cols.append(df.shift(i))\n",
    "        names += [('var%d(t-%d)' % (j+1, i)) for j in range(n_vars)]\n",
    "    # forecast sequence (t, t+1, ... t+n)\n",
    "    for i in range(0, n_out):\n",
    "        cols.append(df.shift(-i))\n",
    "        if i == 0:\n",
    "            names += [('var%d(t)' % (j+1)) for j in range(n_vars)]\n",
    "        else:\n",
    "            names += [('var%d(t+%d)' % (j+1, i)) for j in range(n_vars)]\n",
    "    # put it all together\n",
    "    agg = concat(cols, axis=1)\n",
    "    agg.columns = names\n",
    "    # drop rows with NaN values\n",
    "    if dropnan:\n",
    "        agg.dropna(inplace=True)\n",
    "    return agg"
   ]
  },
  {
   "cell_type": "code",
   "execution_count": 14,
   "metadata": {},
   "outputs": [],
   "source": [
    "case = pd.read_csv('data/new/case_maret_july.csv')\n",
    "case.set_index('date', inplace=True)"
   ]
  },
  {
   "cell_type": "code",
   "execution_count": 15,
   "metadata": {},
   "outputs": [
    {
     "data": {
      "text/plain": [
       "423"
      ]
     },
     "execution_count": 15,
     "metadata": {},
     "output_type": "execute_result"
    }
   ],
   "source": [
    "len(case)"
   ]
  },
  {
   "cell_type": "code",
   "execution_count": 21,
   "metadata": {},
   "outputs": [
    {
     "data": {
      "text/plain": [
       "413"
      ]
     },
     "execution_count": 21,
     "metadata": {},
     "output_type": "execute_result"
    }
   ],
   "source": [
    "# Ambil data untuk evaluasi\n",
    "#data_evaluasi = case[413:]\n",
    "\n",
    "validation_size = 10\n",
    "validation_size = len(case) - validation_size\n",
    "train, validation = case[0:validation_size], case[validation_size:len(case)]\n",
    "\n",
    "#total split data untuk LSTM\n",
    "n_total = len(train)\n",
    "\n",
    "#jumlah neuron\n",
    "neu = int(2/3*(n_total+1))\n",
    "jumlah_neuron = neu\n",
    "\n",
    "# Parameter untuk LSTM\n",
    "epooch_total = 100\n",
    "size_batch = 1\n",
    "\n",
    "len(train)"
   ]
  },
  {
   "cell_type": "code",
   "execution_count": 22,
   "metadata": {},
   "outputs": [
    {
     "data": {
      "text/html": [
       "<div>\n",
       "<style scoped>\n",
       "    .dataframe tbody tr th:only-of-type {\n",
       "        vertical-align: middle;\n",
       "    }\n",
       "\n",
       "    .dataframe tbody tr th {\n",
       "        vertical-align: top;\n",
       "    }\n",
       "\n",
       "    .dataframe thead th {\n",
       "        text-align: right;\n",
       "    }\n",
       "</style>\n",
       "<table border=\"1\" class=\"dataframe\">\n",
       "  <thead>\n",
       "    <tr style=\"text-align: right;\">\n",
       "      <th></th>\n",
       "      <th>var1(t-2)</th>\n",
       "      <th>var1(t-1)</th>\n",
       "      <th>var1(t)</th>\n",
       "    </tr>\n",
       "    <tr>\n",
       "      <th>date</th>\n",
       "      <th></th>\n",
       "      <th></th>\n",
       "      <th></th>\n",
       "    </tr>\n",
       "  </thead>\n",
       "  <tbody>\n",
       "    <tr>\n",
       "      <th>2020-03-20</th>\n",
       "      <td>38.0</td>\n",
       "      <td>50.0</td>\n",
       "      <td>14</td>\n",
       "    </tr>\n",
       "    <tr>\n",
       "      <th>2020-03-21</th>\n",
       "      <td>50.0</td>\n",
       "      <td>14.0</td>\n",
       "      <td>44</td>\n",
       "    </tr>\n",
       "    <tr>\n",
       "      <th>2020-03-22</th>\n",
       "      <td>14.0</td>\n",
       "      <td>44.0</td>\n",
       "      <td>36</td>\n",
       "    </tr>\n",
       "    <tr>\n",
       "      <th>2020-03-23</th>\n",
       "      <td>44.0</td>\n",
       "      <td>36.0</td>\n",
       "      <td>51</td>\n",
       "    </tr>\n",
       "    <tr>\n",
       "      <th>2020-03-24</th>\n",
       "      <td>36.0</td>\n",
       "      <td>51.0</td>\n",
       "      <td>71</td>\n",
       "    </tr>\n",
       "    <tr>\n",
       "      <th>...</th>\n",
       "      <td>...</td>\n",
       "      <td>...</td>\n",
       "      <td>...</td>\n",
       "    </tr>\n",
       "    <tr>\n",
       "      <th>2021-05-10</th>\n",
       "      <td>732.0</td>\n",
       "      <td>809.0</td>\n",
       "      <td>694</td>\n",
       "    </tr>\n",
       "    <tr>\n",
       "      <th>2021-05-11</th>\n",
       "      <td>809.0</td>\n",
       "      <td>694.0</td>\n",
       "      <td>406</td>\n",
       "    </tr>\n",
       "    <tr>\n",
       "      <th>2021-05-12</th>\n",
       "      <td>694.0</td>\n",
       "      <td>406.0</td>\n",
       "      <td>656</td>\n",
       "    </tr>\n",
       "    <tr>\n",
       "      <th>2021-05-13</th>\n",
       "      <td>406.0</td>\n",
       "      <td>656.0</td>\n",
       "      <td>785</td>\n",
       "    </tr>\n",
       "    <tr>\n",
       "      <th>2021-05-14</th>\n",
       "      <td>656.0</td>\n",
       "      <td>785.0</td>\n",
       "      <td>632</td>\n",
       "    </tr>\n",
       "  </tbody>\n",
       "</table>\n",
       "<p>421 rows × 3 columns</p>\n",
       "</div>"
      ],
      "text/plain": [
       "            var1(t-2)  var1(t-1)  var1(t)\n",
       "date                                     \n",
       "2020-03-20       38.0       50.0       14\n",
       "2020-03-21       50.0       14.0       44\n",
       "2020-03-22       14.0       44.0       36\n",
       "2020-03-23       44.0       36.0       51\n",
       "2020-03-24       36.0       51.0       71\n",
       "...               ...        ...      ...\n",
       "2021-05-10      732.0      809.0      694\n",
       "2021-05-11      809.0      694.0      406\n",
       "2021-05-12      694.0      406.0      656\n",
       "2021-05-13      406.0      656.0      785\n",
       "2021-05-14      656.0      785.0      632\n",
       "\n",
       "[421 rows x 3 columns]"
      ]
     },
     "execution_count": 22,
     "metadata": {},
     "output_type": "execute_result"
    }
   ],
   "source": [
    "# ubah data menjadi supervised learning problem\n",
    "reframed = series_to_supervised(case, 2, 1)\n",
    "reframed"
   ]
  },
  {
   "cell_type": "code",
   "execution_count": 36,
   "metadata": {},
   "outputs": [
    {
     "name": "stdout",
     "output_type": "stream",
     "text": [
      "(411, 1, 2) (411,) (10, 1, 2) (10,)\n"
     ]
    }
   ],
   "source": [
    "# split data menjadi data train dan test\n",
    "values= reframed.values\n",
    "\n",
    "#train = values[:n_total, :]\n",
    "#test = values[n_total:, :]\n",
    "\n",
    "test_size = 10\n",
    "test_size = len(values) - test_size\n",
    "train = values[0:test_size]\n",
    "test = values[test_size:len(values)]\n",
    "\n",
    "# split menjadi input dan output\n",
    "train_X, train_y = train[:, :-1], train[:, -1]\n",
    "test_X, test_y = test[:, :-1], test[:, -1]\n",
    "\n",
    "# reshape input menjadi [samples, timesteps, features]\n",
    "train_X = train_X.reshape((train_X.shape[0], 1, train_X.shape[1]))\n",
    "test_X = test_X.reshape((test_X.shape[0], 1, test_X.shape[1]))\n",
    "\n",
    "print(train_X.shape, train_y.shape, test_X.shape, test_y.shape)"
   ]
  },
  {
   "cell_type": "code",
   "execution_count": 37,
   "metadata": {},
   "outputs": [
    {
     "name": "stdout",
     "output_type": "stream",
     "text": [
      "Epoch 1/100\n",
      "411/411 - 3s - loss: 939.3688 - val_loss: 616.5433\n",
      "Epoch 2/100\n",
      "411/411 - 2s - loss: 879.1141 - val_loss: 552.5409\n",
      "Epoch 3/100\n",
      "411/411 - 2s - loss: 853.1251 - val_loss: 511.4146\n",
      "Epoch 4/100\n",
      "411/411 - 2s - loss: 864.2174 - val_loss: 522.2619\n",
      "Epoch 5/100\n",
      "411/411 - 2s - loss: 839.6563 - val_loss: 482.5166\n",
      "Epoch 6/100\n",
      "411/411 - 2s - loss: 832.7599 - val_loss: 481.7208\n",
      "Epoch 7/100\n",
      "411/411 - 2s - loss: 838.6124 - val_loss: 487.4647\n",
      "Epoch 8/100\n",
      "411/411 - 2s - loss: 812.5018 - val_loss: 458.4178\n",
      "Epoch 9/100\n",
      "411/411 - 2s - loss: 847.5449 - val_loss: 501.6362\n",
      "Epoch 10/100\n",
      "411/411 - 2s - loss: 845.1068 - val_loss: 495.1937\n",
      "Epoch 11/100\n",
      "411/411 - 2s - loss: 851.6638 - val_loss: 500.7693\n",
      "Epoch 12/100\n",
      "411/411 - 2s - loss: 831.2147 - val_loss: 478.3248\n",
      "Epoch 13/100\n",
      "411/411 - 2s - loss: 880.7197 - val_loss: 523.4258\n",
      "Epoch 14/100\n",
      "411/411 - 2s - loss: 864.2023 - val_loss: 536.0143\n",
      "Epoch 15/100\n",
      "411/411 - 2s - loss: 859.8034 - val_loss: 528.8630\n",
      "Epoch 16/100\n",
      "411/411 - 2s - loss: 847.9984 - val_loss: 515.0526\n",
      "Epoch 17/100\n",
      "411/411 - 2s - loss: 850.5898 - val_loss: 511.9128\n",
      "Epoch 18/100\n",
      "411/411 - 2s - loss: 830.4142 - val_loss: 458.1097\n",
      "Epoch 19/100\n",
      "411/411 - 2s - loss: 713.5852 - val_loss: 239.1317\n",
      "Epoch 20/100\n",
      "411/411 - 2s - loss: 687.8905 - val_loss: 212.1509\n",
      "Epoch 21/100\n",
      "411/411 - 2s - loss: 729.7856 - val_loss: 268.1013\n",
      "Epoch 22/100\n",
      "411/411 - 3s - loss: 789.1256 - val_loss: 398.7366\n",
      "Epoch 23/100\n",
      "411/411 - 2s - loss: 785.5191 - val_loss: 383.1667\n",
      "Epoch 24/100\n",
      "411/411 - 2s - loss: 800.7911 - val_loss: 377.4001\n",
      "Epoch 25/100\n",
      "411/411 - 2s - loss: 834.2571 - val_loss: 438.5371\n",
      "Epoch 26/100\n",
      "411/411 - 2s - loss: 722.7518 - val_loss: 310.4905\n",
      "Epoch 27/100\n",
      "411/411 - 2s - loss: 876.5645 - val_loss: 487.3344\n",
      "Epoch 28/100\n",
      "411/411 - 2s - loss: 836.8510 - val_loss: 464.4583\n",
      "Epoch 29/100\n",
      "411/411 - 3s - loss: 709.1017 - val_loss: 278.3890\n",
      "Epoch 30/100\n",
      "411/411 - 2s - loss: 837.8055 - val_loss: 407.3851\n",
      "Epoch 31/100\n",
      "411/411 - 2s - loss: 762.5151 - val_loss: 297.0287\n",
      "Epoch 32/100\n",
      "411/411 - 2s - loss: 733.1705 - val_loss: 251.6710\n",
      "Epoch 33/100\n",
      "411/411 - 2s - loss: 652.5627 - val_loss: 175.4278\n",
      "Epoch 34/100\n",
      "411/411 - 2s - loss: 804.7977 - val_loss: 365.6063\n",
      "Epoch 35/100\n",
      "411/411 - 2s - loss: 789.8407 - val_loss: 373.2971\n",
      "Epoch 36/100\n",
      "411/411 - 2s - loss: 707.9498 - val_loss: 230.3615\n",
      "Epoch 37/100\n",
      "411/411 - 2s - loss: 733.2982 - val_loss: 261.3666\n",
      "Epoch 38/100\n",
      "411/411 - 2s - loss: 703.4035 - val_loss: 198.9353\n",
      "Epoch 39/100\n",
      "411/411 - 2s - loss: 824.0078 - val_loss: 376.3604\n",
      "Epoch 40/100\n",
      "411/411 - 2s - loss: 639.2032 - val_loss: 159.4629\n",
      "Epoch 41/100\n",
      "411/411 - 2s - loss: 769.9632 - val_loss: 230.1311\n",
      "Epoch 42/100\n",
      "411/411 - 2s - loss: 756.3567 - val_loss: 280.1887\n",
      "Epoch 43/100\n",
      "411/411 - 3s - loss: 582.3281 - val_loss: 116.9383\n",
      "Epoch 44/100\n",
      "411/411 - 3s - loss: 644.1614 - val_loss: 107.6168\n",
      "Epoch 45/100\n",
      "411/411 - 2s - loss: 713.1177 - val_loss: 197.7016\n",
      "Epoch 46/100\n",
      "411/411 - 2s - loss: 634.7718 - val_loss: 110.0031\n",
      "Epoch 47/100\n",
      "411/411 - 2s - loss: 576.5113 - val_loss: 110.5743\n",
      "Epoch 48/100\n",
      "411/411 - 2s - loss: 627.3846 - val_loss: 113.8703\n",
      "Epoch 49/100\n",
      "411/411 - 2s - loss: 535.4214 - val_loss: 145.6659\n",
      "Epoch 50/100\n",
      "411/411 - 2s - loss: 720.6096 - val_loss: 214.0559\n",
      "Epoch 51/100\n",
      "411/411 - 2s - loss: 531.5497 - val_loss: 132.4628\n",
      "Epoch 52/100\n",
      "411/411 - 2s - loss: 550.5196 - val_loss: 132.3219\n",
      "Epoch 53/100\n",
      "411/411 - 2s - loss: 582.1161 - val_loss: 104.0217\n",
      "Epoch 54/100\n",
      "411/411 - 2s - loss: 609.1340 - val_loss: 101.4144\n",
      "Epoch 55/100\n",
      "411/411 - 2s - loss: 681.3846 - val_loss: 100.8075\n",
      "Epoch 56/100\n",
      "411/411 - 2s - loss: 629.9417 - val_loss: 120.8306\n",
      "Epoch 57/100\n",
      "411/411 - 3s - loss: 721.4740 - val_loss: 146.7006\n",
      "Epoch 58/100\n",
      "411/411 - 2s - loss: 740.6987 - val_loss: 271.5461\n",
      "Epoch 59/100\n",
      "411/411 - 2s - loss: 704.8082 - val_loss: 209.7982\n",
      "Epoch 60/100\n",
      "411/411 - 2s - loss: 737.0207 - val_loss: 215.6966\n",
      "Epoch 61/100\n",
      "411/411 - 2s - loss: 599.0542 - val_loss: 100.7000\n",
      "Epoch 62/100\n",
      "411/411 - 2s - loss: 764.3856 - val_loss: 215.7167\n",
      "Epoch 63/100\n",
      "411/411 - 2s - loss: 739.4359 - val_loss: 184.6041\n",
      "Epoch 64/100\n",
      "411/411 - 2s - loss: 710.2568 - val_loss: 189.7300\n",
      "Epoch 65/100\n",
      "411/411 - 2s - loss: 702.0782 - val_loss: 167.7236\n",
      "Epoch 66/100\n",
      "411/411 - 2s - loss: 705.7273 - val_loss: 151.8772\n",
      "Epoch 67/100\n",
      "411/411 - 2s - loss: 764.5349 - val_loss: 217.9309\n",
      "Epoch 68/100\n",
      "411/411 - 2s - loss: 594.5583 - val_loss: 120.6333\n",
      "Epoch 69/100\n",
      "411/411 - 2s - loss: 807.2806 - val_loss: 206.9233\n",
      "Epoch 70/100\n",
      "411/411 - 2s - loss: 724.1343 - val_loss: 191.4391\n",
      "Epoch 71/100\n",
      "411/411 - 2s - loss: 688.5817 - val_loss: 141.3915\n",
      "Epoch 72/100\n",
      "411/411 - 2s - loss: 741.9332 - val_loss: 188.2441\n",
      "Epoch 73/100\n",
      "411/411 - 2s - loss: 737.3979 - val_loss: 182.8370\n",
      "Epoch 74/100\n",
      "411/411 - 2s - loss: 641.4641 - val_loss: 104.1079\n",
      "Epoch 75/100\n",
      "411/411 - 2s - loss: 529.7510 - val_loss: 130.6003\n",
      "Epoch 76/100\n",
      "411/411 - 3s - loss: 611.9415 - val_loss: 100.6691\n",
      "Epoch 77/100\n",
      "411/411 - 2s - loss: 603.7650 - val_loss: 106.2299\n",
      "Epoch 78/100\n",
      "411/411 - 3s - loss: 645.0579 - val_loss: 114.3992\n",
      "Epoch 79/100\n",
      "411/411 - 2s - loss: 673.7330 - val_loss: 158.7701\n",
      "Epoch 80/100\n",
      "411/411 - 2s - loss: 560.7639 - val_loss: 139.7804\n",
      "Epoch 81/100\n",
      "411/411 - 2s - loss: 779.0610 - val_loss: 137.9573\n",
      "Epoch 82/100\n",
      "411/411 - 2s - loss: 676.2441 - val_loss: 176.2037\n",
      "Epoch 83/100\n",
      "411/411 - 2s - loss: 582.1129 - val_loss: 100.7013\n",
      "Epoch 84/100\n",
      "411/411 - 3s - loss: 671.7898 - val_loss: 141.6779\n",
      "Epoch 85/100\n",
      "411/411 - 3s - loss: 615.0538 - val_loss: 119.6269\n",
      "Epoch 86/100\n",
      "411/411 - 2s - loss: 616.9573 - val_loss: 109.6011\n",
      "Epoch 87/100\n",
      "411/411 - 2s - loss: 568.3360 - val_loss: 105.0981\n",
      "Epoch 88/100\n",
      "411/411 - 2s - loss: 535.2354 - val_loss: 106.4312\n",
      "Epoch 89/100\n",
      "411/411 - 2s - loss: 558.2903 - val_loss: 102.9047\n",
      "Epoch 90/100\n",
      "411/411 - 2s - loss: 593.5165 - val_loss: 110.2904\n",
      "Epoch 91/100\n",
      "411/411 - 2s - loss: 534.4706 - val_loss: 118.0470\n",
      "Epoch 92/100\n",
      "411/411 - 2s - loss: 579.0490 - val_loss: 101.7421\n",
      "Epoch 93/100\n",
      "411/411 - 2s - loss: 596.0367 - val_loss: 105.2715\n",
      "Epoch 94/100\n",
      "411/411 - 2s - loss: 532.5344 - val_loss: 134.1415\n",
      "Epoch 95/100\n",
      "411/411 - 2s - loss: 630.4413 - val_loss: 105.1770\n",
      "Epoch 96/100\n",
      "411/411 - 2s - loss: 603.7490 - val_loss: 105.6820\n",
      "Epoch 97/100\n",
      "411/411 - 2s - loss: 592.5958 - val_loss: 107.8499\n",
      "Epoch 98/100\n",
      "411/411 - 2s - loss: 566.1545 - val_loss: 100.3324\n",
      "Epoch 99/100\n",
      "411/411 - 2s - loss: 578.4795 - val_loss: 104.7979\n",
      "Epoch 100/100\n",
      "411/411 - 2s - loss: 546.0765 - val_loss: 113.3451\n"
     ]
    },
    {
     "data": {
      "image/png": "[encoded data removed]",
      "text/plain": [
       "<Figure size 432x288 with 1 Axes>"
      ]
     },
     "metadata": {
      "needs_background": "light"
     },
     "output_type": "display_data"
    }
   ],
   "source": [
    "# LSTM model untuk seasonal\n",
    "model = Sequential()\n",
    "model.add(LSTM(jumlah_neuron, return_sequences=True, input_shape=(train_X.shape[1], train_X.shape[2])))\n",
    "model.add(LSTM(jumlah_neuron))\n",
    "model.add(Dense(1))\n",
    "model.compile(loss='mae', optimizer='adam')\n",
    "# fit network\n",
    "history = model.fit(train_X, train_y, epochs=epooch_total, batch_size=size_batch, validation_data=(test_X, test_y), verbose=2, shuffle=False)\n",
    "# plot history\n",
    "plt.plot(history.history['loss'], label='train')\n",
    "plt.plot(history.history['val_loss'], label='test')\n",
    "plt.legend()\n",
    "plt.show()"
   ]
  },
  {
   "cell_type": "code",
   "execution_count": 38,
   "metadata": {},
   "outputs": [
    {
     "data": {
      "text/plain": [
       "array([[816.17444],\n",
       "       [820.32764],\n",
       "       [814.49475],\n",
       "       [814.4947 ],\n",
       "       [814.49475],\n",
       "       [814.49475],\n",
       "       [814.49475],\n",
       "       [816.5731 ],\n",
       "       [813.4114 ],\n",
       "       [814.49475]], dtype=float32)"
      ]
     },
     "execution_count": 38,
     "metadata": {},
     "output_type": "execute_result"
    }
   ],
   "source": [
    "# make a prediction\n",
    "yhat = model.predict(test_X)\n",
    "yhat"
   ]
  },
  {
   "cell_type": "code",
   "execution_count": 39,
   "metadata": {},
   "outputs": [
    {
     "data": {
      "text/plain": [
       "[816.1744384765625,\n",
       " 820.32763671875,\n",
       " 814.4947509765625,\n",
       " 814.4946899414062,\n",
       " 814.4947509765625,\n",
       " 814.4947509765625,\n",
       " 814.4947509765625,\n",
       " 816.5731201171875,\n",
       " 813.411376953125,\n",
       " 814.4947509765625]"
      ]
     },
     "execution_count": 39,
     "metadata": {},
     "output_type": "execute_result"
    }
   ],
   "source": [
    "# jadikan list semua hasil prediksi\n",
    "hasil_lstm = ndarray.tolist(yhat)\n",
    "list_evaluasi = data_evaluasi['case'].tolist()\n",
    "length = len(list_evaluasi)\n",
    "hasil_final = list()\n",
    "\n",
    "for i in range(length):\n",
    "    result_single = hasil_lstm[i]\n",
    "    result_single = result_single[0]\n",
    "    tambah = result_single\n",
    "    hasil_final.append(tambah)\n",
    "    #print('hasil tambah',tambah)\n",
    "\n",
    "hasil_final"
   ]
  },
  {
   "cell_type": "code",
   "execution_count": 43,
   "metadata": {},
   "outputs": [
    {
     "name": "stdout",
     "output_type": "stream",
     "text": [
      "Hasil MSE : 25711.00215635188\n"
     ]
    }
   ],
   "source": [
    "mse = mean_squared_error(list_evaluasi, hasil_final)\n",
    "print(\"Hasil MSE :\", mse)"
   ]
  },
  {
   "cell_type": "code",
   "execution_count": 41,
   "metadata": {},
   "outputs": [
    {
     "data": {
      "text/plain": [
       "160.34650652992687"
      ]
     },
     "execution_count": 41,
     "metadata": {},
     "output_type": "execute_result"
    }
   ],
   "source": [
    "rmse = mean_squared_error(list_evaluasi, hasil_final, squared=False)\n",
    "rmse"
   ]
  },
  {
   "cell_type": "code",
   "execution_count": 42,
   "metadata": {},
   "outputs": [
    {
     "data": {
      "text/plain": [
       "113.34508666992187"
      ]
     },
     "execution_count": 42,
     "metadata": {},
     "output_type": "execute_result"
    }
   ],
   "source": [
    "mae = mean_absolute_error(list_evaluasi, hasil_final)\n",
    "mae"
   ]
  },
  {
   "cell_type": "code",
   "execution_count": null,
   "metadata": {},
   "outputs": [],
   "source": []
  }
 ],
 "metadata": {
  "kernelspec": {
   "display_name": "Python 3",
   "language": "python",
   "name": "python3"
  },
  "language_info": {
   "codemirror_mode": {
    "name": "ipython",
    "version": 3
   },
   "file_extension": ".py",
   "mimetype": "text/x-python",
   "name": "python",
   "nbconvert_exporter": "python",
   "pygments_lexer": "ipython3",
   "version": "3.7.9"
  }
 },
 "nbformat": 4,
 "nbformat_minor": 4
}
