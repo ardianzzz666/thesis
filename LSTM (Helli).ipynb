{
 "cells": [
  {
   "cell_type": "code",
   "execution_count": 1,
   "metadata": {},
   "outputs": [],
   "source": [
    "import pandas as pd\n",
    "import matplotlib.pyplot as plt\n",
    "from pandas import DataFrame\n",
    "\n",
    "from math import sqrt\n",
    "from numpy import concatenate\n",
    "from pandas import concat\n",
    "from numpy import ndarray\n",
    "\n",
    "from sklearn.metrics import mean_squared_error\n",
    "from sklearn.metrics import mean_absolute_error\n",
    "from keras.models import Sequential\n",
    "from keras.layers import Dense\n",
    "from keras.layers import LSTM"
   ]
  },
  {
   "cell_type": "code",
   "execution_count": 2,
   "metadata": {},
   "outputs": [],
   "source": [
    "# fungsi untuk merubah data menjadi supervised learning problem\n",
    "def series_to_supervised(data, n_in=1, n_out=1, dropnan=True):\n",
    "    \"\"\"\n",
    "    Frame a time series as a supervised learning dataset.\n",
    "    Arguments:\n",
    "        data: Sequence of observations as a list or NumPy array.\n",
    "        n_in: Number of lag observations as input (X).\n",
    "        n_out: Number of observations as output (y).\n",
    "        dropnan: Boolean whether or not to drop rows with NaN values.\n",
    "    Returns:\n",
    "        Pandas DataFrame of series framed for supervised learning.\n",
    "    \"\"\"\n",
    "    n_vars = 1 if type(data) is list else data.shape[1]\n",
    "    df = DataFrame(data)\n",
    "    cols, names = list(), list()\n",
    "    # input sequence (t-n, ... t-1)\n",
    "    for i in range(n_in, 0, -1):\n",
    "        cols.append(df.shift(i))\n",
    "        names += [('var%d(t-%d)' % (j+1, i)) for j in range(n_vars)]\n",
    "    # forecast sequence (t, t+1, ... t+n)\n",
    "    for i in range(0, n_out):\n",
    "        cols.append(df.shift(-i))\n",
    "        if i == 0:\n",
    "            names += [('var%d(t)' % (j+1)) for j in range(n_vars)]\n",
    "        else:\n",
    "            names += [('var%d(t+%d)' % (j+1, i)) for j in range(n_vars)]\n",
    "    # put it all together\n",
    "    agg = concat(cols, axis=1)\n",
    "    agg.columns = names\n",
    "    # drop rows with NaN values\n",
    "    if dropnan:\n",
    "        agg.dropna(inplace=True)\n",
    "    return agg"
   ]
  },
  {
   "cell_type": "code",
   "execution_count": 3,
   "metadata": {},
   "outputs": [],
   "source": [
    "case = pd.read_csv('data/new/case_maret_july.csv')\n",
    "case.set_index('date', inplace=True)"
   ]
  },
  {
   "cell_type": "code",
   "execution_count": 4,
   "metadata": {},
   "outputs": [
    {
     "data": {
      "text/plain": [
       "423"
      ]
     },
     "execution_count": 4,
     "metadata": {},
     "output_type": "execute_result"
    }
   ],
   "source": [
    "len(case)"
   ]
  },
  {
   "cell_type": "code",
   "execution_count": 15,
   "metadata": {},
   "outputs": [
    {
     "name": "stdout",
     "output_type": "stream",
     "text": [
      "276\n"
     ]
    }
   ],
   "source": [
    "# Ambil data untuk evaluasi\n",
    "#data_evaluasi = case[413:]\n",
    "\n",
    "validation_size = 10\n",
    "validation_size = len(case) - validation_size\n",
    "train, validation = case[0:validation_size], case[validation_size:len(case)]\n",
    "\n",
    "#total split data untuk LSTM\n",
    "n_total = len(train)\n",
    "\n",
    "#jumlah neuron\n",
    "neu = int(2/3*(n_total+1))\n",
    "jumlah_neuron = neu\n",
    "\n",
    "# Parameter untuk LSTM\n",
    "epooch_total = 100\n",
    "size_batch = 1\n",
    "\n",
    "print(neu)"
   ]
  },
  {
   "cell_type": "code",
   "execution_count": 6,
   "metadata": {},
   "outputs": [
    {
     "data": {
      "text/html": [
       "<div>\n",
       "<style scoped>\n",
       "    .dataframe tbody tr th:only-of-type {\n",
       "        vertical-align: middle;\n",
       "    }\n",
       "\n",
       "    .dataframe tbody tr th {\n",
       "        vertical-align: top;\n",
       "    }\n",
       "\n",
       "    .dataframe thead th {\n",
       "        text-align: right;\n",
       "    }\n",
       "</style>\n",
       "<table border=\"1\" class=\"dataframe\">\n",
       "  <thead>\n",
       "    <tr style=\"text-align: right;\">\n",
       "      <th></th>\n",
       "      <th>var1(t-2)</th>\n",
       "      <th>var1(t-1)</th>\n",
       "      <th>var1(t)</th>\n",
       "    </tr>\n",
       "    <tr>\n",
       "      <th>date</th>\n",
       "      <th></th>\n",
       "      <th></th>\n",
       "      <th></th>\n",
       "    </tr>\n",
       "  </thead>\n",
       "  <tbody>\n",
       "    <tr>\n",
       "      <th>2020-03-20</th>\n",
       "      <td>38.0</td>\n",
       "      <td>50.0</td>\n",
       "      <td>14</td>\n",
       "    </tr>\n",
       "    <tr>\n",
       "      <th>2020-03-21</th>\n",
       "      <td>50.0</td>\n",
       "      <td>14.0</td>\n",
       "      <td>44</td>\n",
       "    </tr>\n",
       "    <tr>\n",
       "      <th>2020-03-22</th>\n",
       "      <td>14.0</td>\n",
       "      <td>44.0</td>\n",
       "      <td>36</td>\n",
       "    </tr>\n",
       "    <tr>\n",
       "      <th>2020-03-23</th>\n",
       "      <td>44.0</td>\n",
       "      <td>36.0</td>\n",
       "      <td>51</td>\n",
       "    </tr>\n",
       "    <tr>\n",
       "      <th>2020-03-24</th>\n",
       "      <td>36.0</td>\n",
       "      <td>51.0</td>\n",
       "      <td>71</td>\n",
       "    </tr>\n",
       "    <tr>\n",
       "      <th>...</th>\n",
       "      <td>...</td>\n",
       "      <td>...</td>\n",
       "      <td>...</td>\n",
       "    </tr>\n",
       "    <tr>\n",
       "      <th>2021-04-30</th>\n",
       "      <td>639.0</td>\n",
       "      <td>987.0</td>\n",
       "      <td>789</td>\n",
       "    </tr>\n",
       "    <tr>\n",
       "      <th>2021-05-01</th>\n",
       "      <td>987.0</td>\n",
       "      <td>789.0</td>\n",
       "      <td>926</td>\n",
       "    </tr>\n",
       "    <tr>\n",
       "      <th>2021-05-02</th>\n",
       "      <td>789.0</td>\n",
       "      <td>926.0</td>\n",
       "      <td>854</td>\n",
       "    </tr>\n",
       "    <tr>\n",
       "      <th>2021-05-03</th>\n",
       "      <td>926.0</td>\n",
       "      <td>854.0</td>\n",
       "      <td>757</td>\n",
       "    </tr>\n",
       "    <tr>\n",
       "      <th>2021-05-04</th>\n",
       "      <td>854.0</td>\n",
       "      <td>757.0</td>\n",
       "      <td>416</td>\n",
       "    </tr>\n",
       "  </tbody>\n",
       "</table>\n",
       "<p>411 rows × 3 columns</p>\n",
       "</div>"
      ],
      "text/plain": [
       "            var1(t-2)  var1(t-1)  var1(t)\n",
       "date                                     \n",
       "2020-03-20       38.0       50.0       14\n",
       "2020-03-21       50.0       14.0       44\n",
       "2020-03-22       14.0       44.0       36\n",
       "2020-03-23       44.0       36.0       51\n",
       "2020-03-24       36.0       51.0       71\n",
       "...               ...        ...      ...\n",
       "2021-04-30      639.0      987.0      789\n",
       "2021-05-01      987.0      789.0      926\n",
       "2021-05-02      789.0      926.0      854\n",
       "2021-05-03      926.0      854.0      757\n",
       "2021-05-04      854.0      757.0      416\n",
       "\n",
       "[411 rows x 3 columns]"
      ]
     },
     "execution_count": 6,
     "metadata": {},
     "output_type": "execute_result"
    }
   ],
   "source": [
    "# ubah data menjadi supervised learning problem\n",
    "reframed = series_to_supervised(train, 2, 1)\n",
    "reframed"
   ]
  },
  {
   "cell_type": "code",
   "execution_count": 16,
   "metadata": {},
   "outputs": [
    {
     "name": "stdout",
     "output_type": "stream",
     "text": [
      "(401, 1, 2) (401,) (10, 1, 2) (10,)\n"
     ]
    },
    {
     "data": {
      "text/plain": [
       "401"
      ]
     },
     "execution_count": 16,
     "metadata": {},
     "output_type": "execute_result"
    }
   ],
   "source": [
    "# split data menjadi data train dan test\n",
    "values= reframed.values\n",
    "\n",
    "#train = values[:n_total, :]\n",
    "#test = values[n_total:, :]\n",
    "\n",
    "test_size = 10\n",
    "test_size = len(values) - test_size\n",
    "train = values[0:test_size]\n",
    "test = values[test_size:len(values)]\n",
    "\n",
    "# split menjadi input dan output\n",
    "train_X, train_y = train[:, :-1], train[:, -1]\n",
    "test_X, test_y = test[:, :-1], test[:, -1]\n",
    "\n",
    "# reshape input menjadi [samples, timesteps, features]\n",
    "train_X = train_X.reshape((train_X.shape[0], 1, train_X.shape[1]))\n",
    "test_X = test_X.reshape((test_X.shape[0], 1, test_X.shape[1]))\n",
    "\n",
    "print(train_X.shape, train_y.shape, test_X.shape, test_y.shape)\n",
    "len(train_X)"
   ]
  },
  {
   "cell_type": "code",
   "execution_count": 8,
   "metadata": {},
   "outputs": [
    {
     "name": "stdout",
     "output_type": "stream",
     "text": [
      "Epoch 1/100\n",
      "401/401 - 3s - loss: 945.8848 - val_loss: 633.1889\n",
      "Epoch 2/100\n",
      "401/401 - 2s - loss: 886.6838 - val_loss: 570.3773\n",
      "Epoch 3/100\n",
      "401/401 - 2s - loss: 867.7211 - val_loss: 532.5473\n",
      "Epoch 4/100\n",
      "401/401 - 2s - loss: 873.5526 - val_loss: 545.0688\n",
      "Epoch 5/100\n",
      "401/401 - 2s - loss: 876.3148 - val_loss: 552.6569\n",
      "Epoch 6/100\n",
      "401/401 - 2s - loss: 883.4628 - val_loss: 560.8428\n",
      "Epoch 7/100\n",
      "401/401 - 2s - loss: 880.5907 - val_loss: 569.0433\n",
      "Epoch 8/100\n",
      "401/401 - 2s - loss: 866.1852 - val_loss: 551.8937\n",
      "Epoch 9/100\n",
      "401/401 - 2s - loss: 891.9445 - val_loss: 585.5485\n",
      "Epoch 10/100\n",
      "401/401 - 2s - loss: 868.5802 - val_loss: 540.2985\n",
      "Epoch 11/100\n",
      "401/401 - 2s - loss: 860.3075 - val_loss: 523.1847\n",
      "Epoch 12/100\n",
      "401/401 - 2s - loss: 854.3528 - val_loss: 515.8918\n",
      "Epoch 13/100\n",
      "401/401 - 2s - loss: 862.5206 - val_loss: 526.2109\n",
      "Epoch 14/100\n",
      "401/401 - 2s - loss: 836.3156 - val_loss: 474.0967\n",
      "Epoch 15/100\n",
      "401/401 - 2s - loss: 854.6127 - val_loss: 522.5640\n",
      "Epoch 16/100\n",
      "401/401 - 2s - loss: 851.6767 - val_loss: 502.4745\n",
      "Epoch 17/100\n",
      "401/401 - 2s - loss: 833.0969 - val_loss: 464.3443\n",
      "Epoch 18/100\n",
      "401/401 - 2s - loss: 794.7174 - val_loss: 403.8228\n",
      "Epoch 19/100\n",
      "401/401 - 2s - loss: 787.7326 - val_loss: 345.8148\n",
      "Epoch 20/100\n",
      "401/401 - 2s - loss: 752.3252 - val_loss: 335.4304\n",
      "Epoch 21/100\n",
      "401/401 - 2s - loss: 786.2025 - val_loss: 357.9229\n",
      "Epoch 22/100\n",
      "401/401 - 2s - loss: 829.2789 - val_loss: 433.2509\n",
      "Epoch 23/100\n",
      "401/401 - 2s - loss: 792.9012 - val_loss: 404.3051\n",
      "Epoch 24/100\n",
      "401/401 - 2s - loss: 818.7690 - val_loss: 446.0835\n",
      "Epoch 25/100\n",
      "401/401 - 2s - loss: 721.0158 - val_loss: 310.5074\n",
      "Epoch 26/100\n",
      "401/401 - 2s - loss: 704.2264 - val_loss: 250.9019\n",
      "Epoch 27/100\n",
      "401/401 - 2s - loss: 719.3007 - val_loss: 291.8466\n",
      "Epoch 28/100\n",
      "401/401 - 2s - loss: 822.3880 - val_loss: 428.2006\n",
      "Epoch 29/100\n",
      "401/401 - 2s - loss: 795.4695 - val_loss: 400.1878\n",
      "Epoch 30/100\n",
      "401/401 - 2s - loss: 718.0422 - val_loss: 243.6262\n",
      "Epoch 31/100\n",
      "401/401 - 2s - loss: 684.5151 - val_loss: 257.3192\n",
      "Epoch 32/100\n",
      "401/401 - 2s - loss: 786.6682 - val_loss: 371.3274\n",
      "Epoch 33/100\n",
      "401/401 - 2s - loss: 643.1520 - val_loss: 226.4534\n",
      "Epoch 34/100\n",
      "401/401 - 2s - loss: 801.7673 - val_loss: 338.3854\n",
      "Epoch 35/100\n",
      "401/401 - 2s - loss: 620.8740 - val_loss: 199.6403\n",
      "Epoch 36/100\n",
      "401/401 - 2s - loss: 734.1790 - val_loss: 282.2810\n",
      "Epoch 37/100\n",
      "401/401 - 3s - loss: 681.5372 - val_loss: 220.2637\n",
      "Epoch 38/100\n",
      "401/401 - 2s - loss: 704.8518 - val_loss: 240.1946\n",
      "Epoch 39/100\n",
      "401/401 - 2s - loss: 623.8833 - val_loss: 182.0686\n",
      "Epoch 40/100\n",
      "401/401 - 2s - loss: 547.9412 - val_loss: 157.7651\n",
      "Epoch 41/100\n",
      "401/401 - 2s - loss: 774.6530 - val_loss: 304.7304\n",
      "Epoch 42/100\n",
      "401/401 - 2s - loss: 595.9297 - val_loss: 174.2284\n",
      "Epoch 43/100\n",
      "401/401 - 3s - loss: 691.2386 - val_loss: 191.9015\n",
      "Epoch 44/100\n",
      "401/401 - 2s - loss: 524.0657 - val_loss: 197.1882\n",
      "Epoch 45/100\n",
      "401/401 - 3s - loss: 612.1208 - val_loss: 168.5443\n",
      "Epoch 46/100\n",
      "401/401 - 2s - loss: 727.3587 - val_loss: 280.8707\n",
      "Epoch 47/100\n",
      "401/401 - 2s - loss: 629.4499 - val_loss: 172.7043\n",
      "Epoch 48/100\n",
      "401/401 - 2s - loss: 735.4722 - val_loss: 269.8730\n",
      "Epoch 49/100\n",
      "401/401 - 2s - loss: 554.7013 - val_loss: 206.8862\n",
      "Epoch 50/100\n",
      "401/401 - 2s - loss: 687.7261 - val_loss: 210.8909\n",
      "Epoch 51/100\n",
      "401/401 - 2s - loss: 532.1611 - val_loss: 174.7069\n",
      "Epoch 52/100\n",
      "401/401 - 2s - loss: 550.8470 - val_loss: 157.3111\n",
      "Epoch 53/100\n",
      "401/401 - 2s - loss: 741.5743 - val_loss: 267.0504\n",
      "Epoch 54/100\n",
      "401/401 - 2s - loss: 734.3952 - val_loss: 259.6669\n",
      "Epoch 55/100\n",
      "401/401 - 2s - loss: 472.8467 - val_loss: 195.3019\n",
      "Epoch 56/100\n",
      "401/401 - 3s - loss: 679.4152 - val_loss: 162.4932\n",
      "Epoch 57/100\n",
      "401/401 - 2s - loss: 696.9270 - val_loss: 207.7260\n",
      "Epoch 58/100\n",
      "401/401 - 2s - loss: 742.2369 - val_loss: 242.4410\n",
      "Epoch 59/100\n",
      "401/401 - 2s - loss: 528.8316 - val_loss: 157.0589\n",
      "Epoch 60/100\n",
      "401/401 - 2s - loss: 639.3730 - val_loss: 167.1891\n",
      "Epoch 61/100\n",
      "401/401 - 2s - loss: 701.4526 - val_loss: 166.4780\n",
      "Epoch 62/100\n",
      "401/401 - 2s - loss: 678.7658 - val_loss: 150.1307\n",
      "Epoch 63/100\n",
      "401/401 - 2s - loss: 707.6058 - val_loss: 155.2986\n",
      "Epoch 64/100\n",
      "401/401 - 2s - loss: 727.1356 - val_loss: 218.0374\n",
      "Epoch 65/100\n",
      "401/401 - 2s - loss: 733.4761 - val_loss: 264.4955\n",
      "Epoch 66/100\n",
      "401/401 - 2s - loss: 738.3774 - val_loss: 228.6720\n",
      "Epoch 67/100\n",
      "401/401 - 2s - loss: 705.4142 - val_loss: 262.8797\n",
      "Epoch 68/100\n",
      "401/401 - 2s - loss: 612.8600 - val_loss: 158.1731\n",
      "Epoch 69/100\n",
      "401/401 - 2s - loss: 705.1459 - val_loss: 253.0691\n",
      "Epoch 70/100\n",
      "401/401 - 2s - loss: 544.6620 - val_loss: 151.5415\n",
      "Epoch 71/100\n",
      "401/401 - 2s - loss: 721.3843 - val_loss: 188.8138\n",
      "Epoch 72/100\n",
      "401/401 - 2s - loss: 521.2979 - val_loss: 210.4646\n",
      "Epoch 73/100\n",
      "401/401 - 2s - loss: 637.4943 - val_loss: 149.7922\n",
      "Epoch 74/100\n",
      "401/401 - 2s - loss: 563.6816 - val_loss: 192.5563\n",
      "Epoch 75/100\n",
      "401/401 - 2s - loss: 574.0669 - val_loss: 172.4209\n",
      "Epoch 76/100\n",
      "401/401 - 2s - loss: 670.2994 - val_loss: 160.3730\n",
      "Epoch 77/100\n",
      "401/401 - 2s - loss: 609.4370 - val_loss: 149.8148\n",
      "Epoch 78/100\n",
      "401/401 - 2s - loss: 772.9561 - val_loss: 226.2568\n",
      "Epoch 79/100\n",
      "401/401 - 2s - loss: 641.2247 - val_loss: 216.2864\n",
      "Epoch 80/100\n",
      "401/401 - 2s - loss: 706.6531 - val_loss: 214.1468\n",
      "Epoch 81/100\n",
      "401/401 - 2s - loss: 539.8832 - val_loss: 163.5255\n",
      "Epoch 82/100\n",
      "401/401 - 2s - loss: 655.5606 - val_loss: 183.9917\n",
      "Epoch 83/100\n",
      "401/401 - 2s - loss: 533.3723 - val_loss: 162.9248\n",
      "Epoch 84/100\n",
      "401/401 - 2s - loss: 673.0491 - val_loss: 175.1846\n",
      "Epoch 85/100\n",
      "401/401 - 2s - loss: 598.9432 - val_loss: 207.0862\n",
      "Epoch 86/100\n",
      "401/401 - 2s - loss: 641.3079 - val_loss: 154.3159\n",
      "Epoch 87/100\n",
      "401/401 - 2s - loss: 595.5305 - val_loss: 164.6728\n",
      "Epoch 88/100\n",
      "401/401 - 2s - loss: 590.7214 - val_loss: 160.5796\n",
      "Epoch 89/100\n",
      "401/401 - 2s - loss: 556.6990 - val_loss: 277.5392\n",
      "Epoch 90/100\n",
      "401/401 - 2s - loss: 658.3973 - val_loss: 172.1657\n",
      "Epoch 91/100\n",
      "401/401 - 2s - loss: 527.1502 - val_loss: 157.0500\n",
      "Epoch 92/100\n",
      "401/401 - 2s - loss: 549.3350 - val_loss: 314.3321\n",
      "Epoch 93/100\n",
      "401/401 - 2s - loss: 593.7871 - val_loss: 157.9825\n",
      "Epoch 94/100\n",
      "401/401 - 2s - loss: 610.9034 - val_loss: 160.1599\n",
      "Epoch 95/100\n",
      "401/401 - 2s - loss: 543.8505 - val_loss: 234.3311\n",
      "Epoch 96/100\n",
      "401/401 - 2s - loss: 586.4153 - val_loss: 154.1443\n",
      "Epoch 97/100\n",
      "401/401 - 2s - loss: 490.4768 - val_loss: 228.1630\n",
      "Epoch 98/100\n",
      "401/401 - 2s - loss: 661.8765 - val_loss: 203.7572\n",
      "Epoch 99/100\n",
      "401/401 - 3s - loss: 511.8790 - val_loss: 194.6375\n",
      "Epoch 100/100\n",
      "401/401 - 2s - loss: 535.5831 - val_loss: 181.9084\n"
     ]
    },
    {
     "data": {
      "image/png": "[encoded data removed]",
      "text/plain": [
       "<Figure size 432x288 with 1 Axes>"
      ]
     },
     "metadata": {
      "needs_background": "light"
     },
     "output_type": "display_data"
    }
   ],
   "source": [
    "# LSTM model untuk seasonal\n",
    "model = Sequential()\n",
    "model.add(LSTM(jumlah_neuron, return_sequences=True, input_shape=(train_X.shape[1], train_X.shape[2])))\n",
    "model.add(LSTM(jumlah_neuron))\n",
    "model.add(Dense(1))\n",
    "sgd = optimizers.SGD(lr=0.01, decay=1e-6, momentum=0.9, nesterov=True)\n",
    "model.compile(loss='mae', optimizer='adam')\n",
    "# fit network\n",
    "history = model.fit(train_X, train_y, epochs=epooch_total, batch_size=size_batch, validation_data=(test_X, test_y), verbose=2, shuffle=False)\n",
    "# plot history\n",
    "plt.plot(history.history['loss'], label='train')\n",
    "plt.plot(history.history['val_loss'], label='test')\n",
    "plt.legend()\n",
    "plt.show()"
   ]
  },
  {
   "cell_type": "code",
   "execution_count": 9,
   "metadata": {},
   "outputs": [
    {
     "data": {
      "text/plain": [
       "array([[899.80853],\n",
       "       [899.80853],\n",
       "       [899.80853],\n",
       "       [899.7633 ],\n",
       "       [899.52423],\n",
       "       [899.80273],\n",
       "       [899.80853],\n",
       "       [899.80853],\n",
       "       [899.80853],\n",
       "       [899.80853]], dtype=float32)"
      ]
     },
     "execution_count": 9,
     "metadata": {},
     "output_type": "execute_result"
    }
   ],
   "source": [
    "# make a prediction\n",
    "yhat = model.predict(test_X)\n",
    "yhat"
   ]
  },
  {
   "cell_type": "code",
   "execution_count": 11,
   "metadata": {},
   "outputs": [
    {
     "data": {
      "text/plain": [
       "[899.8085327148438,\n",
       " 899.8085327148438,\n",
       " 899.8085327148438,\n",
       " 899.7633056640625,\n",
       " 899.5242309570312,\n",
       " 899.802734375,\n",
       " 899.8085327148438,\n",
       " 899.8085327148438,\n",
       " 899.8085327148438,\n",
       " 899.8085327148438]"
      ]
     },
     "execution_count": 11,
     "metadata": {},
     "output_type": "execute_result"
    }
   ],
   "source": [
    "# jadikan list semua hasil prediksi\n",
    "hasil_lstm = ndarray.tolist(yhat)\n",
    "list_evaluasi = validation['case'].tolist()\n",
    "length = len(list_evaluasi)\n",
    "hasil_final = list()\n",
    "\n",
    "for i in range(length):\n",
    "    result_single = hasil_lstm[i]\n",
    "    result_single = result_single[0]\n",
    "    tambah = result_single\n",
    "    hasil_final.append(tambah)\n",
    "    #print('hasil tambah',tambah)\n",
    "\n",
    "hasil_final"
   ]
  },
  {
   "cell_type": "code",
   "execution_count": 12,
   "metadata": {},
   "outputs": [
    {
     "name": "stdout",
     "output_type": "stream",
     "text": [
      "Hasil MSE : 48356.09654854089\n"
     ]
    }
   ],
   "source": [
    "mse = mean_squared_error(list_evaluasi, hasil_final)\n",
    "print(\"Hasil MSE :\", mse)"
   ]
  },
  {
   "cell_type": "code",
   "execution_count": 13,
   "metadata": {},
   "outputs": [
    {
     "data": {
      "text/plain": [
       "219.90019679059154"
      ]
     },
     "execution_count": 13,
     "metadata": {},
     "output_type": "execute_result"
    }
   ],
   "source": [
    "rmse = mean_squared_error(list_evaluasi, hasil_final, squared=False)\n",
    "rmse"
   ]
  },
  {
   "cell_type": "code",
   "execution_count": 14,
   "metadata": {},
   "outputs": [
    {
     "data": {
      "text/plain": [
       "176.11329345703126"
      ]
     },
     "execution_count": 14,
     "metadata": {},
     "output_type": "execute_result"
    }
   ],
   "source": [
    "mae = mean_absolute_error(list_evaluasi, hasil_final)\n",
    "mae"
   ]
  },
  {
   "cell_type": "code",
   "execution_count": null,
   "metadata": {},
   "outputs": [],
   "source": []
  }
 ],
 "metadata": {
  "kernelspec": {
   "display_name": "Python 3",
   "language": "python",
   "name": "python3"
  },
  "language_info": {
   "codemirror_mode": {
    "name": "ipython",
    "version": 3
   },
   "file_extension": ".py",
   "mimetype": "text/x-python",
   "name": "python",
   "nbconvert_exporter": "python",
   "pygments_lexer": "ipython3",
   "version": "3.7.9"
  }
 },
 "nbformat": 4,
 "nbformat_minor": 4
}
