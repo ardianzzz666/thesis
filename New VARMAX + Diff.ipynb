{
 "cells": [
  {
   "cell_type": "code",
   "execution_count": 1,
   "metadata": {},
   "outputs": [],
   "source": [
    "import warnings\n",
    "warnings.filterwarnings('ignore')\n",
    "\n",
    "import os\n",
    "import random\n",
    "import numpy as np\n",
    "from numpy import mean\n",
    "from numpy import std\n",
    "import pandas as pd\n",
    "from pandas import datetime\n",
    "from pandas import DataFrame\n",
    "import matplotlib.pyplot as plt\n",
    "from pandas import Series\n",
    "\n",
    "from statsmodels.tsa.statespace.varmax import VARMAX\n",
    "from sklearn.metrics import mean_squared_error\n",
    "from sklearn.metrics import mean_absolute_error\n",
    "\n",
    "\n",
    "from statsmodels.tsa.stattools import adfuller\n",
    "from statsmodels.tools.eval_measures import rmse, aic\n",
    "from sklearn.model_selection import train_test_split"
   ]
  },
  {
   "cell_type": "code",
   "execution_count": 2,
   "metadata": {},
   "outputs": [],
   "source": [
    "# dataset united kingdom\n",
    "#case = pd.read_csv('UK/case.csv')\n",
    "#mobility = pd.read_csv('UK/mobility.csv')\n",
    "#case.set_index('date', inplace=True)\n",
    "#mobility.set_index('date', inplace=True)\n",
    "\n",
    "# dataset indonesia (jakarta)\n",
    "case = pd.read_csv('data/new/case_maret_july.csv')\n",
    "mobility = pd.read_csv('data/new/mobility_maret_july.csv')\n",
    "weather = pd.read_csv('data/new/weather_maret_july.csv')\n",
    "case.set_index('date', inplace=True)\n",
    "#weather.set_index('date', inplace=True)\n",
    "mobility.set_index('date', inplace=True)"
   ]
  },
  {
   "cell_type": "code",
   "execution_count": 3,
   "metadata": {},
   "outputs": [],
   "source": [
    "new_weather = weather.interpolate(method='spline', order=2)\n",
    "new_weather.head()\n",
    "\n",
    "new_weather.set_index('date', inplace=True)"
   ]
  },
  {
   "cell_type": "code",
   "execution_count": 4,
   "metadata": {},
   "outputs": [
    {
     "data": {
      "text/html": [
       "<div>\n",
       "<style scoped>\n",
       "    .dataframe tbody tr th:only-of-type {\n",
       "        vertical-align: middle;\n",
       "    }\n",
       "\n",
       "    .dataframe tbody tr th {\n",
       "        vertical-align: top;\n",
       "    }\n",
       "\n",
       "    .dataframe thead th {\n",
       "        text-align: right;\n",
       "    }\n",
       "</style>\n",
       "<table border=\"1\" class=\"dataframe\">\n",
       "  <thead>\n",
       "    <tr style=\"text-align: right;\">\n",
       "      <th></th>\n",
       "      <th>retail_recreation</th>\n",
       "      <th>grocery_pahrmacy</th>\n",
       "      <th>parks</th>\n",
       "      <th>transit_station</th>\n",
       "      <th>workplace</th>\n",
       "      <th>residential</th>\n",
       "    </tr>\n",
       "    <tr>\n",
       "      <th>date</th>\n",
       "      <th></th>\n",
       "      <th></th>\n",
       "      <th></th>\n",
       "      <th></th>\n",
       "      <th></th>\n",
       "      <th></th>\n",
       "    </tr>\n",
       "  </thead>\n",
       "  <tbody>\n",
       "    <tr>\n",
       "      <th>2020-03-19</th>\n",
       "      <td>-6.0</td>\n",
       "      <td>-9.0</td>\n",
       "      <td>-5.0</td>\n",
       "      <td>-6.0</td>\n",
       "      <td>-2.0</td>\n",
       "      <td>1.0</td>\n",
       "    </tr>\n",
       "    <tr>\n",
       "      <th>2020-03-20</th>\n",
       "      <td>-2.0</td>\n",
       "      <td>1.0</td>\n",
       "      <td>1.0</td>\n",
       "      <td>-4.0</td>\n",
       "      <td>-2.0</td>\n",
       "      <td>3.0</td>\n",
       "    </tr>\n",
       "    <tr>\n",
       "      <th>2020-03-21</th>\n",
       "      <td>-5.0</td>\n",
       "      <td>6.0</td>\n",
       "      <td>-6.0</td>\n",
       "      <td>2.0</td>\n",
       "      <td>13.0</td>\n",
       "      <td>-4.0</td>\n",
       "    </tr>\n",
       "    <tr>\n",
       "      <th>2020-03-22</th>\n",
       "      <td>-14.0</td>\n",
       "      <td>-17.0</td>\n",
       "      <td>-21.0</td>\n",
       "      <td>-9.0</td>\n",
       "      <td>-2.0</td>\n",
       "      <td>3.0</td>\n",
       "    </tr>\n",
       "    <tr>\n",
       "      <th>2020-03-23</th>\n",
       "      <td>9.0</td>\n",
       "      <td>3.0</td>\n",
       "      <td>16.0</td>\n",
       "      <td>-4.0</td>\n",
       "      <td>-22.0</td>\n",
       "      <td>4.0</td>\n",
       "    </tr>\n",
       "  </tbody>\n",
       "</table>\n",
       "</div>"
      ],
      "text/plain": [
       "            retail_recreation  grocery_pahrmacy  parks  transit_station  \\\n",
       "date                                                                      \n",
       "2020-03-19               -6.0              -9.0   -5.0             -6.0   \n",
       "2020-03-20               -2.0               1.0    1.0             -4.0   \n",
       "2020-03-21               -5.0               6.0   -6.0              2.0   \n",
       "2020-03-22              -14.0             -17.0  -21.0             -9.0   \n",
       "2020-03-23                9.0               3.0   16.0             -4.0   \n",
       "\n",
       "            workplace  residential  \n",
       "date                                \n",
       "2020-03-19       -2.0          1.0  \n",
       "2020-03-20       -2.0          3.0  \n",
       "2020-03-21       13.0         -4.0  \n",
       "2020-03-22       -2.0          3.0  \n",
       "2020-03-23      -22.0          4.0  "
      ]
     },
     "execution_count": 4,
     "metadata": {},
     "output_type": "execute_result"
    }
   ],
   "source": [
    "# Differencing order = 1\n",
    "mobility_diff = mobility.diff(periods=1)\n",
    "mobility_diff = mobility_diff.iloc[1:]\n",
    "\n",
    "case_diff = case.diff(periods=1)\n",
    "case_diff = case_diff.iloc[1:]\n",
    "\n",
    "new_weather = new_weather.iloc[1:]\n",
    "mobility_diff.head()"
   ]
  },
  {
   "cell_type": "code",
   "execution_count": 5,
   "metadata": {},
   "outputs": [
    {
     "data": {
      "text/html": [
       "<div>\n",
       "<style scoped>\n",
       "    .dataframe tbody tr th:only-of-type {\n",
       "        vertical-align: middle;\n",
       "    }\n",
       "\n",
       "    .dataframe tbody tr th {\n",
       "        vertical-align: top;\n",
       "    }\n",
       "\n",
       "    .dataframe thead th {\n",
       "        text-align: right;\n",
       "    }\n",
       "</style>\n",
       "<table border=\"1\" class=\"dataframe\">\n",
       "  <thead>\n",
       "    <tr style=\"text-align: right;\">\n",
       "      <th></th>\n",
       "      <th>case</th>\n",
       "      <th>rh</th>\n",
       "      <th>avt</th>\n",
       "      <th>mxt</th>\n",
       "      <th>mnt</th>\n",
       "    </tr>\n",
       "    <tr>\n",
       "      <th>date</th>\n",
       "      <th></th>\n",
       "      <th></th>\n",
       "      <th></th>\n",
       "      <th></th>\n",
       "      <th></th>\n",
       "    </tr>\n",
       "  </thead>\n",
       "  <tbody>\n",
       "    <tr>\n",
       "      <th>2020-03-19</th>\n",
       "      <td>12.0</td>\n",
       "      <td>83.0</td>\n",
       "      <td>28.1</td>\n",
       "      <td>31.4</td>\n",
       "      <td>25.800000</td>\n",
       "    </tr>\n",
       "    <tr>\n",
       "      <th>2020-03-20</th>\n",
       "      <td>-36.0</td>\n",
       "      <td>82.0</td>\n",
       "      <td>27.4</td>\n",
       "      <td>31.2</td>\n",
       "      <td>25.200000</td>\n",
       "    </tr>\n",
       "    <tr>\n",
       "      <th>2020-03-21</th>\n",
       "      <td>30.0</td>\n",
       "      <td>81.0</td>\n",
       "      <td>28.1</td>\n",
       "      <td>32.4</td>\n",
       "      <td>26.521978</td>\n",
       "    </tr>\n",
       "    <tr>\n",
       "      <th>2020-03-22</th>\n",
       "      <td>-8.0</td>\n",
       "      <td>84.0</td>\n",
       "      <td>27.2</td>\n",
       "      <td>31.2</td>\n",
       "      <td>25.000000</td>\n",
       "    </tr>\n",
       "    <tr>\n",
       "      <th>2020-03-23</th>\n",
       "      <td>15.0</td>\n",
       "      <td>81.0</td>\n",
       "      <td>28.2</td>\n",
       "      <td>31.8</td>\n",
       "      <td>25.000000</td>\n",
       "    </tr>\n",
       "  </tbody>\n",
       "</table>\n",
       "</div>"
      ],
      "text/plain": [
       "            case    rh   avt   mxt        mnt\n",
       "date                                         \n",
       "2020-03-19  12.0  83.0  28.1  31.4  25.800000\n",
       "2020-03-20 -36.0  82.0  27.4  31.2  25.200000\n",
       "2020-03-21  30.0  81.0  28.1  32.4  26.521978\n",
       "2020-03-22  -8.0  84.0  27.2  31.2  25.000000\n",
       "2020-03-23  15.0  81.0  28.2  31.8  25.000000"
      ]
     },
     "execution_count": 5,
     "metadata": {},
     "output_type": "execute_result"
    }
   ],
   "source": [
    "data = pd.concat([case_diff, new_weather], axis=1)\n",
    "data.head()"
   ]
  },
  {
   "cell_type": "code",
   "execution_count": 6,
   "metadata": {},
   "outputs": [
    {
     "data": {
      "text/plain": [
       "(422, 5)"
      ]
     },
     "execution_count": 6,
     "metadata": {},
     "output_type": "execute_result"
    }
   ],
   "source": [
    "data.shape"
   ]
  },
  {
   "cell_type": "code",
   "execution_count": 7,
   "metadata": {},
   "outputs": [],
   "source": [
    "train = data[:412]\n",
    "train_exog = mobility_diff[:412]\n",
    "test = data[412:]\n",
    "test_exog = mobility_diff[412:]"
   ]
  },
  {
   "cell_type": "code",
   "execution_count": 8,
   "metadata": {},
   "outputs": [
    {
     "name": "stderr",
     "output_type": "stream",
     "text": [
      "C:\\ProgramData\\Anaconda3\\envs\\Forecatsing\\lib\\site-packages\\statsmodels\\tsa\\statespace\\varmax.py:163: EstimationWarning: Estimation of VARMA(p,q) models is not generically robust, due especially to identification issues.\n",
      "  EstimationWarning)\n",
      "C:\\ProgramData\\Anaconda3\\envs\\Forecatsing\\lib\\site-packages\\statsmodels\\tsa\\base\\tsa_model.py:527: ValueWarning: No frequency information was provided, so inferred frequency D will be used.\n",
      "  % freq, ValueWarning)\n"
     ]
    },
    {
     "name": "stdout",
     "output_type": "stream",
     "text": [
      "                                    Statespace Model Results                                   \n",
      "===============================================================================================\n",
      "Dep. Variable:     ['case', 'rh', 'avt', 'mxt', 'mnt']   No. Observations:                  412\n",
      "Model:                                     VARMAX(3,1)   Log Likelihood               -5146.701\n",
      "                                           + intercept   AIC                          10593.403\n",
      "Date:                                 Tue, 24 Aug 2021   BIC                          11196.556\n",
      "Time:                                         12:20:22   HQIC                         10831.980\n",
      "Sample:                                     03-19-2020                                         \n",
      "                                          - 05-04-2021                                         \n",
      "Covariance Type:                                   opg                                         \n",
      "===========================================================================================================\n",
      "Ljung-Box (L1) (Q):      0.03, 0.08, 0.01, 0.00, 0.00   Jarque-Bera (JB):   376.04, 4.47, 5.89, 11.32, 6.36\n",
      "Prob(Q):                 0.86, 0.78, 0.90, 0.99, 0.97   Prob(JB):              0.00, 0.11, 0.05, 0.00, 0.04\n",
      "Heteroskedasticity (H): 16.97, 0.97, 0.82, 1.33, 0.98   Skew:               -0.48, 0.17, -0.19, 0.17, -0.30\n",
      "Prob(H) (two-sided):     0.00, 0.87, 0.25, 0.09, 0.92   Kurtosis:              7.58, 3.38, 3.44, 3.74, 3.12\n",
      "                                Results for equation case                                 \n",
      "==========================================================================================\n",
      "                             coef    std err          z      P>|z|      [0.025      0.975]\n",
      "------------------------------------------------------------------------------------------\n",
      "intercept               1007.7987     78.993     12.758      0.000     852.975    1162.622\n",
      "L1.case                   -0.3589      0.367     -0.978      0.328      -1.078       0.361\n",
      "L1.rh                      0.2031     27.710      0.007      0.994     -54.107      54.513\n",
      "L1.avt                   -18.8221    348.018     -0.054      0.957    -700.925     663.281\n",
      "L1.mxt                    12.2332    206.117      0.059      0.953    -391.748     416.214\n",
      "L1.mnt                   -27.5391    306.426     -0.090      0.928    -628.124     573.046\n",
      "L2.case                   -0.3186      0.136     -2.339      0.019      -0.586      -0.052\n",
      "L2.rh                     -6.6320     22.206     -0.299      0.765     -50.154      36.890\n",
      "L2.avt                   -23.7956    247.874     -0.096      0.924    -509.620     462.029\n",
      "L2.mxt                    -6.6024     39.953     -0.165      0.869     -84.909      71.705\n",
      "L2.mnt                    44.2636     56.581      0.782      0.434     -66.633     155.160\n",
      "L3.case                   -0.1404      0.128     -1.100      0.271      -0.391       0.110\n",
      "L3.rh                      3.3323     16.365      0.204      0.839     -28.743      35.407\n",
      "L3.avt                   -17.3402    111.789     -0.155      0.877    -236.443     201.763\n",
      "L3.mxt                    38.0263     40.367      0.942      0.346     -41.091     117.144\n",
      "L3.mnt                   -34.7297     45.683     -0.760      0.447    -124.266      54.807\n",
      "L1.e(case)                -0.0404      0.375     -0.108      0.914      -0.776       0.695\n",
      "L1.e(rh)                  -3.6025     30.767     -0.117      0.907     -63.906      56.701\n",
      "L1.e(avt)                  9.1622    346.255      0.026      0.979    -669.484     687.809\n",
      "L1.e(mxt)                 -9.8906    208.325     -0.047      0.962    -418.201     398.419\n",
      "L1.e(mnt)                 -2.1654    310.142     -0.007      0.994    -610.032     605.702\n",
      "beta.retail_recreation    -6.3516     15.504     -0.410      0.682     -36.738      24.035\n",
      "beta.grocery_pahrmacy      2.2489     10.922      0.206      0.837     -19.158      23.655\n",
      "beta.parks                 5.7688      6.036      0.956      0.339      -6.062      17.599\n",
      "beta.transit_station     -25.4728     14.827     -1.718      0.086     -54.533       3.587\n",
      "beta.workplace             7.8594      6.889      1.141      0.254      -5.642      21.361\n",
      "beta.residential         -11.0712     26.750     -0.414      0.679     -63.499      41.357\n",
      "                                 Results for equation rh                                  \n",
      "==========================================================================================\n",
      "                             coef    std err          z      P>|z|      [0.025      0.975]\n",
      "------------------------------------------------------------------------------------------\n",
      "intercept                 27.6318     30.645      0.902      0.367     -32.432      87.695\n",
      "L1.case                 1.622e-05      0.004      0.004      0.997      -0.007       0.008\n",
      "L1.rh                      0.7063      0.507      1.393      0.164      -0.288       1.700\n",
      "L1.avt                     0.2580      4.666      0.055      0.956      -8.887       9.403\n",
      "L1.mxt                     0.1023      2.208      0.046      0.963      -4.226       4.430\n",
      "L1.mnt                     0.2976      3.064      0.097      0.923      -5.707       6.302\n",
      "L2.case                   -0.0002      0.002     -0.095      0.925      -0.004       0.003\n",
      "L2.rh                     -0.1242      0.347     -0.358      0.720      -0.804       0.555\n",
      "L2.avt                     0.6361      3.055      0.208      0.835      -5.352       6.624\n",
      "L2.mxt                    -1.0298      0.472     -2.183      0.029      -1.954      -0.105\n",
      "L2.mnt                     0.0587      0.674      0.087      0.931      -1.263       1.381\n",
      "L3.case                   -0.0020      0.001     -1.395      0.163      -0.005       0.001\n",
      "L3.rh                      0.1454      0.193      0.754      0.451      -0.233       0.524\n",
      "L3.avt                     0.2475      1.429      0.173      0.863      -2.554       3.049\n",
      "L3.mxt                     0.0123      0.537      0.023      0.982      -1.040       1.065\n",
      "L3.mnt                    -0.7389      0.558     -1.323      0.186      -1.833       0.356\n",
      "L1.e(case)                -0.0004      0.004     -0.114      0.909      -0.008       0.007\n",
      "L1.e(rh)                  -0.0433      0.531     -0.081      0.935      -1.084       0.998\n",
      "L1.e(avt)                 -0.2270      4.829     -0.047      0.963      -9.692       9.238\n",
      "L1.e(mxt)                  0.0705      2.273      0.031      0.975      -4.385       4.526\n",
      "L1.e(mnt)                  0.0711      3.108      0.023      0.982      -6.020       6.162\n",
      "beta.retail_recreation    -0.0365      0.142     -0.256      0.798      -0.315       0.242\n",
      "beta.grocery_pahrmacy      0.0050      0.088      0.057      0.955      -0.168       0.178\n",
      "beta.parks                -0.0429      0.054     -0.787      0.431      -0.150       0.064\n",
      "beta.transit_station       0.0469      0.152      0.309      0.757      -0.251       0.344\n",
      "beta.workplace             0.0154      0.066      0.235      0.814      -0.113       0.144\n",
      "beta.residential           0.0553      0.230      0.241      0.810      -0.395       0.505\n",
      "                                 Results for equation avt                                 \n",
      "==========================================================================================\n",
      "                             coef    std err          z      P>|z|      [0.025      0.975]\n",
      "------------------------------------------------------------------------------------------\n",
      "intercept                  2.5880      4.973      0.520      0.603      -7.158      12.334\n",
      "L1.case                    0.0001      0.001      0.195      0.845      -0.001       0.002\n",
      "L1.rh                     -0.0304      0.080     -0.380      0.704      -0.187       0.126\n",
      "L1.avt                     0.4956      0.824      0.601      0.548      -1.120       2.111\n",
      "L1.mxt                     0.0138      0.406      0.034      0.973      -0.782       0.809\n",
      "L1.mnt                    -0.1470      0.537     -0.274      0.784      -1.199       0.905\n",
      "L2.case                    0.0001      0.000      0.416      0.677      -0.000       0.001\n",
      "L2.rh                      0.0377      0.055      0.683      0.494      -0.070       0.146\n",
      "L2.avt                     0.1021      0.539      0.189      0.850      -0.955       1.159\n",
      "L2.mxt                     0.1186      0.082      1.451      0.147      -0.042       0.279\n",
      "L2.mnt                    -0.0298      0.121     -0.246      0.806      -0.268       0.208\n",
      "L3.case                    0.0004      0.000      1.595      0.111   -8.78e-05       0.001\n",
      "L3.rh                      0.0139      0.032      0.427      0.670      -0.050       0.077\n",
      "L3.avt                     0.1134      0.235      0.483      0.629      -0.346       0.573\n",
      "L3.mxt                     0.0516      0.085      0.605      0.545      -0.116       0.219\n",
      "L3.mnt                     0.1039      0.092      1.123      0.261      -0.077       0.285\n",
      "L1.e(case)              9.502e-05      0.001      0.138      0.891      -0.001       0.001\n",
      "L1.e(rh)                  -0.0010      0.083     -0.012      0.991      -0.164       0.162\n",
      "L1.e(avt)                  0.0032      0.865      0.004      0.997      -1.691       1.698\n",
      "L1.e(mxt)                 -0.0191      0.424     -0.045      0.964      -0.849       0.811\n",
      "L1.e(mnt)                 -0.0042      0.543     -0.008      0.994      -1.069       1.061\n",
      "beta.retail_recreation     0.0053      0.024      0.216      0.829      -0.043       0.053\n",
      "beta.grocery_pahrmacy      0.0105      0.015      0.681      0.496      -0.020       0.041\n",
      "beta.parks                 0.0044      0.010      0.428      0.669      -0.016       0.024\n",
      "beta.transit_station      -0.0009      0.024     -0.036      0.971      -0.048       0.046\n",
      "beta.workplace            -0.0002      0.012     -0.016      0.987      -0.023       0.023\n",
      "beta.residential           0.0084      0.036      0.236      0.814      -0.061       0.078\n",
      "                                 Results for equation mxt                                 \n",
      "==========================================================================================\n",
      "                             coef    std err          z      P>|z|      [0.025      0.975]\n",
      "------------------------------------------------------------------------------------------\n",
      "intercept                  4.3130      7.905      0.546      0.585     -11.180      19.806\n",
      "L1.case                -5.821e-05      0.001     -0.057      0.955      -0.002       0.002\n",
      "L1.rh                     -0.0663      0.128     -0.518      0.604      -0.317       0.184\n",
      "L1.avt                     0.2920      1.232      0.237      0.813      -2.123       2.707\n",
      "L1.mxt                     0.0996      0.544      0.183      0.855      -0.966       1.165\n",
      "L1.mnt                    -0.0876      0.733     -0.120      0.905      -1.525       1.350\n",
      "L2.case                    0.0001      0.000      0.304      0.761      -0.001       0.001\n",
      "L2.rh                      0.0393      0.085      0.461      0.645      -0.128       0.206\n",
      "L2.avt                     0.0084      0.766      0.011      0.991      -1.493       1.509\n",
      "L2.mxt                     0.1811      0.113      1.605      0.109      -0.040       0.402\n",
      "L2.mnt                    -0.0500      0.185     -0.270      0.787      -0.413       0.313\n",
      "L3.case                    0.0005      0.000      1.444      0.149      -0.000       0.001\n",
      "L3.rh                      0.0250      0.050      0.498      0.618      -0.073       0.123\n",
      "L3.avt                     0.1406      0.362      0.389      0.697      -0.568       0.849\n",
      "L3.mxt                     0.1960      0.127      1.544      0.123      -0.053       0.445\n",
      "L3.mnt                     0.1431      0.129      1.107      0.268      -0.110       0.397\n",
      "L1.e(case)                 0.0001      0.001      0.105      0.916      -0.002       0.002\n",
      "L1.e(rh)                   0.0026      0.131      0.020      0.984      -0.253       0.258\n",
      "L1.e(avt)                  0.0119      1.277      0.009      0.993      -2.492       2.516\n",
      "L1.e(mxt)                 -0.0300      0.556     -0.054      0.957      -1.119       1.059\n",
      "L1.e(mnt)                 -0.0156      0.745     -0.021      0.983      -1.476       1.445\n",
      "beta.retail_recreation     0.0062      0.040      0.156      0.876      -0.072       0.085\n",
      "beta.grocery_pahrmacy      0.0111      0.027      0.414      0.679      -0.041       0.064\n",
      "beta.parks                -0.0114      0.018     -0.633      0.526      -0.047       0.024\n",
      "beta.transit_station       0.0145      0.039      0.368      0.713      -0.063       0.092\n",
      "beta.workplace            -0.0124      0.019     -0.638      0.523      -0.051       0.026\n",
      "beta.residential          -0.0053      0.060     -0.088      0.930      -0.123       0.113\n",
      "                                 Results for equation mnt                                 \n",
      "==========================================================================================\n",
      "                             coef    std err          z      P>|z|      [0.025      0.975]\n",
      "------------------------------------------------------------------------------------------\n",
      "intercept                  0.8639      4.498      0.192      0.848      -7.952       9.679\n",
      "L1.case                    0.0001      0.001      0.192      0.848      -0.001       0.001\n",
      "L1.rh                      0.0030      0.067      0.044      0.965      -0.128       0.134\n",
      "L1.avt                     0.5988      0.782      0.766      0.444      -0.934       2.131\n",
      "L1.mxt                    -0.0313      0.426     -0.073      0.942      -0.867       0.804\n",
      "L1.mnt                    -0.0705      0.589     -0.120      0.905      -1.225       1.084\n",
      "L2.case                    0.0002      0.000      0.885      0.376      -0.000       0.001\n",
      "L2.rh                      0.0346      0.045      0.765      0.445      -0.054       0.123\n",
      "L2.avt                     0.1448      0.540      0.268      0.789      -0.914       1.203\n",
      "L2.mxt                     0.0302      0.080      0.375      0.708      -0.128       0.188\n",
      "L2.mnt                    -0.0183      0.125     -0.146      0.884      -0.264       0.227\n",
      "L3.case                 9.788e-05      0.000      0.445      0.657      -0.000       0.001\n",
      "L3.rh                     -0.0020      0.030     -0.066      0.948      -0.061       0.058\n",
      "L3.avt                     0.0980      0.207      0.474      0.635      -0.307       0.503\n",
      "L3.mxt                     0.0017      0.076      0.023      0.982      -0.147       0.150\n",
      "L3.mnt                     0.0188      0.081      0.232      0.816      -0.140       0.178\n",
      "L1.e(case)               7.14e-05      0.001      0.109      0.913      -0.001       0.001\n",
      "L1.e(rh)                   0.0020      0.067      0.030      0.976      -0.130       0.134\n",
      "L1.e(avt)                 -0.0053      0.784     -0.007      0.995      -1.543       1.532\n",
      "L1.e(mxt)                 -0.0042      0.433     -0.010      0.992      -0.853       0.844\n",
      "L1.e(mnt)                  0.0087      0.593      0.015      0.988      -1.153       1.171\n",
      "beta.retail_recreation    -0.0023      0.021     -0.109      0.913      -0.043       0.039\n",
      "beta.grocery_pahrmacy     -0.0059      0.016     -0.374      0.709      -0.037       0.025\n",
      "beta.parks                -0.0109      0.011     -0.954      0.340      -0.033       0.012\n",
      "beta.transit_station       0.0255      0.024      1.076      0.282      -0.021       0.072\n",
      "beta.workplace            -0.0048      0.011     -0.423      0.672      -0.027       0.017\n",
      "beta.residential           0.0379      0.038      0.988      0.323      -0.037       0.113\n",
      "                               Error covariance matrix                               \n",
      "=====================================================================================\n",
      "                        coef    std err          z      P>|z|      [0.025      0.975]\n",
      "-------------------------------------------------------------------------------------\n",
      "sqrt.var.case       313.5688     11.285     27.787      0.000     291.451     335.686\n",
      "sqrt.cov.case.rh     -0.1707      0.315     -0.542      0.588      -0.788       0.446\n",
      "sqrt.var.rh           3.9986      0.210     19.027      0.000       3.587       4.410\n",
      "sqrt.cov.case.avt     0.0455      0.053      0.853      0.394      -0.059       0.150\n",
      "sqrt.cov.rh.avt      -0.5045      0.042    -11.928      0.000      -0.587      -0.422\n",
      "sqrt.var.avt          0.4503      0.021     21.387      0.000       0.409       0.492\n",
      "sqrt.cov.case.mxt    -0.0055      0.079     -0.070      0.944      -0.161       0.150\n",
      "sqrt.cov.rh.mxt      -0.6826      0.066    -10.304      0.000      -0.812      -0.553\n",
      "sqrt.cov.avt.mxt      0.3502      0.049      7.164      0.000       0.254       0.446\n",
      "sqrt.var.mxt          0.7038      0.033     21.320      0.000       0.639       0.769\n",
      "sqrt.cov.case.mnt     0.0204      0.047      0.437      0.662      -0.071       0.112\n",
      "sqrt.cov.rh.mnt      -0.1682      0.043     -3.951      0.000      -0.252      -0.085\n",
      "sqrt.cov.avt.mnt      0.2095      0.039      5.430      0.000       0.134       0.285\n",
      "sqrt.cov.mxt.mnt     -0.0947      0.039     -2.454      0.014      -0.170      -0.019\n",
      "sqrt.var.mnt          0.5664      0.026     21.385      0.000       0.514       0.618\n",
      "=====================================================================================\n",
      "\n",
      "Warnings:\n",
      "[1] Covariance matrix calculated using the outer product of gradients (complex-step).\n",
      "[2] Covariance matrix is singular or near-singular, with condition number 1.29e+16. Standard errors may be unstable.\n"
     ]
    }
   ],
   "source": [
    "model = VARMAX(train, exog=train_exog, order=(3, 1))\n",
    "model_fit = model.fit(disp=False)\n",
    "print(model_fit.summary())"
   ]
  },
  {
   "cell_type": "code",
   "execution_count": 9,
   "metadata": {},
   "outputs": [
    {
     "data": {
      "image/png": "[encoded data removed]",
      "text/plain": [
       "<Figure size 936x216 with 1 Axes>"
      ]
     },
     "metadata": {
      "needs_background": "light"
     },
     "output_type": "display_data"
    }
   ],
   "source": [
    "ax = model_fit.impulse_responses(10, orthogonalized=True).plot(figsize=(13,3))\n",
    "ax.set(xlabel='t', title='Responses to a shock to `mxt`');"
   ]
  },
  {
   "cell_type": "code",
   "execution_count": 10,
   "metadata": {},
   "outputs": [
    {
     "name": "stdout",
     "output_type": "stream",
     "text": [
      "                  case         rh        avt        mxt        mnt\n",
      "2021-05-05  156.934097  73.550585  29.410379  33.450209  26.538010\n",
      "2021-05-06  230.864907  75.748391  29.070072  32.767579  26.180461\n",
      "2021-05-07  -81.422000  75.146767  29.111182  32.666246  26.135580\n",
      "2021-05-08 -165.233414  75.483652  29.071033  33.161520  26.436743\n",
      "2021-05-09   17.392304  76.256997  28.935242  32.839001  26.277684\n",
      "2021-05-10  101.740786  74.495980  29.050778  32.706389  25.877418\n",
      "2021-05-11  -63.979959  74.922223  29.071444  32.998227  26.271762\n",
      "2021-05-12   50.362794  75.118832  28.998336  32.824321  26.244609\n",
      "2021-05-13  288.111553  74.348376  28.521628  32.179024  25.873048\n",
      "2021-05-14 -211.222423  74.534413  28.917663  32.698277  26.063363\n"
     ]
    },
    {
     "name": "stderr",
     "output_type": "stream",
     "text": [
      "C:\\ProgramData\\Anaconda3\\envs\\Forecatsing\\lib\\site-packages\\statsmodels\\tsa\\statespace\\varmax.py:163: EstimationWarning: Estimation of VARMA(p,q) models is not generically robust, due especially to identification issues.\n",
      "  EstimationWarning)\n",
      "C:\\ProgramData\\Anaconda3\\envs\\Forecatsing\\lib\\site-packages\\statsmodels\\tsa\\statespace\\varmax.py:163: EstimationWarning: Estimation of VARMA(p,q) models is not generically robust, due especially to identification issues.\n",
      "  EstimationWarning)\n"
     ]
    }
   ],
   "source": [
    "yhat = model_fit.forecast(steps=len(test_exog),exog=test_exog)\n",
    "print(yhat)"
   ]
  },
  {
   "cell_type": "code",
   "execution_count": 11,
   "metadata": {},
   "outputs": [],
   "source": [
    "list_hasil = yhat['case'].tolist()\n",
    "list_eval = test['case'].tolist()"
   ]
  },
  {
   "cell_type": "code",
   "execution_count": 12,
   "metadata": {},
   "outputs": [
    {
     "data": {
      "text/plain": [
       "169.4657766912383"
      ]
     },
     "execution_count": 12,
     "metadata": {},
     "output_type": "execute_result"
    }
   ],
   "source": [
    "rms = mean_squared_error(list_eval, list_hasil, squared=False)\n",
    "rms"
   ]
  },
  {
   "cell_type": "code",
   "execution_count": 13,
   "metadata": {},
   "outputs": [
    {
     "data": {
      "text/plain": [
       "28718.64946956464"
      ]
     },
     "execution_count": 13,
     "metadata": {},
     "output_type": "execute_result"
    }
   ],
   "source": [
    "mse = mean_squared_error(list_eval, list_hasil)\n",
    "mse"
   ]
  },
  {
   "cell_type": "code",
   "execution_count": 14,
   "metadata": {},
   "outputs": [
    {
     "data": {
      "text/plain": [
       "151.5081929285032"
      ]
     },
     "execution_count": 14,
     "metadata": {},
     "output_type": "execute_result"
    }
   ],
   "source": [
    "mae = mean_absolute_error(list_eval, list_hasil)\n",
    "mae"
   ]
  },
  {
   "cell_type": "code",
   "execution_count": null,
   "metadata": {},
   "outputs": [],
   "source": []
  }
 ],
 "metadata": {
  "kernelspec": {
   "display_name": "Python 3",
   "language": "python",
   "name": "python3"
  },
  "language_info": {
   "codemirror_mode": {
    "name": "ipython",
    "version": 3
   },
   "file_extension": ".py",
   "mimetype": "text/x-python",
   "name": "python",
   "nbconvert_exporter": "python",
   "pygments_lexer": "ipython3",
   "version": "3.7.9"
  }
 },
 "nbformat": 4,
 "nbformat_minor": 4
}
