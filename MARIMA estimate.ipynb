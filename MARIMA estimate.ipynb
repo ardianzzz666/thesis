{
 "cells": [
  {
   "cell_type": "code",
   "execution_count": 1,
   "metadata": {},
   "outputs": [],
   "source": [
    "import pandas as pd\n",
    "import numpy as np"
   ]
  },
  {
   "cell_type": "code",
   "execution_count": 2,
   "metadata": {},
   "outputs": [
    {
     "ename": "SyntaxError",
     "evalue": "invalid syntax (<ipython-input-2-b26afeb4c2f6>, line 4)",
     "output_type": "error",
     "traceback": [
      "\u001b[1;36m  File \u001b[1;32m\"<ipython-input-2-b26afeb4c2f6>\"\u001b[1;36m, line \u001b[1;32m4\u001b[0m\n\u001b[1;33m    if series.type() = pandas.core.frame.DataFrame:\u001b[0m\n\u001b[1;37m                     ^\u001b[0m\n\u001b[1;31mSyntaxError\u001b[0m\u001b[1;31m:\u001b[0m invalid syntax\n"
     ]
    }
   ],
   "source": [
    "def MARIMA(series, arpattern, mapattern, means = 1, maxiter = 50, penalty = 0, weight = 0.33):\n",
    "    \n",
    "    #check jenis data type yang akan dimasukan\n",
    "    if series.type() = pandas.core.frame.DataFrame:\n",
    "        #convert data series ke dalam metrix\n",
    "        series = series.values\n",
    "        \n",
    "    kvar = series.shape\n",
    "    till = 6\n",
    "    \n",
    "    #check apakah ar dan ma pattern dispesifikan\n",
    "    if arpattern is none and mapattern is none:\n",
    "        print(\"AR pattern dan MA pattern tidak dispesifikasikan\")\n",
    "        \n",
    "    #jika arpattern dispesifikan\n",
    "    if arpattern is not none:\n",
    "        arpattern = [addv(np.diag(kvar), 0 * np.diag(kvar)), dim = addv[kvar, kvar, 2]]\n",
    "    \n",
    "    #jika mapattern dispesifikasikan\n",
    "    if mapattern is not none:\n",
    "        mapattern = [addv(np.diag(kvar), 0 * np.diag(kvar)), dim = addv[kvar, kvar, 2]]\n",
    "        maxiter = 3\n",
    "        till = 1\n",
    "        weight = 0\n",
    "    \n",
    "    #finalisasi vaiabel ?\n",
    "    AR = arpattern\n",
    "    MA = mapattern\n",
    "    maxiter = round(maxiter)\n",
    "    D = series.shape\n",
    "    \n",
    "    #transpose matrix series\n",
    "    if D[1] < D[2]:\n",
    "        series = numpy.transpose(series)\n",
    "    \n",
    "    #case <- which(complete.cases(DATA))\n",
    "    #WTF is this in python ?\n",
    "    \n",
    "    semua = [1:values.index(max(data))]\n",
    "    \n",
    "    # data[data, ] --> harusnya case\n",
    "    data = data[data, ]\n",
    "    \n",
    "    #leftout harusnya diff antara case dama data\n",
    "    leftout = semua.difference(case)\n",
    "    \n",
    "    #cek apakah leftout kurang dari 0\n",
    "    if leftout <= 0:\n",
    "        print(\"Semua case di dalam data accepted seluruhnya\")\n",
    "    \n",
    "    #cek apakah leftout lebih dari 0\n",
    "    if leftout <= 0:\n",
    "        print(\"Semua di dalam leftout, left out untuk marima analysis\")\n",
    "    \n",
    "    #bikin variabel lagi yaw\n",
    "    D = data.shape\n",
    "    \n",
    "    #N untuk row data\n",
    "    N = len(D)\n",
    "    kvar = len(D[0])\n",
    "    \n",
    "    #convert rownames kayaknya tidak perlu dilakukan disini\n",
    "    #rownames(DATA) <- as.character(1:N)\n",
    "    \n",
    "    # Determine which variables are random and which are not:\n",
    "    # randoms <- which(rowSums(matrix(abs(c(AR, MA)), nrow = kvar)) > 2) ????\n",
    "    # non.randoms <- which(rowSums(matrix(abs(c(AR, MA)), nrow = kvar)) == 2) ????\n",
    "    \n",
    "    #fuck this shit first\n",
    "    [abs(addv(AR, MA)) nrow=kvar]\n",
    "    df.sum(axis=1)\n",
    "    \n",
    "    #check bagaimana average variable dihandling\n",
    "    xmean = means\n",
    "    \n",
    "    if xmean == 1:\n",
    "        if xmean == 1:\n",
    "            means = kvar\n",
    "            #kvar 1 ? WTF ?\n",
    "            means <- rep(1, kvar)\n",
    "    \n",
    "    if xmean ==1:\n",
    "        if xmean != 1:\n",
    "            means = kvar\n",
    "            #kvar 0 ? WTF ?\n",
    "            #means <- rep(0, kvar)"
   ]
  },
  {
   "cell_type": "code",
   "execution_count": null,
   "metadata": {},
   "outputs": [],
   "source": [
    "def addv(*args, **kwargs):\n",
    "    return sum(args) + sum(kwargs.values())"
   ]
  }
 ],
 "metadata": {
  "kernelspec": {
   "display_name": "Python 3",
   "language": "python",
   "name": "python3"
  },
  "language_info": {
   "codemirror_mode": {
    "name": "ipython",
    "version": 3
   },
   "file_extension": ".py",
   "mimetype": "text/x-python",
   "name": "python",
   "nbconvert_exporter": "python",
   "pygments_lexer": "ipython3",
   "version": "3.7.9"
  }
 },
 "nbformat": 4,
 "nbformat_minor": 4
}
