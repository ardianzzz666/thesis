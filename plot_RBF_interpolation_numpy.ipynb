{
 "cells": [
  {
   "cell_type": "code",
   "execution_count": 1,
   "metadata": {},
   "outputs": [],
   "source": [
    "%matplotlib inline"
   ]
  },
  {
   "cell_type": "markdown",
   "metadata": {},
   "source": [
    "\n",
    "# Kernel interpolation - NumPy API\n",
    "\n",
    "The :meth:`pykeops.numpy.LazyTensor.solve(b, alpha=1e-10)<pykeops.numpy.LazyTensor.solve>` method of KeOps :class:`pykeops.numpy.LazyTensor` allows you to solve optimization\n",
    "problems of the form\n",
    "\n",
    "\\begin{align}& & a^{\\star} & =\\operatorname*{argmin}_a  \\tfrac 1 2 \\langle a,( \\alpha \\operatorname{Id}+K_{xx}) a\\rangle - \\langle a,b \\rangle, \\\\\\\\\n",
    "        &\\text{i.e.}\\quad &  a^{\\star} & = (\\alpha \\operatorname{Id} + K_{xx})^{-1}  b,\\end{align}\n",
    "\n",
    "where $K_{xx}$ is a symmetric, positive definite linear operator\n",
    "defined through the `KeOps generic syntax <part.generic_formulas>`\n",
    "and $\\alpha$ is a nonnegative regularization parameter.\n",
    "In the following script, we use it to solve large-scale `Kriging <https://en.wikipedia.org/wiki/Kriging>`_ \n",
    "(aka. `Gaussian process regression <https://scikit-learn.org/stable/modules/gaussian_process.html>`_\n",
    "or `generalized spline interpolation <https://en.wikipedia.org/wiki/Spline_interpolation>`_)\n",
    "problems with a **linear memory footprint**.\n",
    "\n",
    " \n"
   ]
  },
  {
   "cell_type": "markdown",
   "metadata": {},
   "source": [
    "## Setup\n",
    "\n",
    "Standard imports:\n",
    "\n"
   ]
  },
  {
   "cell_type": "code",
   "execution_count": 2,
   "metadata": {},
   "outputs": [
    {
     "name": "stdout",
     "output_type": "stream",
     "text": [
      "[pyKeOps]: Warning, no cuda detected. Switching to cpu only.\n"
     ]
    },
    {
     "ename": "ModuleNotFoundError",
     "evalue": "No module named 'fcntl'",
     "output_type": "error",
     "traceback": [
      "\u001b[1;31m---------------------------------------------------------------------------\u001b[0m",
      "\u001b[1;31mModuleNotFoundError\u001b[0m                       Traceback (most recent call last)",
      "\u001b[1;32m<ipython-input-2-45048a688239>\u001b[0m in \u001b[0;36m<module>\u001b[1;34m\u001b[0m\n\u001b[0;32m      4\u001b[0m \u001b[1;32mfrom\u001b[0m \u001b[0mmatplotlib\u001b[0m \u001b[1;32mimport\u001b[0m \u001b[0mpyplot\u001b[0m \u001b[1;32mas\u001b[0m \u001b[0mplt\u001b[0m\u001b[1;33m\u001b[0m\u001b[1;33m\u001b[0m\u001b[0m\n\u001b[0;32m      5\u001b[0m \u001b[1;33m\u001b[0m\u001b[0m\n\u001b[1;32m----> 6\u001b[1;33m \u001b[1;32mfrom\u001b[0m \u001b[0mpykeops\u001b[0m\u001b[1;33m.\u001b[0m\u001b[0mnumpy\u001b[0m \u001b[1;32mimport\u001b[0m \u001b[0mLazyTensor\u001b[0m\u001b[1;33m\u001b[0m\u001b[1;33m\u001b[0m\u001b[0m\n\u001b[0m\u001b[0;32m      7\u001b[0m \u001b[1;32mimport\u001b[0m \u001b[0mpykeops\u001b[0m\u001b[1;33m.\u001b[0m\u001b[0mconfig\u001b[0m\u001b[1;33m\u001b[0m\u001b[1;33m\u001b[0m\u001b[0m\n",
      "\u001b[1;32mC:\\ProgramData\\Anaconda3\\envs\\Forecatsing\\lib\\site-packages\\pykeops\\numpy\\__init__.py\u001b[0m in \u001b[0;36m<module>\u001b[1;34m\u001b[0m\n\u001b[0;32m      8\u001b[0m \u001b[1;33m\u001b[0m\u001b[0m\n\u001b[0;32m      9\u001b[0m \u001b[1;33m\u001b[0m\u001b[0m\n\u001b[1;32m---> 10\u001b[1;33m \u001b[1;32mfrom\u001b[0m \u001b[1;33m.\u001b[0m\u001b[0mgeneric\u001b[0m\u001b[1;33m.\u001b[0m\u001b[0mgeneric_red\u001b[0m \u001b[1;32mimport\u001b[0m \u001b[0mGenred\u001b[0m\u001b[1;33m\u001b[0m\u001b[1;33m\u001b[0m\u001b[0m\n\u001b[0m\u001b[0;32m     11\u001b[0m \u001b[1;32mfrom\u001b[0m \u001b[1;33m.\u001b[0m\u001b[0moperations\u001b[0m \u001b[1;32mimport\u001b[0m \u001b[0mKernelSolve\u001b[0m\u001b[1;33m\u001b[0m\u001b[1;33m\u001b[0m\u001b[0m\n\u001b[0;32m     12\u001b[0m \u001b[1;32mfrom\u001b[0m \u001b[1;33m.\u001b[0m\u001b[0mconvolutions\u001b[0m\u001b[1;33m.\u001b[0m\u001b[0mradial_kernel\u001b[0m \u001b[1;32mimport\u001b[0m \u001b[0mRadialKernelConv\u001b[0m\u001b[1;33m,\u001b[0m \u001b[0mRadialKernelGrad1conv\u001b[0m\u001b[1;33m\u001b[0m\u001b[1;33m\u001b[0m\u001b[0m\n",
      "\u001b[1;32mC:\\ProgramData\\Anaconda3\\envs\\Forecatsing\\lib\\site-packages\\pykeops\\numpy\\generic\\generic_red.py\u001b[0m in \u001b[0;36m<module>\u001b[1;34m\u001b[0m\n\u001b[0;32m      2\u001b[0m \u001b[1;33m\u001b[0m\u001b[0m\n\u001b[0;32m      3\u001b[0m \u001b[1;32mfrom\u001b[0m \u001b[0mpykeops\u001b[0m\u001b[1;33m.\u001b[0m\u001b[0mcommon\u001b[0m\u001b[1;33m.\u001b[0m\u001b[0mget_options\u001b[0m \u001b[1;32mimport\u001b[0m \u001b[0mget_tag_backend\u001b[0m\u001b[1;33m\u001b[0m\u001b[1;33m\u001b[0m\u001b[0m\n\u001b[1;32m----> 4\u001b[1;33m \u001b[1;32mfrom\u001b[0m \u001b[0mpykeops\u001b[0m\u001b[1;33m.\u001b[0m\u001b[0mcommon\u001b[0m\u001b[1;33m.\u001b[0m\u001b[0mkeops_io\u001b[0m \u001b[1;32mimport\u001b[0m \u001b[0mLoadKeOps\u001b[0m\u001b[1;33m\u001b[0m\u001b[1;33m\u001b[0m\u001b[0m\n\u001b[0m\u001b[0;32m      5\u001b[0m \u001b[1;32mfrom\u001b[0m \u001b[0mpykeops\u001b[0m\u001b[1;33m.\u001b[0m\u001b[0mcommon\u001b[0m\u001b[1;33m.\u001b[0m\u001b[0moperations\u001b[0m \u001b[1;32mimport\u001b[0m \u001b[0mpreprocess\u001b[0m\u001b[1;33m,\u001b[0m \u001b[0mpostprocess\u001b[0m\u001b[1;33m\u001b[0m\u001b[1;33m\u001b[0m\u001b[0m\n\u001b[0;32m      6\u001b[0m \u001b[1;32mfrom\u001b[0m \u001b[0mpykeops\u001b[0m\u001b[1;33m.\u001b[0m\u001b[0mcommon\u001b[0m\u001b[1;33m.\u001b[0m\u001b[0mparse_type\u001b[0m \u001b[1;32mimport\u001b[0m \u001b[0mget_sizes\u001b[0m\u001b[1;33m,\u001b[0m \u001b[0mcomplete_aliases\u001b[0m\u001b[1;33m,\u001b[0m \u001b[0mget_optional_flags\u001b[0m\u001b[1;33m\u001b[0m\u001b[1;33m\u001b[0m\u001b[0m\n",
      "\u001b[1;32mC:\\ProgramData\\Anaconda3\\envs\\Forecatsing\\lib\\site-packages\\pykeops\\common\\keops_io.py\u001b[0m in \u001b[0;36m<module>\u001b[1;34m\u001b[0m\n\u001b[0;32m      3\u001b[0m \u001b[1;33m\u001b[0m\u001b[0m\n\u001b[0;32m      4\u001b[0m \u001b[1;32mimport\u001b[0m \u001b[0mpykeops\u001b[0m\u001b[1;33m.\u001b[0m\u001b[0mconfig\u001b[0m\u001b[1;33m\u001b[0m\u001b[1;33m\u001b[0m\u001b[0m\n\u001b[1;32m----> 5\u001b[1;33m \u001b[1;32mfrom\u001b[0m \u001b[0mpykeops\u001b[0m\u001b[1;33m.\u001b[0m\u001b[0mcommon\u001b[0m\u001b[1;33m.\u001b[0m\u001b[0mcompile_routines\u001b[0m \u001b[1;32mimport\u001b[0m \u001b[0mcompile_generic_routine\u001b[0m\u001b[1;33m\u001b[0m\u001b[1;33m\u001b[0m\u001b[0m\n\u001b[0m\u001b[0;32m      6\u001b[0m \u001b[1;32mfrom\u001b[0m \u001b[0mpykeops\u001b[0m\u001b[1;33m.\u001b[0m\u001b[0mcommon\u001b[0m\u001b[1;33m.\u001b[0m\u001b[0mutils\u001b[0m \u001b[1;32mimport\u001b[0m \u001b[0mmodule_exists\u001b[0m\u001b[1;33m,\u001b[0m \u001b[0mcreate_and_lock_build_folder\u001b[0m\u001b[1;33m\u001b[0m\u001b[1;33m\u001b[0m\u001b[0m\n\u001b[0;32m      7\u001b[0m \u001b[1;32mfrom\u001b[0m \u001b[0mpykeops\u001b[0m\u001b[1;33m.\u001b[0m\u001b[0mcommon\u001b[0m\u001b[1;33m.\u001b[0m\u001b[0mset_path\u001b[0m \u001b[1;32mimport\u001b[0m \u001b[0mcreate_name\u001b[0m\u001b[1;33m,\u001b[0m \u001b[0mset_build_folder\u001b[0m\u001b[1;33m\u001b[0m\u001b[1;33m\u001b[0m\u001b[0m\n",
      "\u001b[1;32mC:\\ProgramData\\Anaconda3\\envs\\Forecatsing\\lib\\site-packages\\pykeops\\common\\compile_routines.py\u001b[0m in \u001b[0;36m<module>\u001b[1;34m\u001b[0m\n\u001b[0;32m      5\u001b[0m \u001b[1;32mimport\u001b[0m \u001b[0mpykeops\u001b[0m\u001b[1;33m.\u001b[0m\u001b[0mconfig\u001b[0m\u001b[1;33m\u001b[0m\u001b[1;33m\u001b[0m\u001b[0m\n\u001b[0;32m      6\u001b[0m \u001b[1;32mfrom\u001b[0m \u001b[0mpykeops\u001b[0m\u001b[1;33m.\u001b[0m\u001b[0mcommon\u001b[0m\u001b[1;33m.\u001b[0m\u001b[0mparse_type\u001b[0m \u001b[1;32mimport\u001b[0m \u001b[0mcheck_aliases_list\u001b[0m\u001b[1;33m\u001b[0m\u001b[1;33m\u001b[0m\u001b[0m\n\u001b[1;32m----> 7\u001b[1;33m \u001b[1;32mfrom\u001b[0m \u001b[0mpykeops\u001b[0m\u001b[1;33m.\u001b[0m\u001b[0mcommon\u001b[0m\u001b[1;33m.\u001b[0m\u001b[0mutils\u001b[0m \u001b[1;32mimport\u001b[0m \u001b[0mc_type\u001b[0m\u001b[1;33m\u001b[0m\u001b[1;33m\u001b[0m\u001b[0m\n\u001b[0m\u001b[0;32m      8\u001b[0m \u001b[1;33m\u001b[0m\u001b[0m\n\u001b[0;32m      9\u001b[0m \u001b[1;33m\u001b[0m\u001b[0m\n",
      "\u001b[1;32mC:\\ProgramData\\Anaconda3\\envs\\Forecatsing\\lib\\site-packages\\pykeops\\common\\utils.py\u001b[0m in \u001b[0;36m<module>\u001b[1;34m\u001b[0m\n\u001b[1;32m----> 1\u001b[1;33m \u001b[1;32mimport\u001b[0m \u001b[0mfcntl\u001b[0m\u001b[1;33m\u001b[0m\u001b[1;33m\u001b[0m\u001b[0m\n\u001b[0m\u001b[0;32m      2\u001b[0m \u001b[1;32mimport\u001b[0m \u001b[0mfunctools\u001b[0m\u001b[1;33m\u001b[0m\u001b[1;33m\u001b[0m\u001b[0m\n\u001b[0;32m      3\u001b[0m \u001b[1;32mimport\u001b[0m \u001b[0mimportlib\u001b[0m\u001b[1;33m.\u001b[0m\u001b[0mutil\u001b[0m\u001b[1;33m\u001b[0m\u001b[1;33m\u001b[0m\u001b[0m\n\u001b[0;32m      4\u001b[0m \u001b[1;32mimport\u001b[0m \u001b[0mos\u001b[0m\u001b[1;33m\u001b[0m\u001b[1;33m\u001b[0m\u001b[0m\n\u001b[0;32m      5\u001b[0m \u001b[1;32mimport\u001b[0m \u001b[0mshutil\u001b[0m\u001b[1;33m\u001b[0m\u001b[1;33m\u001b[0m\u001b[0m\n",
      "\u001b[1;31mModuleNotFoundError\u001b[0m: No module named 'fcntl'"
     ]
    }
   ],
   "source": [
    "import time\n",
    "\n",
    "import numpy as np\n",
    "from matplotlib import pyplot as plt\n",
    "\n",
    "from pykeops.numpy import LazyTensor\n",
    "import pykeops.config"
   ]
  },
  {
   "cell_type": "markdown",
   "metadata": {},
   "source": [
    "Generate some data:\n",
    "\n"
   ]
  },
  {
   "cell_type": "code",
   "execution_count": null,
   "metadata": {},
   "outputs": [],
   "source": [
    "dtype = \"float64\"\n",
    "\n",
    "N = 10000 if pykeops.config.gpu_available else 1000  # Number of samples\n",
    "\n",
    "# Sampling locations:\n",
    "x = np.random.rand(N, 1).astype(dtype)\n",
    "\n",
    "# Some random-ish 1D signal:\n",
    "b = (\n",
    "    x\n",
    "    + 0.5 * np.sin(6 * x)\n",
    "    + 0.1 * np.sin(20 * x)\n",
    "    + 0.05 * np.random.randn(N, 1).astype(dtype)\n",
    ")"
   ]
  },
  {
   "cell_type": "markdown",
   "metadata": {},
   "source": [
    "## Interpolation in 1D\n",
    "\n",
    "Specify our **regression model** - a simple **Gaussian** variogram or **kernel matrix**\n",
    "of deviation **sigma**:\n",
    "\n"
   ]
  },
  {
   "cell_type": "code",
   "execution_count": null,
   "metadata": {},
   "outputs": [],
   "source": [
    "def gaussian_kernel(x, y, sigma=0.1):\n",
    "    x_i = LazyTensor(x[:, None, :])  # (M, 1, 1)\n",
    "    y_j = LazyTensor(y[None, :, :])  # (1, N, 1)\n",
    "    D_ij = ((x_i - y_j) ** 2).sum(-1)  # (M, N) symbolic matrix of squared distances\n",
    "    return (-D_ij / (2 * sigma ** 2)).exp()  # (M, N) symbolic Gaussian kernel matrix"
   ]
  },
  {
   "cell_type": "markdown",
   "metadata": {},
   "source": [
    "Perform the **Kernel interpolation**, without forgetting to specify\n",
    "the ridge regularization parameter **alpha** which controls the trade-off\n",
    "between a perfect fit (**alpha** = 0) and a\n",
    "smooth interpolation (**alpha** = $+\\infty$):\n",
    "\n"
   ]
  },
  {
   "cell_type": "code",
   "execution_count": null,
   "metadata": {},
   "outputs": [],
   "source": [
    "alpha = 1.0  # Ridge regularization\n",
    "\n",
    "start = time.time()\n",
    "\n",
    "K_xx = gaussian_kernel(x, x)\n",
    "a = K_xx.solve(b, alpha=alpha)\n",
    "\n",
    "end = time.time()\n",
    "\n",
    "print(\n",
    "    \"Time to perform an RBF interpolation with {:,} samples in 1D: {:.5f}s\".format(\n",
    "        N, end - start\n",
    "    )\n",
    ")"
   ]
  },
  {
   "cell_type": "markdown",
   "metadata": {},
   "source": [
    "Display the (fitted) model on the unit interval:\n",
    "\n",
    "\n"
   ]
  },
  {
   "cell_type": "code",
   "execution_count": null,
   "metadata": {},
   "outputs": [],
   "source": [
    "# Extrapolate on a uniform sample:\n",
    "t = np.reshape(np.linspace(0, 1, 1001), [1001, 1]).astype(dtype)\n",
    "\n",
    "K_tx = gaussian_kernel(t, x)\n",
    "mean_t = K_tx @ a\n",
    "\n",
    "# 1D plot:\n",
    "plt.figure(figsize=(8, 6))\n",
    "\n",
    "plt.scatter(x[:, 0], b[:, 0], s=100 / len(x))  # Noisy samples\n",
    "plt.plot(t, mean_t, \"r\")\n",
    "\n",
    "plt.axis([0, 1, 0, 1])\n",
    "plt.tight_layout()"
   ]
  },
  {
   "cell_type": "markdown",
   "metadata": {},
   "source": [
    "## Interpolation in 2D\n",
    "\n",
    "Generate some data:\n",
    "\n"
   ]
  },
  {
   "cell_type": "code",
   "execution_count": null,
   "metadata": {},
   "outputs": [],
   "source": [
    "# Sampling locations:\n",
    "x = np.random.rand(N, 2).astype(dtype)\n",
    "\n",
    "# Some random-ish 2D signal:\n",
    "b = np.sum((x - 0.5) ** 2, axis=1)[:, None]\n",
    "b[b > 0.4 ** 2] = 0\n",
    "b[b < 0.3 ** 2] = 0\n",
    "b[b >= 0.3 ** 2] = 1\n",
    "b = b + 0.05 * np.random.randn(N, 1).astype(dtype)\n",
    "\n",
    "# Add 25% of outliers:\n",
    "Nout = N // 4\n",
    "b[-Nout:] = np.random.rand(Nout, 1).astype(dtype)"
   ]
  },
  {
   "cell_type": "markdown",
   "metadata": {},
   "source": [
    "Specify our **regression model** - a simple **Exponential** variogram\n",
    "or **Laplacian** kernel matrix of deviation **sigma**:\n",
    "\n"
   ]
  },
  {
   "cell_type": "code",
   "execution_count": null,
   "metadata": {},
   "outputs": [],
   "source": [
    "def laplacian_kernel(x, y, sigma=0.1):\n",
    "    x_i = LazyTensor(x[:, None, :])  # (M, 1, 1)\n",
    "    y_j = LazyTensor(y[None, :, :])  # (1, N, 1)\n",
    "    D_ij = ((x_i - y_j) ** 2).sum(-1)  # (M, N) symbolic matrix of squared distances\n",
    "    return (-D_ij.sqrt() / sigma).exp()  # (M, N) symbolic Laplacian kernel matrix"
   ]
  },
  {
   "cell_type": "markdown",
   "metadata": {},
   "source": [
    "Perform the **Kernel interpolation**, without forgetting to specify\n",
    "the ridge regularization parameter **alpha** which controls the trade-off\n",
    "between a perfect fit (**alpha** = 0) and a\n",
    "smooth interpolation (**alpha** = $+\\infty$):\n",
    "\n"
   ]
  },
  {
   "cell_type": "code",
   "execution_count": null,
   "metadata": {},
   "outputs": [],
   "source": [
    "alpha = 10  # Ridge regularization\n",
    "\n",
    "start = time.time()\n",
    "\n",
    "K_xx = laplacian_kernel(x, x)\n",
    "a = K_xx.solve(b, alpha=alpha)\n",
    "\n",
    "end = time.time()\n",
    "\n",
    "print(\n",
    "    \"Time to perform an RBF interpolation with {:,} samples in 2D: {:.5f}s\".format(\n",
    "        N, end - start\n",
    "    )\n",
    ")"
   ]
  },
  {
   "cell_type": "markdown",
   "metadata": {},
   "source": [
    "Display the (fitted) model on the unit square:\n",
    "\n",
    "\n"
   ]
  },
  {
   "cell_type": "code",
   "execution_count": null,
   "metadata": {},
   "outputs": [],
   "source": [
    "# Extrapolate on a uniform sample:\n",
    "X = Y = np.linspace(0, 1, 101)\n",
    "X, Y = np.meshgrid(X, Y)\n",
    "t = np.stack((X.ravel(), Y.ravel()), axis=1)\n",
    "\n",
    "K_tx = laplacian_kernel(t, x)\n",
    "mean_t = K_tx @ a\n",
    "mean_t = mean_t.reshape(101, 101)[::-1, :]\n",
    "\n",
    "# 2D plot: noisy samples and interpolation in the background\n",
    "plt.figure(figsize=(8, 8))\n",
    "\n",
    "plt.scatter(x[:, 0], x[:, 1], c=b.ravel(), s=25000 / len(x), cmap=\"bwr\")\n",
    "plt.imshow(mean_t, interpolation=\"bilinear\", extent=[0, 1, 0, 1], cmap=\"coolwarm\")\n",
    "\n",
    "plt.axis([0, 1, 0, 1])\n",
    "plt.tight_layout()\n",
    "plt.show()"
   ]
  }
 ],
 "metadata": {
  "kernelspec": {
   "display_name": "Python 3",
   "language": "python",
   "name": "python3"
  },
  "language_info": {
   "codemirror_mode": {
    "name": "ipython",
    "version": 3
   },
   "file_extension": ".py",
   "mimetype": "text/x-python",
   "name": "python",
   "nbconvert_exporter": "python",
   "pygments_lexer": "ipython3",
   "version": "3.7.9"
  }
 },
 "nbformat": 4,
 "nbformat_minor": 1
}
