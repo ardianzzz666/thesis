{
 "cells": [
  {
   "cell_type": "code",
   "execution_count": 1,
   "metadata": {},
   "outputs": [],
   "source": [
    "import warnings\n",
    "warnings.filterwarnings('ignore')\n",
    "\n",
    "import os\n",
    "import random\n",
    "import numpy as np\n",
    "from numpy import mean\n",
    "from numpy import std\n",
    "import pandas as pd\n",
    "from pandas import datetime\n",
    "from pandas import DataFrame\n",
    "import matplotlib.pyplot as plt\n",
    "from pandas import Series\n",
    "\n",
    "from statsmodels.tsa.statespace.varmax import VARMAX\n",
    "from sklearn.metrics import mean_squared_error\n",
    "from sklearn.metrics import mean_absolute_error\n",
    "\n",
    "\n",
    "from statsmodels.tsa.stattools import adfuller\n",
    "from statsmodels.tools.eval_measures import rmse, aic\n",
    "from sklearn.model_selection import train_test_split"
   ]
  },
  {
   "cell_type": "code",
   "execution_count": 2,
   "metadata": {},
   "outputs": [],
   "source": [
    "# dataset united kingdom\n",
    "#case = pd.read_csv('UK/case.csv')\n",
    "#mobility = pd.read_csv('UK/mobility.csv')\n",
    "#case.set_index('date', inplace=True)\n",
    "#mobility.set_index('date', inplace=True)\n",
    "\n",
    "# dataset indonesia (jakarta)\n",
    "case = pd.read_csv('data/new/case_maret_july.csv')\n",
    "mobility = pd.read_csv('data/new/mobility_maret_july.csv')\n",
    "weather = pd.read_csv('data/new/weather_maret_july.csv')\n",
    "case.set_index('date', inplace=True)\n",
    "#weather.set_index('date', inplace=True)\n",
    "mobility.set_index('date', inplace=True)"
   ]
  },
  {
   "cell_type": "code",
   "execution_count": 3,
   "metadata": {},
   "outputs": [],
   "source": [
    "new_weather = weather.interpolate(method='spline', order=2)\n",
    "new_weather.head()\n",
    "\n",
    "new_weather.set_index('date', inplace=True)"
   ]
  },
  {
   "cell_type": "code",
   "execution_count": 4,
   "metadata": {},
   "outputs": [
    {
     "data": {
      "text/html": [
       "<div>\n",
       "<style scoped>\n",
       "    .dataframe tbody tr th:only-of-type {\n",
       "        vertical-align: middle;\n",
       "    }\n",
       "\n",
       "    .dataframe tbody tr th {\n",
       "        vertical-align: top;\n",
       "    }\n",
       "\n",
       "    .dataframe thead th {\n",
       "        text-align: right;\n",
       "    }\n",
       "</style>\n",
       "<table border=\"1\" class=\"dataframe\">\n",
       "  <thead>\n",
       "    <tr style=\"text-align: right;\">\n",
       "      <th></th>\n",
       "      <th>case</th>\n",
       "      <th>rh</th>\n",
       "      <th>avt</th>\n",
       "      <th>mxt</th>\n",
       "      <th>mnt</th>\n",
       "    </tr>\n",
       "    <tr>\n",
       "      <th>date</th>\n",
       "      <th></th>\n",
       "      <th></th>\n",
       "      <th></th>\n",
       "      <th></th>\n",
       "      <th></th>\n",
       "    </tr>\n",
       "  </thead>\n",
       "  <tbody>\n",
       "    <tr>\n",
       "      <th>2020-03-18</th>\n",
       "      <td>38</td>\n",
       "      <td>86.0</td>\n",
       "      <td>27.6</td>\n",
       "      <td>29.0</td>\n",
       "      <td>25.800000</td>\n",
       "    </tr>\n",
       "    <tr>\n",
       "      <th>2020-03-19</th>\n",
       "      <td>50</td>\n",
       "      <td>83.0</td>\n",
       "      <td>28.1</td>\n",
       "      <td>31.4</td>\n",
       "      <td>25.800000</td>\n",
       "    </tr>\n",
       "    <tr>\n",
       "      <th>2020-03-20</th>\n",
       "      <td>14</td>\n",
       "      <td>82.0</td>\n",
       "      <td>27.4</td>\n",
       "      <td>31.2</td>\n",
       "      <td>25.200000</td>\n",
       "    </tr>\n",
       "    <tr>\n",
       "      <th>2020-03-21</th>\n",
       "      <td>44</td>\n",
       "      <td>81.0</td>\n",
       "      <td>28.1</td>\n",
       "      <td>32.4</td>\n",
       "      <td>26.521978</td>\n",
       "    </tr>\n",
       "    <tr>\n",
       "      <th>2020-03-22</th>\n",
       "      <td>36</td>\n",
       "      <td>84.0</td>\n",
       "      <td>27.2</td>\n",
       "      <td>31.2</td>\n",
       "      <td>25.000000</td>\n",
       "    </tr>\n",
       "  </tbody>\n",
       "</table>\n",
       "</div>"
      ],
      "text/plain": [
       "            case    rh   avt   mxt        mnt\n",
       "date                                         \n",
       "2020-03-18    38  86.0  27.6  29.0  25.800000\n",
       "2020-03-19    50  83.0  28.1  31.4  25.800000\n",
       "2020-03-20    14  82.0  27.4  31.2  25.200000\n",
       "2020-03-21    44  81.0  28.1  32.4  26.521978\n",
       "2020-03-22    36  84.0  27.2  31.2  25.000000"
      ]
     },
     "execution_count": 4,
     "metadata": {},
     "output_type": "execute_result"
    }
   ],
   "source": [
    "data = pd.concat([case, new_weather], axis=1)\n",
    "data.head()"
   ]
  },
  {
   "cell_type": "code",
   "execution_count": 5,
   "metadata": {},
   "outputs": [
    {
     "name": "stderr",
     "output_type": "stream",
     "text": [
      "C:\\ProgramData\\Anaconda3\\envs\\Forecatsing\\lib\\site-packages\\statsmodels\\tsa\\statespace\\varmax.py:163: EstimationWarning: Estimation of VARMA(p,q) models is not generically robust, due especially to identification issues.\n",
      "  EstimationWarning)\n",
      "C:\\ProgramData\\Anaconda3\\envs\\Forecatsing\\lib\\site-packages\\statsmodels\\tsa\\base\\tsa_model.py:527: ValueWarning: No frequency information was provided, so inferred frequency D will be used.\n",
      "  % freq, ValueWarning)\n",
      "C:\\ProgramData\\Anaconda3\\envs\\Forecatsing\\lib\\site-packages\\statsmodels\\base\\model.py:568: ConvergenceWarning: Maximum Likelihood optimization failed to converge. Check mle_retvals\n",
      "  ConvergenceWarning)\n"
     ]
    },
    {
     "name": "stdout",
     "output_type": "stream",
     "text": [
      "                                    Statespace Model Results                                   \n",
      "===============================================================================================\n",
      "Dep. Variable:     ['case', 'rh', 'avt', 'mxt', 'mnt']   No. Observations:                  423\n",
      "Model:                                     VARMAX(3,1)   Log Likelihood               -5321.712\n",
      "                                           + intercept   AIC                          10943.425\n",
      "Date:                                 Sun, 22 Aug 2021   BIC                          11550.531\n",
      "Time:                                         14:08:53   HQIC                         11183.312\n",
      "Sample:                                     03-18-2020                                         \n",
      "                                          - 05-14-2021                                         \n",
      "Covariance Type:                                   opg                                         \n",
      "============================================================================================================\n",
      "Ljung-Box (L1) (Q):      2.11, 0.03, 0.04, 0.06, 0.00   Jarque-Bera (JB):   592.72, 3.69, 25.59, 16.64, 6.85\n",
      "Prob(Q):                 0.15, 0.87, 0.83, 0.81, 0.95   Prob(JB):               0.00, 0.16, 0.00, 0.00, 0.03\n",
      "Heteroskedasticity (H): 19.34, 1.14, 0.82, 1.16, 1.05   Skew:                 0.19, 0.13, -0.48, 0.20, -0.28\n",
      "Prob(H) (two-sided):     0.00, 0.43, 0.24, 0.38, 0.78   Kurtosis:               8.79, 3.38, 3.73, 3.89, 3.29\n",
      "                                Results for equation case                                 \n",
      "==========================================================================================\n",
      "                             coef    std err          z      P>|z|      [0.025      0.975]\n",
      "------------------------------------------------------------------------------------------\n",
      "intercept               2673.8605     17.510    152.701      0.000    2639.541    2708.180\n",
      "L1.case                    0.5619      0.534      1.053      0.292      -0.484       1.608\n",
      "L1.rh                     -0.1115     56.510     -0.002      0.998    -110.869     110.646\n",
      "L1.avt                   -45.8728     48.412     -0.948      0.343    -140.758      49.013\n",
      "L1.mxt                    24.5410    127.738      0.192      0.848    -225.821     274.903\n",
      "L1.mnt                   -74.5208     41.203     -1.809      0.071    -155.277       6.235\n",
      "L2.case                    0.1249      0.320      0.390      0.696      -0.502       0.752\n",
      "L2.rh                     -5.8306     43.899     -0.133      0.894     -91.872      80.210\n",
      "L2.avt                    22.8188    129.967      0.176      0.861    -231.911     277.549\n",
      "L2.mxt                   -16.7813     68.627     -0.245      0.807    -151.287     117.724\n",
      "L2.mnt                    17.8189     76.497      0.233      0.816    -132.112     167.750\n",
      "L3.case                    0.1697      0.159      1.070      0.285      -0.141       0.481\n",
      "L3.rh                      0.5820     19.022      0.031      0.976     -36.701      37.865\n",
      "L3.avt                   -16.7773    141.064     -0.119      0.905    -293.258     259.703\n",
      "L3.mxt                    12.8006     70.944      0.180      0.857    -126.247     151.848\n",
      "L3.mnt                     0.9749     74.490      0.013      0.990    -145.024     146.973\n",
      "L1.e(case)                -0.0116      0.551     -0.021      0.983      -1.091       1.067\n",
      "L1.e(rh)                  -0.6279     60.902     -0.010      0.992    -119.993     118.738\n",
      "L1.e(avt)                 -0.5144     59.473     -0.009      0.993    -117.080     116.051\n",
      "L1.e(mxt)                 -3.8305    127.326     -0.030      0.976    -253.385     245.724\n",
      "L1.e(mnt)                  0.4631     46.656      0.010      0.992     -90.980      91.906\n",
      "beta.retail_recreation    -0.7011     18.355     -0.038      0.970     -36.676      35.273\n",
      "beta.grocery_pahrmacy     -6.9329     15.217     -0.456      0.649     -36.758      22.892\n",
      "beta.parks                 1.0373      6.017      0.172      0.863     -10.755      12.830\n",
      "beta.transit_station       4.7530     21.675      0.219      0.826     -37.728      47.234\n",
      "beta.workplace            -5.0902      8.556     -0.595      0.552     -21.859      11.679\n",
      "beta.residential         -15.1745     32.803     -0.463      0.644     -79.468      49.119\n",
      "                                 Results for equation rh                                  \n",
      "==========================================================================================\n",
      "                             coef    std err          z      P>|z|      [0.025      0.975]\n",
      "------------------------------------------------------------------------------------------\n",
      "intercept                 14.3738     57.779      0.249      0.804     -98.871     127.618\n",
      "L1.case                    0.0005      0.005      0.096      0.923      -0.010       0.011\n",
      "L1.rh                      0.6805      0.579      1.175      0.240      -0.455       1.816\n",
      "L1.avt                     0.2280      4.966      0.046      0.963      -9.506       9.962\n",
      "L1.mxt                     0.2546      2.706      0.094      0.925      -5.048       5.557\n",
      "L1.mnt                     0.2699      3.043      0.089      0.929      -5.694       6.234\n",
      "L2.case                    0.0003      0.004      0.085      0.932      -0.007       0.007\n",
      "L2.rh                     -0.1296      0.358     -0.362      0.717      -0.831       0.572\n",
      "L2.avt                     0.3713      2.996      0.124      0.901      -5.501       6.243\n",
      "L2.mxt                    -0.7689      0.539     -1.427      0.154      -1.825       0.287\n",
      "L2.mnt                    -0.0644      0.976     -0.066      0.947      -1.978       1.849\n",
      "L3.case                   -0.0004      0.002     -0.270      0.787      -0.003       0.003\n",
      "L3.rh                      0.1535      0.175      0.878      0.380      -0.189       0.496\n",
      "L3.avt                     0.3482      1.451      0.240      0.810      -2.496       3.192\n",
      "L3.mxt                     0.0160      0.601      0.027      0.979      -1.162       1.194\n",
      "L3.mnt                    -0.2885      0.494     -0.584      0.559      -1.257       0.680\n",
      "L1.e(case)                -0.0004      0.005     -0.084      0.933      -0.011       0.010\n",
      "L1.e(rh)                  -0.0204      0.595     -0.034      0.973      -1.187       1.147\n",
      "L1.e(avt)                 -0.1532      5.103     -0.030      0.976     -10.154       9.848\n",
      "L1.e(mxt)                  0.0439      2.763      0.016      0.987      -5.371       5.459\n",
      "L1.e(mnt)                  0.0668      3.074      0.022      0.983      -5.957       6.091\n",
      "beta.retail_recreation    -0.0622      0.107     -0.582      0.560      -0.271       0.147\n",
      "beta.grocery_pahrmacy     -0.0283      0.098     -0.290      0.772      -0.220       0.163\n",
      "beta.parks                 0.0276      0.039      0.710      0.478      -0.049       0.104\n",
      "beta.transit_station       0.0293      0.163      0.179      0.858      -0.290       0.349\n",
      "beta.workplace            -0.0059      0.063     -0.095      0.924      -0.129       0.117\n",
      "beta.residential          -0.0575      0.205     -0.281      0.779      -0.459       0.344\n",
      "                                 Results for equation avt                                 \n",
      "==========================================================================================\n",
      "                             coef    std err          z      P>|z|      [0.025      0.975]\n",
      "------------------------------------------------------------------------------------------\n",
      "intercept                  9.9462      9.078      1.096      0.273      -7.846      27.738\n",
      "L1.case                -1.966e-05      0.001     -0.023      0.982      -0.002       0.002\n",
      "L1.rh                     -0.0354      0.088     -0.402      0.687      -0.208       0.137\n",
      "L1.avt                     0.4989      0.740      0.675      0.500      -0.951       1.948\n",
      "L1.mxt                    -0.0484      0.421     -0.115      0.908      -0.874       0.777\n",
      "L1.mnt                    -0.1240      0.538     -0.231      0.818      -1.178       0.930\n",
      "L2.case                   -0.0001      0.001     -0.186      0.852      -0.001       0.001\n",
      "L2.rh                      0.0359      0.056      0.644      0.519      -0.073       0.145\n",
      "L2.avt                     0.1409      0.469      0.301      0.764      -0.778       1.059\n",
      "L2.mxt                     0.0560      0.085      0.656      0.512      -0.111       0.223\n",
      "L2.mnt                    -0.0171      0.160     -0.107      0.915      -0.330       0.296\n",
      "L3.case                 3.653e-05      0.000      0.136      0.892      -0.000       0.001\n",
      "L3.rh                      0.0013      0.029      0.045      0.964      -0.056       0.059\n",
      "L3.avt                     0.0891      0.231      0.387      0.699      -0.363       0.541\n",
      "L3.mxt                     0.0088      0.100      0.089      0.929      -0.187       0.204\n",
      "L3.mnt                     0.0125      0.086      0.145      0.884      -0.156       0.182\n",
      "L1.e(case)                 0.0001      0.001      0.116      0.908      -0.002       0.002\n",
      "L1.e(rh)                   0.0009      0.091      0.010      0.992      -0.177       0.179\n",
      "L1.e(avt)                  0.0083      0.746      0.011      0.991      -1.454       1.471\n",
      "L1.e(mxt)                 -0.0056      0.431     -0.013      0.990      -0.850       0.839\n",
      "L1.e(mnt)                 -0.0134      0.538     -0.025      0.980      -1.069       1.042\n",
      "beta.retail_recreation    -0.0008      0.016     -0.049      0.961      -0.033       0.031\n",
      "beta.grocery_pahrmacy      0.0268      0.016      1.678      0.093      -0.005       0.058\n",
      "beta.parks                 0.0020      0.006      0.327      0.743      -0.010       0.014\n",
      "beta.transit_station      -0.0246      0.025     -0.965      0.334      -0.075       0.025\n",
      "beta.workplace             0.0112      0.009      1.218      0.223      -0.007       0.029\n",
      "beta.residential           0.0175      0.037      0.471      0.638      -0.055       0.090\n",
      "                                 Results for equation mxt                                 \n",
      "==========================================================================================\n",
      "                             coef    std err          z      P>|z|      [0.025      0.975]\n",
      "------------------------------------------------------------------------------------------\n",
      "intercept                 16.6308     14.169      1.174      0.240     -11.139      44.401\n",
      "L1.case                   -0.0003      0.001     -0.190      0.849      -0.003       0.003\n",
      "L1.rh                     -0.0708      0.144     -0.490      0.624      -0.354       0.212\n",
      "L1.avt                     0.3013      1.128      0.267      0.789      -1.909       2.512\n",
      "L1.mxt                    -0.0093      0.644     -0.014      0.989      -1.272       1.253\n",
      "L1.mnt                    -0.0393      0.762     -0.051      0.959      -1.534       1.455\n",
      "L2.case                   -0.0001      0.001     -0.101      0.919      -0.002       0.002\n",
      "L2.rh                      0.0373      0.092      0.407      0.684      -0.142       0.217\n",
      "L2.avt                     0.0606      0.716      0.085      0.933      -1.342       1.463\n",
      "L2.mxt                     0.0816      0.134      0.610      0.542      -0.181       0.344\n",
      "L2.mnt                    -0.0157      0.260     -0.060      0.952      -0.526       0.495\n",
      "L3.case                 6.606e-05      0.000      0.146      0.884      -0.001       0.001\n",
      "L3.rh                      0.0046      0.044      0.105      0.916      -0.082       0.091\n",
      "L3.avt                     0.0959      0.354      0.271      0.786      -0.597       0.789\n",
      "L3.mxt                     0.1038      0.149      0.695      0.487      -0.189       0.397\n",
      "L3.mnt                     0.0144      0.131      0.110      0.913      -0.243       0.271\n",
      "L1.e(case)                 0.0002      0.001      0.111      0.912      -0.003       0.003\n",
      "L1.e(rh)                   0.0034      0.148      0.023      0.982      -0.286       0.293\n",
      "L1.e(avt)                  0.0197      1.155      0.017      0.986      -2.244       2.284\n",
      "L1.e(mxt)                 -0.0110      0.657     -0.017      0.987      -1.299       1.277\n",
      "L1.e(mnt)                 -0.0161      0.765     -0.021      0.983      -1.515       1.482\n",
      "beta.retail_recreation    -0.0163      0.027     -0.611      0.541      -0.068       0.036\n",
      "beta.grocery_pahrmacy      0.0272      0.024      1.112      0.266      -0.021       0.075\n",
      "beta.parks                -0.0026      0.010     -0.257      0.797      -0.022       0.017\n",
      "beta.transit_station       0.0040      0.036      0.110      0.912      -0.067       0.075\n",
      "beta.workplace             0.0028      0.016      0.175      0.861      -0.028       0.034\n",
      "beta.residential           0.0241      0.053      0.451      0.652      -0.081       0.129\n",
      "                                 Results for equation mnt                                 \n",
      "==========================================================================================\n",
      "                             coef    std err          z      P>|z|      [0.025      0.975]\n",
      "------------------------------------------------------------------------------------------\n",
      "intercept                  2.6137      7.992      0.327      0.744     -13.051      18.278\n",
      "L1.case                    0.0001      0.001      0.110      0.912      -0.002       0.002\n",
      "L1.rh                      0.0003      0.081      0.003      0.997      -0.159       0.159\n",
      "L1.avt                     0.6505      0.674      0.965      0.335      -0.671       1.972\n",
      "L1.mxt                    -0.0706      0.395     -0.179      0.858      -0.845       0.703\n",
      "L1.mnt                    -0.0484      0.539     -0.090      0.928      -1.104       1.007\n",
      "L2.case                -1.114e-05      0.001     -0.017      0.987      -0.001       0.001\n",
      "L2.rh                      0.0310      0.053      0.586      0.558      -0.073       0.135\n",
      "L2.avt                     0.1095      0.456      0.240      0.810      -0.784       1.003\n",
      "L2.mxt                     0.0376      0.084      0.450      0.653      -0.126       0.202\n",
      "L2.mnt                    -0.0344      0.157     -0.218      0.827      -0.343       0.274\n",
      "L3.case                   -0.0001      0.000     -0.496      0.620      -0.001       0.000\n",
      "L3.rh                      0.0032      0.027      0.120      0.904      -0.050       0.056\n",
      "L3.avt                     0.1701      0.186      0.916      0.360      -0.194       0.534\n",
      "L3.mxt                    -0.0239      0.084     -0.285      0.775      -0.188       0.140\n",
      "L3.mnt                    -0.0680      0.079     -0.860      0.390      -0.223       0.087\n",
      "L1.e(case)             -1.228e-05      0.001     -0.013      0.990      -0.002       0.002\n",
      "L1.e(rh)                   0.0038      0.081      0.047      0.962      -0.155       0.162\n",
      "L1.e(avt)                  0.0134      0.679      0.020      0.984      -1.318       1.345\n",
      "L1.e(mxt)                 -0.0032      0.402     -0.008      0.994      -0.791       0.784\n",
      "L1.e(mnt)                  0.0039      0.537      0.007      0.994      -1.049       1.056\n",
      "beta.retail_recreation     0.0081      0.015      0.535      0.593      -0.022       0.038\n",
      "beta.grocery_pahrmacy     -0.0101      0.014     -0.701      0.484      -0.038       0.018\n",
      "beta.parks                 0.0040      0.006      0.670      0.503      -0.008       0.016\n",
      "beta.transit_station       0.0015      0.025      0.059      0.953      -0.047       0.050\n",
      "beta.workplace             0.0111      0.009      1.200      0.230      -0.007       0.029\n",
      "beta.residential           0.0420      0.035      1.199      0.230      -0.027       0.111\n",
      "                               Error covariance matrix                               \n",
      "=====================================================================================\n",
      "                        coef    std err          z      P>|z|      [0.025      0.975]\n",
      "-------------------------------------------------------------------------------------\n",
      "sqrt.var.case       416.3604     20.903     19.918      0.000     375.391     457.330\n",
      "sqrt.cov.case.rh      0.5913      0.446      1.325      0.185      -0.283       1.466\n",
      "sqrt.var.rh           4.1597      0.229     18.144      0.000       3.710       4.609\n",
      "sqrt.cov.case.avt    -0.1295      0.074     -1.761      0.078      -0.274       0.015\n",
      "sqrt.cov.rh.avt      -0.5203      0.044    -11.920      0.000      -0.606      -0.435\n",
      "sqrt.var.avt          0.4605      0.022     20.624      0.000       0.417       0.504\n",
      "sqrt.cov.case.mxt    -0.2557      0.107     -2.393      0.017      -0.465      -0.046\n",
      "sqrt.cov.rh.mxt      -0.6889      0.064    -10.804      0.000      -0.814      -0.564\n",
      "sqrt.cov.avt.mxt      0.3472      0.050      6.968      0.000       0.250       0.445\n",
      "sqrt.var.mxt          0.6981      0.031     22.391      0.000       0.637       0.759\n",
      "sqrt.cov.case.mnt    -0.1040      0.061     -1.713      0.087      -0.223       0.015\n",
      "sqrt.cov.rh.mnt      -0.1732      0.044     -3.971      0.000      -0.259      -0.088\n",
      "sqrt.cov.avt.mnt      0.2328      0.042      5.524      0.000       0.150       0.315\n",
      "sqrt.cov.mxt.mnt     -0.0909      0.039     -2.341      0.019      -0.167      -0.015\n",
      "sqrt.var.mnt          0.5742      0.027     21.147      0.000       0.521       0.627\n",
      "=====================================================================================\n",
      "\n",
      "Warnings:\n",
      "[1] Covariance matrix calculated using the outer product of gradients (complex-step).\n",
      "[2] Covariance matrix is singular or near-singular, with condition number 4.22e+16. Standard errors may be unstable.\n"
     ]
    }
   ],
   "source": [
    "model = VARMAX(data, exog=mobility, order=(3, 1))\n",
    "model_fit = model.fit(disp=False)\n",
    "print(model_fit.summary())"
   ]
  },
  {
   "cell_type": "code",
   "execution_count": 6,
   "metadata": {},
   "outputs": [
    {
     "data": {
      "image/png": "[encoded data removed]",
      "text/plain": [
       "<Figure size 936x216 with 1 Axes>"
      ]
     },
     "metadata": {
      "needs_background": "light"
     },
     "output_type": "display_data"
    }
   ],
   "source": [
    "ax = model_fit.impulse_responses(10, orthogonalized=True).plot(figsize=(13,3))\n",
    "ax.set(xlabel='t', title='Responses to a shock to `mxt`');"
   ]
  },
  {
   "cell_type": "code",
   "execution_count": 7,
   "metadata": {},
   "outputs": [],
   "source": [
    "evalu = pd.read_csv('data/new/evaluation.csv')\n",
    "mobility_exog = pd.read_csv('data/new/mobility_exog2.csv')"
   ]
  },
  {
   "cell_type": "code",
   "execution_count": 8,
   "metadata": {},
   "outputs": [
    {
     "name": "stdout",
     "output_type": "stream",
     "text": [
      "                   case         rh        avt        mxt        mnt\n",
      "2021-05-15   855.462266  73.619001  29.203289  33.286365  26.220613\n",
      "2021-05-16   927.526721  74.509344  29.038716  32.907944  25.991523\n",
      "2021-05-17   902.008743  74.132961  29.161673  32.957637  25.986247\n",
      "2021-05-18   959.670365  74.620946  28.972130  32.848526  26.047540\n",
      "2021-05-19   997.764104  75.084910  28.880113  32.689681  25.936628\n",
      "2021-05-20   986.574689  75.210175  28.989970  32.640930  25.935775\n",
      "2021-05-21   976.764900  75.296554  28.949812  32.604108  26.124340\n",
      "2021-05-22  1005.366043  75.914453  28.797969  32.628567  25.952779\n",
      "2021-05-23  1007.080338  76.279600  28.735849  32.542658  25.968746\n",
      "2021-05-24  1020.458470  76.120920  28.678863  32.440164  25.921603\n",
      "2021-05-25  1016.037727  75.706500  28.805237  32.582191  25.744625\n",
      "2021-05-26  1066.421719  75.275834  28.825061  32.490532  25.831420\n",
      "2021-05-27  1050.451654  75.422809  28.872384  32.542074  25.920346\n",
      "2021-05-28   985.320841  75.386918  29.045782  32.639644  26.022155\n",
      "2021-05-29  1026.240465  76.012402  28.814822  32.588095  26.024845\n",
      "2021-05-30  1022.533766  76.146185  28.824414  32.560187  25.891437\n",
      "2021-05-31   996.063812  75.699028  28.951019  32.628653  25.950337\n"
     ]
    },
    {
     "name": "stderr",
     "output_type": "stream",
     "text": [
      "C:\\ProgramData\\Anaconda3\\envs\\Forecatsing\\lib\\site-packages\\statsmodels\\tsa\\statespace\\varmax.py:163: EstimationWarning: Estimation of VARMA(p,q) models is not generically robust, due especially to identification issues.\n",
      "  EstimationWarning)\n",
      "C:\\ProgramData\\Anaconda3\\envs\\Forecatsing\\lib\\site-packages\\statsmodels\\tsa\\statespace\\varmax.py:163: EstimationWarning: Estimation of VARMA(p,q) models is not generically robust, due especially to identification issues.\n",
      "  EstimationWarning)\n"
     ]
    }
   ],
   "source": [
    "yhat = model_fit.forecast(steps=len(mobility_exog),exog=mobility_exog)\n",
    "print(yhat)"
   ]
  },
  {
   "cell_type": "code",
   "execution_count": 9,
   "metadata": {},
   "outputs": [
    {
     "name": "stderr",
     "output_type": "stream",
     "text": [
      "C:\\ProgramData\\Anaconda3\\envs\\Forecatsing\\lib\\site-packages\\statsmodels\\tsa\\statespace\\varmax.py:163: EstimationWarning: Estimation of VARMA(p,q) models is not generically robust, due especially to identification issues.\n",
      "  EstimationWarning)\n",
      "C:\\ProgramData\\Anaconda3\\envs\\Forecatsing\\lib\\site-packages\\statsmodels\\tsa\\statespace\\varmax.py:163: EstimationWarning: Estimation of VARMA(p,q) models is not generically robust, due especially to identification issues.\n",
      "  EstimationWarning)\n"
     ]
    },
    {
     "data": {
      "text/plain": [
       "[855,\n",
       " 927,\n",
       " 902,\n",
       " 959,\n",
       " 997,\n",
       " 986,\n",
       " 976,\n",
       " 1005,\n",
       " 1007,\n",
       " 1020,\n",
       " 1016,\n",
       " 1066,\n",
       " 1050,\n",
       " 985,\n",
       " 1026,\n",
       " 1022,\n",
       " 996]"
      ]
     },
     "execution_count": 9,
     "metadata": {},
     "output_type": "execute_result"
    }
   ],
   "source": [
    "hasil = model_fit.forecast(steps=len(mobility_exog),exog=mobility_exog)\n",
    "list_hasil = hasil['case'].tolist()\n",
    "list_eval = evalu['case'].tolist()\n",
    "test_list = [int(i) for i in list_hasil]\n",
    "test_list"
   ]
  },
  {
   "cell_type": "code",
   "execution_count": 10,
   "metadata": {},
   "outputs": [
    {
     "data": {
      "text/plain": [
       "404.2068486191052"
      ]
     },
     "execution_count": 10,
     "metadata": {},
     "output_type": "execute_result"
    }
   ],
   "source": [
    "rms = mean_squared_error(list_eval, test_list, squared=False)\n",
    "rms"
   ]
  },
  {
   "cell_type": "code",
   "execution_count": 11,
   "metadata": {},
   "outputs": [
    {
     "data": {
      "text/plain": [
       "163383.17647058822"
      ]
     },
     "execution_count": 11,
     "metadata": {},
     "output_type": "execute_result"
    }
   ],
   "source": [
    "mse = mean_squared_error(list_eval, test_list)\n",
    "mse"
   ]
  },
  {
   "cell_type": "code",
   "execution_count": 12,
   "metadata": {},
   "outputs": [
    {
     "data": {
      "text/plain": [
       "331.7647058823529"
      ]
     },
     "execution_count": 12,
     "metadata": {},
     "output_type": "execute_result"
    }
   ],
   "source": [
    "mae = mean_absolute_error(list_eval, test_list)\n",
    "mae"
   ]
  }
 ],
 "metadata": {
  "kernelspec": {
   "display_name": "Python 3",
   "language": "python",
   "name": "python3"
  },
  "language_info": {
   "codemirror_mode": {
    "name": "ipython",
    "version": 3
   },
   "file_extension": ".py",
   "mimetype": "text/x-python",
   "name": "python",
   "nbconvert_exporter": "python",
   "pygments_lexer": "ipython3",
   "version": "3.7.9"
  }
 },
 "nbformat": 4,
 "nbformat_minor": 4
}
