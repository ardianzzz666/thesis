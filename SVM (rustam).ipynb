{
 "cells": [
  {
   "cell_type": "code",
   "execution_count": 1,
   "metadata": {},
   "outputs": [],
   "source": [
    "from sklearn.datasets import make_regression\n",
    "from sklearn.multioutput import MultiOutputRegressor\n",
    "from sklearn.svm import SVR\n",
    "from sklearn.model_selection import train_test_split\n",
    "from sklearn.metrics import mean_squared_error, mean_absolute_error\n",
    "\n",
    "from sklearn.model_selection import cross_val_score\n",
    "from sklearn.model_selection import GridSearchCV\n",
    "from sklearn.model_selection import RepeatedKFold\n",
    "\n",
    "from numpy import arange\n",
    "\n",
    "import pandas as pd"
   ]
  },
  {
   "cell_type": "code",
   "execution_count": 2,
   "metadata": {},
   "outputs": [],
   "source": [
    "# dataset indonesia (jakarta)\n",
    "case = pd.read_csv('data/new/case_maret_july.csv')\n",
    "mobility = pd.read_csv('data/new/mobility_maret_july.csv')\n",
    "weather = pd.read_csv('data/new/weather_maret_july.csv')\n",
    "case.set_index('date', inplace=True)\n",
    "#weather.set_index('date', inplace=True)\n",
    "mobility.set_index('date', inplace=True)"
   ]
  },
  {
   "cell_type": "code",
   "execution_count": 3,
   "metadata": {},
   "outputs": [],
   "source": [
    "new_weather = weather.interpolate(method='spline', order=2)\n",
    "new_weather.head()\n",
    "\n",
    "new_weather.set_index('date', inplace=True)"
   ]
  },
  {
   "cell_type": "code",
   "execution_count": 4,
   "metadata": {},
   "outputs": [
    {
     "data": {
      "text/html": [
       "<div>\n",
       "<style scoped>\n",
       "    .dataframe tbody tr th:only-of-type {\n",
       "        vertical-align: middle;\n",
       "    }\n",
       "\n",
       "    .dataframe tbody tr th {\n",
       "        vertical-align: top;\n",
       "    }\n",
       "\n",
       "    .dataframe thead th {\n",
       "        text-align: right;\n",
       "    }\n",
       "</style>\n",
       "<table border=\"1\" class=\"dataframe\">\n",
       "  <thead>\n",
       "    <tr style=\"text-align: right;\">\n",
       "      <th></th>\n",
       "      <th>case</th>\n",
       "      <th>rh</th>\n",
       "      <th>avt</th>\n",
       "      <th>mxt</th>\n",
       "      <th>mnt</th>\n",
       "      <th>retail_recreation</th>\n",
       "      <th>grocery_pahrmacy</th>\n",
       "      <th>parks</th>\n",
       "      <th>transit_station</th>\n",
       "      <th>workplace</th>\n",
       "      <th>residential</th>\n",
       "    </tr>\n",
       "    <tr>\n",
       "      <th>date</th>\n",
       "      <th></th>\n",
       "      <th></th>\n",
       "      <th></th>\n",
       "      <th></th>\n",
       "      <th></th>\n",
       "      <th></th>\n",
       "      <th></th>\n",
       "      <th></th>\n",
       "      <th></th>\n",
       "      <th></th>\n",
       "      <th></th>\n",
       "    </tr>\n",
       "  </thead>\n",
       "  <tbody>\n",
       "    <tr>\n",
       "      <th>2020-03-18</th>\n",
       "      <td>38</td>\n",
       "      <td>86.0</td>\n",
       "      <td>27.6</td>\n",
       "      <td>29.0</td>\n",
       "      <td>25.800000</td>\n",
       "      <td>-22</td>\n",
       "      <td>-3</td>\n",
       "      <td>-28</td>\n",
       "      <td>-32</td>\n",
       "      <td>-19</td>\n",
       "      <td>11</td>\n",
       "    </tr>\n",
       "    <tr>\n",
       "      <th>2020-03-19</th>\n",
       "      <td>50</td>\n",
       "      <td>83.0</td>\n",
       "      <td>28.1</td>\n",
       "      <td>31.4</td>\n",
       "      <td>25.800000</td>\n",
       "      <td>-28</td>\n",
       "      <td>-12</td>\n",
       "      <td>-33</td>\n",
       "      <td>-38</td>\n",
       "      <td>-21</td>\n",
       "      <td>12</td>\n",
       "    </tr>\n",
       "    <tr>\n",
       "      <th>2020-03-20</th>\n",
       "      <td>14</td>\n",
       "      <td>82.0</td>\n",
       "      <td>27.4</td>\n",
       "      <td>31.2</td>\n",
       "      <td>25.200000</td>\n",
       "      <td>-30</td>\n",
       "      <td>-11</td>\n",
       "      <td>-32</td>\n",
       "      <td>-42</td>\n",
       "      <td>-23</td>\n",
       "      <td>15</td>\n",
       "    </tr>\n",
       "    <tr>\n",
       "      <th>2020-03-21</th>\n",
       "      <td>44</td>\n",
       "      <td>81.0</td>\n",
       "      <td>28.1</td>\n",
       "      <td>32.4</td>\n",
       "      <td>26.521978</td>\n",
       "      <td>-35</td>\n",
       "      <td>-5</td>\n",
       "      <td>-38</td>\n",
       "      <td>-40</td>\n",
       "      <td>-10</td>\n",
       "      <td>11</td>\n",
       "    </tr>\n",
       "    <tr>\n",
       "      <th>2020-03-22</th>\n",
       "      <td>36</td>\n",
       "      <td>84.0</td>\n",
       "      <td>27.2</td>\n",
       "      <td>31.2</td>\n",
       "      <td>25.000000</td>\n",
       "      <td>-49</td>\n",
       "      <td>-22</td>\n",
       "      <td>-59</td>\n",
       "      <td>-49</td>\n",
       "      <td>-12</td>\n",
       "      <td>14</td>\n",
       "    </tr>\n",
       "  </tbody>\n",
       "</table>\n",
       "</div>"
      ],
      "text/plain": [
       "            case    rh   avt   mxt        mnt  retail_recreation  \\\n",
       "date                                                               \n",
       "2020-03-18    38  86.0  27.6  29.0  25.800000                -22   \n",
       "2020-03-19    50  83.0  28.1  31.4  25.800000                -28   \n",
       "2020-03-20    14  82.0  27.4  31.2  25.200000                -30   \n",
       "2020-03-21    44  81.0  28.1  32.4  26.521978                -35   \n",
       "2020-03-22    36  84.0  27.2  31.2  25.000000                -49   \n",
       "\n",
       "            grocery_pahrmacy  parks  transit_station  workplace  residential  \n",
       "date                                                                          \n",
       "2020-03-18                -3    -28              -32        -19           11  \n",
       "2020-03-19               -12    -33              -38        -21           12  \n",
       "2020-03-20               -11    -32              -42        -23           15  \n",
       "2020-03-21                -5    -38              -40        -10           11  \n",
       "2020-03-22               -22    -59              -49        -12           14  "
      ]
     },
     "execution_count": 4,
     "metadata": {},
     "output_type": "execute_result"
    }
   ],
   "source": [
    "data = pd.concat([case, new_weather, mobility], axis=1)\n",
    "data.head()"
   ]
  },
  {
   "cell_type": "code",
   "execution_count": 5,
   "metadata": {},
   "outputs": [
    {
     "data": {
      "text/plain": [
       "(423, 11)"
      ]
     },
     "execution_count": 5,
     "metadata": {},
     "output_type": "execute_result"
    }
   ],
   "source": [
    "data.shape"
   ]
  },
  {
   "cell_type": "code",
   "execution_count": 6,
   "metadata": {},
   "outputs": [],
   "source": [
    "train = data[:413]\n",
    "test = data[413:]"
   ]
  },
  {
   "cell_type": "code",
   "execution_count": 7,
   "metadata": {},
   "outputs": [],
   "source": [
    "X = train[['rh', 'avt', 'mxt', 'mnt', 'retail_recreation', 'grocery_pahrmacy', 'parks', 'transit_station', 'workplace', 'residential']]\n",
    "y = train['case']"
   ]
  },
  {
   "cell_type": "code",
   "execution_count": 8,
   "metadata": {},
   "outputs": [],
   "source": [
    "case_true = test['case']\n",
    "del test['case']"
   ]
  },
  {
   "cell_type": "code",
   "execution_count": 9,
   "metadata": {},
   "outputs": [
    {
     "name": "stdout",
     "output_type": "stream",
     "text": [
      "MAE: -1061.372\n",
      "Config: {'epsilon': 0.21}\n"
     ]
    }
   ],
   "source": [
    "# Create the SVR regressor\n",
    "model = SVR(kernel='linear')\n",
    "\n",
    "# defiinisikan evaluation method\n",
    "cv = RepeatedKFold(n_splits=10, n_repeats=3, random_state=1)\n",
    "\n",
    "grid = dict()\n",
    "grid['epsilon'] = arange(0, 1, 0.01)\n",
    "\n",
    "search = GridSearchCV(model, grid, scoring='neg_root_mean_squared_error')\n",
    "# perform the search\n",
    "results = search.fit(X, y)\n",
    "# summarize\n",
    "print('MAE: %.3f' % results.best_score_)\n",
    "print('Config: %s' % results.best_params_)"
   ]
  },
  {
   "cell_type": "code",
   "execution_count": 12,
   "metadata": {},
   "outputs": [],
   "source": [
    "# Create the SVR regressor\n",
    "model = SVR(kernel='linear',epsilon=0.21)\n",
    "model = model.fit(X,y)\n",
    "# Generate predictions for testing data\n",
    "y_pred = model.predict(test)"
   ]
  },
  {
   "cell_type": "code",
   "execution_count": 13,
   "metadata": {},
   "outputs": [
    {
     "data": {
      "text/plain": [
       "array([1193.4416845 ,  942.97063285,  602.95151399,  859.93667465,\n",
       "        601.05355334,  671.8891002 ,  797.18987546,  738.47137336,\n",
       "       1618.94834671, 1370.05778042])"
      ]
     },
     "execution_count": 13,
     "metadata": {},
     "output_type": "execute_result"
    }
   ],
   "source": [
    "y_pred"
   ]
  },
  {
   "cell_type": "code",
   "execution_count": 14,
   "metadata": {},
   "outputs": [],
   "source": [
    "list_hasil = y_pred.tolist()\n",
    "list_eval = case_true.tolist()"
   ]
  },
  {
   "cell_type": "code",
   "execution_count": 15,
   "metadata": {},
   "outputs": [
    {
     "data": {
      "text/plain": [
       "401.92031814453304"
      ]
     },
     "execution_count": 15,
     "metadata": {},
     "output_type": "execute_result"
    }
   ],
   "source": [
    "rmse = mean_squared_error(list_eval, list_hasil, squared=False)\n",
    "rmse"
   ]
  },
  {
   "cell_type": "code",
   "execution_count": 16,
   "metadata": {},
   "outputs": [
    {
     "data": {
      "text/plain": [
       "161539.94213740266"
      ]
     },
     "execution_count": 16,
     "metadata": {},
     "output_type": "execute_result"
    }
   ],
   "source": [
    "mse = mean_squared_error(list_eval, list_hasil)\n",
    "mse"
   ]
  },
  {
   "cell_type": "code",
   "execution_count": 17,
   "metadata": {},
   "outputs": [
    {
     "data": {
      "text/plain": [
       "297.0122200419743"
      ]
     },
     "execution_count": 17,
     "metadata": {},
     "output_type": "execute_result"
    }
   ],
   "source": [
    "mae = mean_absolute_error(list_eval, list_hasil)\n",
    "mae"
   ]
  },
  {
   "cell_type": "code",
   "execution_count": 18,
   "metadata": {},
   "outputs": [
    {
     "data": {
      "text/plain": [
       "<AxesSubplot:>"
      ]
     },
     "execution_count": 18,
     "metadata": {},
     "output_type": "execute_result"
    },
    {
     "data": {
      "image/png": "[encoded data removed]",
      "text/plain": [
       "<Figure size 432x288 with 1 Axes>"
      ]
     },
     "metadata": {
      "needs_background": "light"
     },
     "output_type": "display_data"
    }
   ],
   "source": [
    "compare = pd.DataFrame(list(zip(list_eval, list_hasil)), columns =['Real Value', 'Predict Value'])\n",
    "compare.plot()"
   ]
  },
  {
   "cell_type": "code",
   "execution_count": null,
   "metadata": {},
   "outputs": [],
   "source": []
  }
 ],
 "metadata": {
  "kernelspec": {
   "display_name": "Python 3",
   "language": "python",
   "name": "python3"
  },
  "language_info": {
   "codemirror_mode": {
    "name": "ipython",
    "version": 3
   },
   "file_extension": ".py",
   "mimetype": "text/x-python",
   "name": "python",
   "nbconvert_exporter": "python",
   "pygments_lexer": "ipython3",
   "version": "3.7.9"
  }
 },
 "nbformat": 4,
 "nbformat_minor": 4
}
