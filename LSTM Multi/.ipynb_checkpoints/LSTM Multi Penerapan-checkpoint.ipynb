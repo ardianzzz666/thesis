{
 "cells": [
  {
   "cell_type": "code",
   "execution_count": 1,
   "metadata": {},
   "outputs": [
    {
     "name": "stderr",
     "output_type": "stream",
     "text": [
      "C:\\ProgramData\\Anaconda3\\envs\\Forecatsing\\lib\\site-packages\\ipykernel_launcher.py:2: FutureWarning: The pandas.datetime class is deprecated and will be removed from pandas in a future version. Import from datetime module instead.\n",
      "  \n"
     ]
    }
   ],
   "source": [
    "import pandas as pd\n",
    "from pandas import datetime\n",
    "from pandas import DataFrame\n",
    "\n",
    "from pandas import DataFrame\n",
    "from pandas import concat\n",
    "\n",
    "from sklearn.preprocessing import MinMaxScaler"
   ]
  },
  {
   "cell_type": "code",
   "execution_count": 2,
   "metadata": {},
   "outputs": [],
   "source": [
    "def series_to_supervised(data, n_in=1, n_out=1, dropnan=True):\n",
    "    \"\"\"\n",
    "    Frame a time series as a supervised learning dataset.\n",
    "    Arguments:\n",
    "        data: Sequence of observations as a list or NumPy array.\n",
    "        n_in: Number of lag observations as input (X).\n",
    "        n_out: Number of observations as output (y).\n",
    "        dropnan: Boolean whether or not to drop rows with NaN values.\n",
    "    Returns:\n",
    "        Pandas DataFrame of series framed for supervised learning.\n",
    "    \"\"\"\n",
    "    n_vars = 1 if type(data) is list else data.shape[1]\n",
    "    df = DataFrame(data)\n",
    "    cols, names = list(), list()\n",
    "    # input sequence (t-n, ... t-1)\n",
    "    for i in range(n_in, 0, -1):\n",
    "        cols.append(df.shift(i))\n",
    "        names += [('var%d(t-%d)' % (j+1, i)) for j in range(n_vars)]\n",
    "    # forecast sequence (t, t+1, ... t+n)\n",
    "    for i in range(0, n_out):\n",
    "        cols.append(df.shift(-i))\n",
    "        if i == 0:\n",
    "            names += [('var%d(t)' % (j+1)) for j in range(n_vars)]\n",
    "        else:\n",
    "            names += [('var%d(t+%d)' % (j+1, i)) for j in range(n_vars)]\n",
    "    # put it all together\n",
    "    agg = concat(cols, axis=1)\n",
    "    agg.columns = names\n",
    "    # drop rows with NaN values\n",
    "    if dropnan:\n",
    "        agg.dropna(inplace=True)\n",
    "    return agg"
   ]
  },
  {
   "cell_type": "code",
   "execution_count": 3,
   "metadata": {},
   "outputs": [],
   "source": [
    "# dataset indonesia (jakarta)\n",
    "case = pd.read_csv('data/jakarta/case_maret_july.csv')\n",
    "mobility = pd.read_csv('data/jakarta/mobility_maret_july.csv')\n",
    "weather = pd.read_csv('data/jakarta/weather_maret_july.csv')\n",
    "case.set_index('date', inplace=True)\n",
    "#weather.set_index('date', inplace=True)\n",
    "mobility.set_index('date', inplace=True)"
   ]
  },
  {
   "cell_type": "code",
   "execution_count": 4,
   "metadata": {},
   "outputs": [],
   "source": [
    "new_weather = weather.interpolate(method='spline', order=2)\n",
    "new_weather.head()\n",
    "\n",
    "new_weather.set_index('date', inplace=True)"
   ]
  },
  {
   "cell_type": "code",
   "execution_count": 5,
   "metadata": {},
   "outputs": [
    {
     "data": {
      "text/html": [
       "<div>\n",
       "<style scoped>\n",
       "    .dataframe tbody tr th:only-of-type {\n",
       "        vertical-align: middle;\n",
       "    }\n",
       "\n",
       "    .dataframe tbody tr th {\n",
       "        vertical-align: top;\n",
       "    }\n",
       "\n",
       "    .dataframe thead th {\n",
       "        text-align: right;\n",
       "    }\n",
       "</style>\n",
       "<table border=\"1\" class=\"dataframe\">\n",
       "  <thead>\n",
       "    <tr style=\"text-align: right;\">\n",
       "      <th></th>\n",
       "      <th>case</th>\n",
       "      <th>rh</th>\n",
       "      <th>avt</th>\n",
       "      <th>mxt</th>\n",
       "      <th>mnt</th>\n",
       "      <th>retail_recreation</th>\n",
       "      <th>grocery_pahrmacy</th>\n",
       "      <th>parks</th>\n",
       "      <th>transit_station</th>\n",
       "      <th>workplace</th>\n",
       "      <th>residential</th>\n",
       "    </tr>\n",
       "    <tr>\n",
       "      <th>date</th>\n",
       "      <th></th>\n",
       "      <th></th>\n",
       "      <th></th>\n",
       "      <th></th>\n",
       "      <th></th>\n",
       "      <th></th>\n",
       "      <th></th>\n",
       "      <th></th>\n",
       "      <th></th>\n",
       "      <th></th>\n",
       "      <th></th>\n",
       "    </tr>\n",
       "  </thead>\n",
       "  <tbody>\n",
       "    <tr>\n",
       "      <th>2020-03-18</th>\n",
       "      <td>38</td>\n",
       "      <td>86.0</td>\n",
       "      <td>27.6</td>\n",
       "      <td>29.0</td>\n",
       "      <td>25.800000</td>\n",
       "      <td>-22</td>\n",
       "      <td>-3</td>\n",
       "      <td>-28</td>\n",
       "      <td>-32</td>\n",
       "      <td>-19</td>\n",
       "      <td>11</td>\n",
       "    </tr>\n",
       "    <tr>\n",
       "      <th>2020-03-19</th>\n",
       "      <td>50</td>\n",
       "      <td>83.0</td>\n",
       "      <td>28.1</td>\n",
       "      <td>31.4</td>\n",
       "      <td>25.800000</td>\n",
       "      <td>-28</td>\n",
       "      <td>-12</td>\n",
       "      <td>-33</td>\n",
       "      <td>-38</td>\n",
       "      <td>-21</td>\n",
       "      <td>12</td>\n",
       "    </tr>\n",
       "    <tr>\n",
       "      <th>2020-03-20</th>\n",
       "      <td>14</td>\n",
       "      <td>82.0</td>\n",
       "      <td>27.4</td>\n",
       "      <td>31.2</td>\n",
       "      <td>25.200000</td>\n",
       "      <td>-30</td>\n",
       "      <td>-11</td>\n",
       "      <td>-32</td>\n",
       "      <td>-42</td>\n",
       "      <td>-23</td>\n",
       "      <td>15</td>\n",
       "    </tr>\n",
       "    <tr>\n",
       "      <th>2020-03-21</th>\n",
       "      <td>44</td>\n",
       "      <td>81.0</td>\n",
       "      <td>28.1</td>\n",
       "      <td>32.4</td>\n",
       "      <td>26.602196</td>\n",
       "      <td>-35</td>\n",
       "      <td>-5</td>\n",
       "      <td>-38</td>\n",
       "      <td>-40</td>\n",
       "      <td>-10</td>\n",
       "      <td>11</td>\n",
       "    </tr>\n",
       "    <tr>\n",
       "      <th>2020-03-22</th>\n",
       "      <td>36</td>\n",
       "      <td>84.0</td>\n",
       "      <td>27.2</td>\n",
       "      <td>31.2</td>\n",
       "      <td>25.000000</td>\n",
       "      <td>-49</td>\n",
       "      <td>-22</td>\n",
       "      <td>-59</td>\n",
       "      <td>-49</td>\n",
       "      <td>-12</td>\n",
       "      <td>14</td>\n",
       "    </tr>\n",
       "  </tbody>\n",
       "</table>\n",
       "</div>"
      ],
      "text/plain": [
       "            case    rh   avt   mxt        mnt  retail_recreation  \\\n",
       "date                                                               \n",
       "2020-03-18    38  86.0  27.6  29.0  25.800000                -22   \n",
       "2020-03-19    50  83.0  28.1  31.4  25.800000                -28   \n",
       "2020-03-20    14  82.0  27.4  31.2  25.200000                -30   \n",
       "2020-03-21    44  81.0  28.1  32.4  26.602196                -35   \n",
       "2020-03-22    36  84.0  27.2  31.2  25.000000                -49   \n",
       "\n",
       "            grocery_pahrmacy  parks  transit_station  workplace  residential  \n",
       "date                                                                          \n",
       "2020-03-18                -3    -28              -32        -19           11  \n",
       "2020-03-19               -12    -33              -38        -21           12  \n",
       "2020-03-20               -11    -32              -42        -23           15  \n",
       "2020-03-21                -5    -38              -40        -10           11  \n",
       "2020-03-22               -22    -59              -49        -12           14  "
      ]
     },
     "execution_count": 5,
     "metadata": {},
     "output_type": "execute_result"
    }
   ],
   "source": [
    "data = pd.concat([case, new_weather, mobility], axis=1)\n",
    "data.head()"
   ]
  },
  {
   "cell_type": "code",
   "execution_count": 6,
   "metadata": {},
   "outputs": [],
   "source": [
    "values = data.values\n",
    "# ensure all data is float\n",
    "values = values.astype('float32')"
   ]
  },
  {
   "cell_type": "code",
   "execution_count": 7,
   "metadata": {},
   "outputs": [
    {
     "name": "stdout",
     "output_type": "stream",
     "text": [
      "[[0.00255864 0.7428571  0.40983582 ... 0.7704917  0.8428571  0.28125   ]\n",
      " [0.00383795 0.65714276 0.49180317 ... 0.67213106 0.8142857  0.3125    ]\n",
      " [0.         0.6285714  0.37704897 ... 0.6065573  0.78571427 0.40625   ]\n",
      " ...\n",
      " [0.9868869  0.5142857  0.6393442  ... 0.65573764 0.78571427 0.28125   ]\n",
      " [0.99999994 0.5142857  0.62295055 ... 0.6065573  0.8428571  0.3125    ]\n",
      " [0.8884861  0.5142857  0.5409837  ... 0.5737704  0.5428571  0.4375    ]]\n"
     ]
    }
   ],
   "source": [
    "# normalize features\n",
    "scaler = MinMaxScaler(feature_range=(0, 1))\n",
    "scaled = scaler.fit_transform(values)\n",
    "print(scaled)"
   ]
  },
  {
   "cell_type": "code",
   "execution_count": 8,
   "metadata": {},
   "outputs": [
    {
     "name": "stdout",
     "output_type": "stream",
     "text": [
      "     var1(t-1)  var2(t-1)  var3(t-1)  var4(t-1)  var5(t-1)  var6(t-1)  \\\n",
      "1     0.002559   0.742857   0.409836      0.175   0.560000   0.821429   \n",
      "2     0.003838   0.657143   0.491803      0.475   0.560000   0.714286   \n",
      "3     0.000000   0.628571   0.377049      0.450   0.440001   0.678571   \n",
      "4     0.003198   0.600000   0.491803      0.600   0.720439   0.589286   \n",
      "5     0.002345   0.685714   0.344262      0.450   0.400000   0.339286   \n",
      "..         ...        ...        ...        ...        ...        ...   \n",
      "463   0.498827   0.600000   0.442623      0.400   0.440001   0.714286   \n",
      "464   0.798614   0.600000   0.360655      0.325   0.400000   0.714286   \n",
      "465   0.737740   0.514286   0.557377      0.675   0.480000   0.767857   \n",
      "466   0.986887   0.514286   0.639344      0.625   0.560000   0.642857   \n",
      "467   1.000000   0.514286   0.622951      0.675   0.680000   0.535714   \n",
      "\n",
      "     var7(t-1)  var8(t-1)  var9(t-1)  var10(t-1)  ...   var2(t)   var3(t)  \\\n",
      "1     0.651515   0.944444   0.770492    0.842857  ...  0.657143  0.491803   \n",
      "2     0.515152   0.875000   0.672131    0.814286  ...  0.628571  0.377049   \n",
      "3     0.530303   0.888889   0.606557    0.785714  ...  0.600000  0.491803   \n",
      "4     0.621212   0.805556   0.639344    0.971429  ...  0.685714  0.344262   \n",
      "5     0.363636   0.513889   0.491803    0.942857  ...  0.600000  0.508197   \n",
      "..         ...        ...        ...         ...  ...       ...       ...   \n",
      "463   0.696970   0.680556   0.606557    0.600000  ...  0.600000  0.360655   \n",
      "464   0.696970   0.666667   0.590164    0.585714  ...  0.514286  0.557377   \n",
      "465   0.803030   0.708333   0.573770    0.585714  ...  0.514286  0.639344   \n",
      "466   0.772727   0.569444   0.655738    0.785714  ...  0.514286  0.622951   \n",
      "467   0.621212   0.444444   0.606557    0.842857  ...  0.514286  0.540984   \n",
      "\n",
      "     var4(t)   var5(t)   var6(t)   var7(t)   var8(t)   var9(t)  var10(t)  \\\n",
      "1      0.475  0.560000  0.714286  0.515152  0.875000  0.672131  0.814286   \n",
      "2      0.450  0.440001  0.678571  0.530303  0.888889  0.606557  0.785714   \n",
      "3      0.600  0.720439  0.589286  0.621212  0.805556  0.639344  0.971429   \n",
      "4      0.450  0.400000  0.339286  0.363636  0.513889  0.491803  0.942857   \n",
      "5      0.525  0.400000  0.500000  0.409091  0.736111  0.426229  0.628571   \n",
      "..       ...       ...       ...       ...       ...       ...       ...   \n",
      "463    0.325  0.400000  0.714286  0.696970  0.666667  0.590164  0.585714   \n",
      "464    0.675  0.480000  0.767857  0.803030  0.708333  0.573770  0.585714   \n",
      "465    0.625  0.560000  0.642857  0.772727  0.569444  0.655738  0.785714   \n",
      "466    0.675  0.680000  0.535714  0.621212  0.444444  0.606557  0.842857   \n",
      "467    0.625  0.400000  0.732143  0.818182  0.652778  0.573770  0.542857   \n",
      "\n",
      "     var11(t)  \n",
      "1     0.31250  \n",
      "2     0.40625  \n",
      "3     0.28125  \n",
      "4     0.37500  \n",
      "5     0.50000  \n",
      "..        ...  \n",
      "463   0.40625  \n",
      "464   0.43750  \n",
      "465   0.28125  \n",
      "466   0.31250  \n",
      "467   0.43750  \n",
      "\n",
      "[467 rows x 22 columns]\n"
     ]
    }
   ],
   "source": [
    "# frame as supervised learning\n",
    "reframed = series_to_supervised(scaled, 1, 1)\n",
    "print(reframed)"
   ]
  },
  {
   "cell_type": "code",
   "execution_count": 9,
   "metadata": {},
   "outputs": [
    {
     "name": "stdout",
     "output_type": "stream",
     "text": [
      "   var1(t-1)  var2(t-1)  var3(t-1)  var4(t-1)  var5(t-1)  var6(t-1)  \\\n",
      "1   0.002559   0.742857   0.409836      0.175   0.560000   0.821429   \n",
      "2   0.003838   0.657143   0.491803      0.475   0.560000   0.714286   \n",
      "3   0.000000   0.628571   0.377049      0.450   0.440001   0.678571   \n",
      "4   0.003198   0.600000   0.491803      0.600   0.720439   0.589286   \n",
      "5   0.002345   0.685714   0.344262      0.450   0.400000   0.339286   \n",
      "\n",
      "   var7(t-1)  var8(t-1)  var9(t-1)  var10(t-1)  var11(t-1)   var1(t)  \n",
      "1   0.651515   0.944444   0.770492    0.842857     0.28125  0.003838  \n",
      "2   0.515152   0.875000   0.672131    0.814286     0.31250  0.000000  \n",
      "3   0.530303   0.888889   0.606557    0.785714     0.40625  0.003198  \n",
      "4   0.621212   0.805556   0.639344    0.971429     0.28125  0.002345  \n",
      "5   0.363636   0.513889   0.491803    0.942857     0.37500  0.003945  \n"
     ]
    }
   ],
   "source": [
    "# drop columns we don't want to predict\n",
    "reframed.drop(reframed.columns[[12,13,14,15,16,17,18,19,20,21]], axis=1, inplace=True)\n",
    "print(reframed.head())"
   ]
  },
  {
   "cell_type": "code",
   "execution_count": 16,
   "metadata": {},
   "outputs": [],
   "source": [
    "# split into train and test sets\n",
    "values = reframed.values\n",
    "\n",
    "n_total = values.shape[0]\n",
    "train = values[:n_total, :]\n",
    "test = values[n_total:, :]\n",
    "\n",
    "# split into input and outputs\n",
    "train_X, train_y = train[:, :-1], train[:, -1]\n",
    "test_X, test_y = test[:, :-1], test[:, -1]"
   ]
  },
  {
   "cell_type": "code",
   "execution_count": 15,
   "metadata": {},
   "outputs": [
    {
     "data": {
      "text/plain": [
       "467"
      ]
     },
     "execution_count": 15,
     "metadata": {},
     "output_type": "execute_result"
    }
   ],
   "source": [
    "#values.shape[0]\n",
    "\n",
    "#n_train_hours = 365 * 24\n",
    "#train = values[:n_train_hours, :]\n",
    "#test = values[n_train_hours:, :]"
   ]
  },
  {
   "cell_type": "code",
   "execution_count": null,
   "metadata": {},
   "outputs": [],
   "source": []
  }
 ],
 "metadata": {
  "kernelspec": {
   "display_name": "Python 3",
   "language": "python",
   "name": "python3"
  },
  "language_info": {
   "codemirror_mode": {
    "name": "ipython",
    "version": 3
   },
   "file_extension": ".py",
   "mimetype": "text/x-python",
   "name": "python",
   "nbconvert_exporter": "python",
   "pygments_lexer": "ipython3",
   "version": "3.7.9"
  }
 },
 "nbformat": 4,
 "nbformat_minor": 4
}
