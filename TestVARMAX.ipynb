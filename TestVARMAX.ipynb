{
 "cells": [
  {
   "cell_type": "code",
   "execution_count": 1,
   "metadata": {},
   "outputs": [],
   "source": [
    "import numpy as np\n",
    "import pandas as pd\n",
    "import statsmodels.api as sm\n",
    "import matplotlib.pyplot as plt"
   ]
  },
  {
   "cell_type": "code",
   "execution_count": 2,
   "metadata": {},
   "outputs": [],
   "source": [
    "dta = sm.datasets.webuse('lutkepohl2', 'https://www.stata-press.com/data/r12/')\n",
    "dta.index = dta.qtr\n",
    "dta.index.freq = dta.index.inferred_freq\n",
    "endog = dta.loc['1960-04-01':'1978-10-01', ['dln_inv', 'dln_inc', 'dln_consump']]"
   ]
  },
  {
   "cell_type": "code",
   "execution_count": 9,
   "metadata": {},
   "outputs": [
    {
     "data": {
      "text/html": [
       "<div>\n",
       "<style scoped>\n",
       "    .dataframe tbody tr th:only-of-type {\n",
       "        vertical-align: middle;\n",
       "    }\n",
       "\n",
       "    .dataframe tbody tr th {\n",
       "        vertical-align: top;\n",
       "    }\n",
       "\n",
       "    .dataframe thead th {\n",
       "        text-align: right;\n",
       "    }\n",
       "</style>\n",
       "<table border=\"1\" class=\"dataframe\">\n",
       "  <thead>\n",
       "    <tr style=\"text-align: right;\">\n",
       "      <th></th>\n",
       "      <th>dln_inv</th>\n",
       "      <th>dln_inc</th>\n",
       "      <th>dln_consump</th>\n",
       "    </tr>\n",
       "    <tr>\n",
       "      <th>qtr</th>\n",
       "      <th></th>\n",
       "      <th></th>\n",
       "      <th></th>\n",
       "    </tr>\n",
       "  </thead>\n",
       "  <tbody>\n",
       "    <tr>\n",
       "      <th>1960-04-01</th>\n",
       "      <td>-0.005571</td>\n",
       "      <td>0.030570</td>\n",
       "      <td>0.014355</td>\n",
       "    </tr>\n",
       "    <tr>\n",
       "      <th>1960-07-01</th>\n",
       "      <td>0.032970</td>\n",
       "      <td>0.042111</td>\n",
       "      <td>0.030411</td>\n",
       "    </tr>\n",
       "    <tr>\n",
       "      <th>1960-10-01</th>\n",
       "      <td>0.037139</td>\n",
       "      <td>0.016360</td>\n",
       "      <td>0.031749</td>\n",
       "    </tr>\n",
       "    <tr>\n",
       "      <th>1961-01-01</th>\n",
       "      <td>0.094363</td>\n",
       "      <td>0.031939</td>\n",
       "      <td>0.024257</td>\n",
       "    </tr>\n",
       "    <tr>\n",
       "      <th>1961-04-01</th>\n",
       "      <td>-0.043591</td>\n",
       "      <td>0.021381</td>\n",
       "      <td>-0.002181</td>\n",
       "    </tr>\n",
       "  </tbody>\n",
       "</table>\n",
       "</div>"
      ],
      "text/plain": [
       "             dln_inv   dln_inc  dln_consump\n",
       "qtr                                        \n",
       "1960-04-01 -0.005571  0.030570     0.014355\n",
       "1960-07-01  0.032970  0.042111     0.030411\n",
       "1960-10-01  0.037139  0.016360     0.031749\n",
       "1961-01-01  0.094363  0.031939     0.024257\n",
       "1961-04-01 -0.043591  0.021381    -0.002181"
      ]
     },
     "execution_count": 9,
     "metadata": {},
     "output_type": "execute_result"
    }
   ],
   "source": [
    "endog.head()"
   ]
  },
  {
   "cell_type": "code",
   "execution_count": 3,
   "metadata": {},
   "outputs": [
    {
     "name": "stderr",
     "output_type": "stream",
     "text": [
      "C:\\ProgramData\\Anaconda3\\envs\\Forecatsing\\lib\\site-packages\\statsmodels\\tsa\\statespace\\varmax.py:163: EstimationWarning: Estimation of VARMA(p,q) models is not generically robust, due especially to identification issues.\n",
      "  EstimationWarning)\n"
     ]
    },
    {
     "name": "stdout",
     "output_type": "stream",
     "text": [
      "                             Statespace Model Results                             \n",
      "==================================================================================\n",
      "Dep. Variable:     ['dln_inv', 'dln_inc']   No. Observations:                   75\n",
      "Model:                         VARMA(1,1)   Log Likelihood                 354.284\n",
      "                              + intercept   AIC                           -682.568\n",
      "Date:                    Mon, 01 Mar 2021   BIC                           -652.441\n",
      "Time:                            19:15:06   HQIC                          -670.538\n",
      "Sample:                        04-01-1960                                         \n",
      "                             - 10-01-1978                                         \n",
      "Covariance Type:                      opg                                         \n",
      "===================================================================================\n",
      "Ljung-Box (L1) (Q):             0.02, 0.05   Jarque-Bera (JB):         10.85, 14.13\n",
      "Prob(Q):                        0.90, 0.82   Prob(JB):                   0.00, 0.00\n",
      "Heteroskedasticity (H):         0.43, 0.91   Skew:                      0.00, -0.46\n",
      "Prob(H) (two-sided):            0.04, 0.81   Kurtosis:                   4.86, 4.92\n",
      "                           Results for equation dln_inv                          \n",
      "=================================================================================\n",
      "                    coef    std err          z      P>|z|      [0.025      0.975]\n",
      "---------------------------------------------------------------------------------\n",
      "intercept         0.0110      0.068      0.161      0.872      -0.122       0.144\n",
      "L1.dln_inv       -0.0061      0.724     -0.008      0.993      -1.424       1.412\n",
      "L1.dln_inc        0.3588      2.842      0.126      0.900      -5.210       5.928\n",
      "L1.e(dln_inv)    -0.2524      0.735     -0.343      0.731      -1.693       1.188\n",
      "L1.e(dln_inc)     0.1264      3.084      0.041      0.967      -5.918       6.171\n",
      "                           Results for equation dln_inc                          \n",
      "=================================================================================\n",
      "                    coef    std err          z      P>|z|      [0.025      0.975]\n",
      "---------------------------------------------------------------------------------\n",
      "intercept         0.0165      0.029      0.578      0.563      -0.039       0.073\n",
      "L1.dln_inv       -0.0341      0.288     -0.118      0.906      -0.598       0.530\n",
      "L1.dln_inc        0.2337      1.161      0.201      0.840      -2.041       2.508\n",
      "L1.e(dln_inv)     0.0893      0.295      0.303      0.762      -0.488       0.667\n",
      "L1.e(dln_inc)    -0.2380      1.193     -0.199      0.842      -2.576       2.100\n",
      "                                  Error covariance matrix                                   \n",
      "============================================================================================\n",
      "                               coef    std err          z      P>|z|      [0.025      0.975]\n",
      "--------------------------------------------------------------------------------------------\n",
      "sqrt.var.dln_inv             0.0450      0.003     14.516      0.000       0.039       0.051\n",
      "sqrt.cov.dln_inv.dln_inc     0.0017      0.003      0.645      0.519      -0.003       0.007\n",
      "sqrt.var.dln_inc             0.0116      0.001     11.657      0.000       0.010       0.013\n",
      "============================================================================================\n",
      "\n",
      "Warnings:\n",
      "[1] Covariance matrix calculated using the outer product of gradients (complex-step).\n"
     ]
    }
   ],
   "source": [
    "mod = sm.tsa.VARMAX(endog[['dln_inv', 'dln_inc']], order=(1,1))\n",
    "res = mod.fit(maxiter=1000, disp=False)\n",
    "print(res.summary())"
   ]
  },
  {
   "cell_type": "code",
   "execution_count": 4,
   "metadata": {},
   "outputs": [
    {
     "data": {
      "image/png": "[encoded data removed]",
      "text/plain": [
       "<Figure size 936x216 with 1 Axes>"
      ]
     },
     "metadata": {
      "needs_background": "light"
     },
     "output_type": "display_data"
    }
   ],
   "source": [
    "ax = res.impulse_responses(10, orthogonalized=True).plot(figsize=(13,3))\n",
    "ax.set(xlabel='t', title='Responses to a shock to `dln_inv`');"
   ]
  },
  {
   "cell_type": "code",
   "execution_count": null,
   "metadata": {},
   "outputs": [],
   "source": [
    "VARMAXResults.forecast(steps=1, **kwargs)¶"
   ]
  }
 ],
 "metadata": {
  "kernelspec": {
   "display_name": "Python 3",
   "language": "python",
   "name": "python3"
  },
  "language_info": {
   "codemirror_mode": {
    "name": "ipython",
    "version": 3
   },
   "file_extension": ".py",
   "mimetype": "text/x-python",
   "name": "python",
   "nbconvert_exporter": "python",
   "pygments_lexer": "ipython3",
   "version": "3.7.9"
  }
 },
 "nbformat": 4,
 "nbformat_minor": 4
}
