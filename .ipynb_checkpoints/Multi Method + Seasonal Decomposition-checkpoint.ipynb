{
 "cells": [
  {
   "cell_type": "code",
   "execution_count": 1,
   "metadata": {},
   "outputs": [],
   "source": [
    "import pandas as pd\n",
    "from statsmodels.tsa.arima.model import ARIMA\n",
    "import matplotlib.pyplot as plt\n",
    "from statsmodels.tsa.seasonal import seasonal_decompose\n",
    "from pandas import DataFrame\n",
    "\n",
    "from math import sqrt\n",
    "from numpy import concatenate\n",
    "from pandas import concat\n",
    "from numpy import ndarray\n",
    "\n",
    "from sklearn.metrics import mean_squared_error\n",
    "from keras.models import Sequential\n",
    "from keras.layers import Dense\n",
    "from keras.layers import LSTM"
   ]
  },
  {
   "cell_type": "code",
   "execution_count": 2,
   "metadata": {},
   "outputs": [],
   "source": [
    "def series_to_supervised(data, n_in=1, n_out=1, dropnan=True):\n",
    "    \"\"\"\n",
    "    Frame a time series as a supervised learning dataset.\n",
    "    Arguments:\n",
    "        data: Sequence of observations as a list or NumPy array.\n",
    "        n_in: Number of lag observations as input (X).\n",
    "        n_out: Number of observations as output (y).\n",
    "        dropnan: Boolean whether or not to drop rows with NaN values.\n",
    "    Returns:\n",
    "        Pandas DataFrame of series framed for supervised learning.\n",
    "    \"\"\"\n",
    "    n_vars = 1 if type(data) is list else data.shape[1]\n",
    "    df = DataFrame(data)\n",
    "    cols, names = list(), list()\n",
    "    # input sequence (t-n, ... t-1)\n",
    "    for i in range(n_in, 0, -1):\n",
    "        cols.append(df.shift(i))\n",
    "        names += [('var%d(t-%d)' % (j+1, i)) for j in range(n_vars)]\n",
    "    # forecast sequence (t, t+1, ... t+n)\n",
    "    for i in range(0, n_out):\n",
    "        cols.append(df.shift(-i))\n",
    "        if i == 0:\n",
    "            names += [('var%d(t)' % (j+1)) for j in range(n_vars)]\n",
    "        else:\n",
    "            names += [('var%d(t+%d)' % (j+1, i)) for j in range(n_vars)]\n",
    "    # put it all together\n",
    "    agg = concat(cols, axis=1)\n",
    "    agg.columns = names\n",
    "    # drop rows with NaN values\n",
    "    if dropnan:\n",
    "        agg.dropna(inplace=True)\n",
    "    return agg"
   ]
  },
  {
   "cell_type": "code",
   "execution_count": 3,
   "metadata": {},
   "outputs": [],
   "source": [
    "case = pd.read_csv('data/new/case_maret_july.csv')\n",
    "\n",
    "mobility = pd.read_csv('data/new/mobility_maret_july.csv')\n",
    "weather = pd.read_csv('data/new/weather_maret_july.csv')\n",
    "mobility.set_index('date', inplace=True)"
   ]
  },
  {
   "cell_type": "code",
   "execution_count": 4,
   "metadata": {},
   "outputs": [
    {
     "data": {
      "image/png": "[encoded data removed]",
      "text/plain": [
       "<Figure size 432x288 with 1 Axes>"
      ]
     },
     "metadata": {
      "needs_background": "light"
     },
     "output_type": "display_data"
    }
   ],
   "source": [
    "case.plot()\n",
    "plt.title(\"Daily Case\")\n",
    "plt.show()"
   ]
  },
  {
   "cell_type": "code",
   "execution_count": 5,
   "metadata": {},
   "outputs": [],
   "source": [
    "new_weather = weather.interpolate(method='spline', order=2)\n",
    "\n",
    "new_date = weather[['date']]\n",
    "\n",
    "new_weather.set_index('date', inplace=True)"
   ]
  },
  {
   "cell_type": "code",
   "execution_count": 6,
   "metadata": {},
   "outputs": [
    {
     "data": {
      "text/html": [
       "<div>\n",
       "<style scoped>\n",
       "    .dataframe tbody tr th:only-of-type {\n",
       "        vertical-align: middle;\n",
       "    }\n",
       "\n",
       "    .dataframe tbody tr th {\n",
       "        vertical-align: top;\n",
       "    }\n",
       "\n",
       "    .dataframe thead th {\n",
       "        text-align: right;\n",
       "    }\n",
       "</style>\n",
       "<table border=\"1\" class=\"dataframe\">\n",
       "  <thead>\n",
       "    <tr style=\"text-align: right;\">\n",
       "      <th></th>\n",
       "      <th>case</th>\n",
       "    </tr>\n",
       "    <tr>\n",
       "      <th>date</th>\n",
       "      <th></th>\n",
       "    </tr>\n",
       "  </thead>\n",
       "  <tbody>\n",
       "    <tr>\n",
       "      <th>2020-03-18</th>\n",
       "      <td>38</td>\n",
       "    </tr>\n",
       "    <tr>\n",
       "      <th>2020-03-19</th>\n",
       "      <td>50</td>\n",
       "    </tr>\n",
       "    <tr>\n",
       "      <th>2020-03-20</th>\n",
       "      <td>14</td>\n",
       "    </tr>\n",
       "    <tr>\n",
       "      <th>2020-03-21</th>\n",
       "      <td>44</td>\n",
       "    </tr>\n",
       "    <tr>\n",
       "      <th>2020-03-22</th>\n",
       "      <td>36</td>\n",
       "    </tr>\n",
       "  </tbody>\n",
       "</table>\n",
       "</div>"
      ],
      "text/plain": [
       "            case\n",
       "date            \n",
       "2020-03-18    38\n",
       "2020-03-19    50\n",
       "2020-03-20    14\n",
       "2020-03-21    44\n",
       "2020-03-22    36"
      ]
     },
     "execution_count": 6,
     "metadata": {},
     "output_type": "execute_result"
    }
   ],
   "source": [
    "case['date'] = case['date'].astype('datetime64[ns]')\n",
    "case.set_index('date', inplace=True)\n",
    "case.head()"
   ]
  },
  {
   "cell_type": "code",
   "execution_count": 8,
   "metadata": {},
   "outputs": [],
   "source": [
    "decompose = seasonal_decompose(case, model='additive', extrapolate_trend='freq')"
   ]
  },
  {
   "cell_type": "code",
   "execution_count": 9,
   "metadata": {},
   "outputs": [
    {
     "data": {
      "image/png": "[encoded data removed]",
      "text/plain": [
       "<Figure size 432x288 with 1 Axes>"
      ]
     },
     "metadata": {
      "needs_background": "light"
     },
     "output_type": "display_data"
    }
   ],
   "source": [
    "decompose.seasonal.plot()\n",
    "plt.show()"
   ]
  },
  {
   "cell_type": "code",
   "execution_count": 10,
   "metadata": {},
   "outputs": [
    {
     "data": {
      "image/png": "[encoded data removed]",
      "text/plain": [
       "<Figure size 432x288 with 1 Axes>"
      ]
     },
     "metadata": {
      "needs_background": "light"
     },
     "output_type": "display_data"
    }
   ],
   "source": [
    "decompose.trend.plot()\n",
    "plt.show()"
   ]
  },
  {
   "cell_type": "code",
   "execution_count": 11,
   "metadata": {},
   "outputs": [
    {
     "data": {
      "image/png": "[encoded data removed]",
      "text/plain": [
       "<Figure size 432x288 with 1 Axes>"
      ]
     },
     "metadata": {
      "needs_background": "light"
     },
     "output_type": "display_data"
    }
   ],
   "source": [
    "decompose.resid.plot()\n",
    "plt.show()"
   ]
  },
  {
   "cell_type": "code",
   "execution_count": 12,
   "metadata": {},
   "outputs": [],
   "source": [
    "trend = decompose.trend\n",
    "seasonal = decompose.seasonal\n",
    "residual = decompose.resid\n",
    "actual = decompose.observed"
   ]
  },
  {
   "cell_type": "code",
   "execution_count": 13,
   "metadata": {},
   "outputs": [],
   "source": [
    "new_trend = trend.to_frame()\n",
    "new_seasonal = seasonal.to_frame()\n",
    "new_residual = residual.to_frame()\n",
    "new_actual = actual.to_frame()"
   ]
  },
  {
   "cell_type": "code",
   "execution_count": 14,
   "metadata": {},
   "outputs": [],
   "source": [
    "# Ambil data untuk evaluasi\n",
    "data_evaluasi = case[413:]\n",
    "\n",
    "#total split data untuk LSTM\n",
    "n_total = 412\n",
    "\n",
    "# Split data ARIMA\n",
    "train_ARIMA = new_trend[:412]\n",
    "test_ARIMA = new_trend[412:]\n",
    "\n",
    "# Parameter untuk LSTM\n",
    "epooch = 100\n",
    "size_batch = 5"
   ]
  },
  {
   "cell_type": "code",
   "execution_count": null,
   "metadata": {},
   "outputs": [],
   "source": [
    "new_seasonal.reset_index(drop=True, inplace=True)\n",
    "seasonal_data = pd.concat([new_date, new_seasonal], axis=1)\n",
    "seasonal_data.set_index('date', inplace=True)\n",
    "\n",
    "new_residual.reset_index(drop=True, inplace=True)\n",
    "residual_data = pd.concat([new_date, new_residual], axis=1)\n",
    "residual_data.set_index('date', inplace=True)\n",
    "\n",
    "data_seasonal = pd.concat([seasonal_data, new_weather, mobility], axis=1)\n",
    "\n",
    "data_residual = pd.concat([residual_data, new_weather, mobility], axis=1)"
   ]
  },
  {
   "cell_type": "code",
   "execution_count": 15,
   "metadata": {},
   "outputs": [
    {
     "name": "stderr",
     "output_type": "stream",
     "text": [
      "C:\\ProgramData\\Anaconda3\\envs\\Forecatsing\\lib\\site-packages\\statsmodels\\tsa\\base\\tsa_model.py:527: ValueWarning: No frequency information was provided, so inferred frequency D will be used.\n",
      "  % freq, ValueWarning)\n",
      "C:\\ProgramData\\Anaconda3\\envs\\Forecatsing\\lib\\site-packages\\statsmodels\\tsa\\base\\tsa_model.py:527: ValueWarning: No frequency information was provided, so inferred frequency D will be used.\n",
      "  % freq, ValueWarning)\n",
      "C:\\ProgramData\\Anaconda3\\envs\\Forecatsing\\lib\\site-packages\\statsmodels\\tsa\\base\\tsa_model.py:527: ValueWarning: No frequency information was provided, so inferred frequency D will be used.\n",
      "  % freq, ValueWarning)\n"
     ]
    }
   ],
   "source": [
    "model = ARIMA(train_ARIMA, order=(2,0,1))\n",
    "model_fit = model.fit()"
   ]
  },
  {
   "cell_type": "code",
   "execution_count": 16,
   "metadata": {},
   "outputs": [
    {
     "name": "stdout",
     "output_type": "stream",
     "text": [
      "                               SARIMAX Results                                \n",
      "==============================================================================\n",
      "Dep. Variable:                  trend   No. Observations:                  412\n",
      "Model:                 ARIMA(2, 0, 1)   Log Likelihood               -2203.667\n",
      "Date:                Wed, 15 Sep 2021   AIC                           4417.334\n",
      "Time:                        09:06:18   BIC                           4437.439\n",
      "Sample:                    03-18-2020   HQIC                          4425.287\n",
      "                         - 05-03-2021                                         \n",
      "Covariance Type:                  opg                                         \n",
      "==============================================================================\n",
      "                 coef    std err          z      P>|z|      [0.025      0.975]\n",
      "------------------------------------------------------------------------------\n",
      "const        997.2644    569.026      1.753      0.080    -118.006    2112.534\n",
      "ar.L1          1.7395      0.034     51.455      0.000       1.673       1.806\n",
      "ar.L2         -0.7420      0.034    -22.001      0.000      -0.808      -0.676\n",
      "ma.L1         -0.4084      0.046     -8.883      0.000      -0.499      -0.318\n",
      "sigma2      2553.7948     90.769     28.135      0.000    2375.890    2731.699\n",
      "===================================================================================\n",
      "Ljung-Box (L1) (Q):                   0.08   Jarque-Bera (JB):               688.84\n",
      "Prob(Q):                              0.77   Prob(JB):                         0.00\n",
      "Heteroskedasticity (H):              60.64   Skew:                            -0.30\n",
      "Prob(H) (two-sided):                  0.00   Kurtosis:                         9.31\n",
      "===================================================================================\n",
      "\n",
      "Warnings:\n",
      "[1] Covariance matrix calculated using the outer product of gradients (complex-step).\n"
     ]
    }
   ],
   "source": [
    "print(model_fit.summary())"
   ]
  },
  {
   "cell_type": "code",
   "execution_count": 17,
   "metadata": {},
   "outputs": [],
   "source": [
    "hasil = model_fit.forecast(10)\n",
    "hasil= hasil.to_frame()"
   ]
  },
  {
   "cell_type": "code",
   "execution_count": 23,
   "metadata": {},
   "outputs": [],
   "source": [
    "# frame as supervised learning\n",
    "reframed_seasonal = series_to_supervised(data_seasonal, 1, 1)\n",
    "reframed_residual = series_to_supervised(data_residual, 1, 1)"
   ]
  },
  {
   "cell_type": "code",
   "execution_count": 24,
   "metadata": {},
   "outputs": [],
   "source": [
    "# drop columns we don't want to predict\n",
    "reframed_seasonal.drop(reframed_seasonal.columns[[12,13,14,15,16,17,18,19,20,21]], axis=1, inplace=True)\n",
    "reframed_residual.drop(reframed_residual.columns[[12,13,14,15,16,17,18,19,20,21]], axis=1, inplace=True)"
   ]
  },
  {
   "cell_type": "code",
   "execution_count": 25,
   "metadata": {},
   "outputs": [],
   "source": [
    "# split into train and test sets\n",
    "values_seasonal= reframed_seasonal.values\n",
    "values_residual= reframed_residual.values\n",
    "\n",
    "train_seasonal = values_seasonal[:n_total, :]\n",
    "test_seasonal = values_seasonal[n_total:, :]\n",
    "\n",
    "train_residual = values_residual[:n_total, :]\n",
    "test_residual = values_residual[n_total:, :]\n",
    "\n",
    "# split into input and outputs\n",
    "seasonal_train_X, seasonal_train_y = train_seasonal[:, :-1], train_seasonal[:, -1]\n",
    "seasonal_test_X, seasonal_test_y = test_seasonal[:, :-1], test_seasonal[:, -1]\n",
    "\n",
    "residual_train_X, residual_train_y = train_residual[:, :-1], train_residual[:, -1]\n",
    "residual_test_X, residual_test_y = test_residual[:, :-1], test_residual[:, -1]\n",
    "\n",
    "# reshape input to be 3D [samples, timesteps, features]\n",
    "seasonal_train_X = seasonal_train_X.reshape((seasonal_train_X.shape[0], 1, seasonal_train_X.shape[1]))\n",
    "seasonal_test_X = seasonal_test_X.reshape((seasonal_test_X.shape[0], 1, seasonal_test_X.shape[1]))\n",
    "\n",
    "residual_train_X = residual_train_X.reshape((residual_train_X.shape[0], 1, residual_train_X.shape[1]))\n",
    "residual_test_X = residual_test_X.reshape((residual_test_X.shape[0], 1, residual_test_X.shape[1]))\n",
    "\n",
    "\n",
    "#print(train_X.shape, train_y.shape, test_X.shape, test_y.shape)\n"
   ]
  },
  {
   "cell_type": "code",
   "execution_count": 26,
   "metadata": {},
   "outputs": [
    {
     "name": "stdout",
     "output_type": "stream",
     "text": [
      "Epoch 1/100\n",
      "83/83 - 2s - loss: 68.7326 - val_loss: 59.9154\n",
      "Epoch 2/100\n",
      "83/83 - 0s - loss: 67.9065 - val_loss: 59.1308\n",
      "Epoch 3/100\n",
      "83/83 - 0s - loss: 67.2562 - val_loss: 58.4095\n",
      "Epoch 4/100\n",
      "83/83 - 0s - loss: 66.7136 - val_loss: 57.8320\n",
      "Epoch 5/100\n",
      "83/83 - 0s - loss: 66.0198 - val_loss: 57.1419\n",
      "Epoch 6/100\n",
      "83/83 - 0s - loss: 65.4139 - val_loss: 56.5280\n",
      "Epoch 7/100\n",
      "83/83 - 0s - loss: 64.7627 - val_loss: 55.8406\n",
      "Epoch 8/100\n",
      "83/83 - 0s - loss: 64.0689 - val_loss: 55.1525\n",
      "Epoch 9/100\n",
      "83/83 - 0s - loss: 63.3688 - val_loss: 54.6407\n",
      "Epoch 10/100\n",
      "83/83 - 0s - loss: 62.5896 - val_loss: 54.0108\n",
      "Epoch 11/100\n",
      "83/83 - 0s - loss: 61.9787 - val_loss: 53.5326\n",
      "Epoch 12/100\n",
      "83/83 - 0s - loss: 61.1628 - val_loss: 52.6819\n",
      "Epoch 13/100\n",
      "83/83 - 0s - loss: 60.4543 - val_loss: 51.9441\n",
      "Epoch 14/100\n",
      "83/83 - 0s - loss: 59.7726 - val_loss: 51.4370\n",
      "Epoch 15/100\n",
      "83/83 - 0s - loss: 58.9808 - val_loss: 50.9020\n",
      "Epoch 16/100\n",
      "83/83 - 0s - loss: 58.2357 - val_loss: 50.2347\n",
      "Epoch 17/100\n",
      "83/83 - 0s - loss: 57.4453 - val_loss: 49.4772\n",
      "Epoch 18/100\n",
      "83/83 - 0s - loss: 56.5587 - val_loss: 48.6724\n",
      "Epoch 19/100\n",
      "83/83 - 0s - loss: 55.7197 - val_loss: 48.2286\n",
      "Epoch 20/100\n",
      "83/83 - 0s - loss: 54.9242 - val_loss: 47.3448\n",
      "Epoch 21/100\n",
      "83/83 - 0s - loss: 54.1166 - val_loss: 47.0715\n",
      "Epoch 22/100\n",
      "83/83 - 0s - loss: 53.2468 - val_loss: 46.4193\n",
      "Epoch 23/100\n",
      "83/83 - 0s - loss: 52.4720 - val_loss: 46.0335\n",
      "Epoch 24/100\n",
      "83/83 - 0s - loss: 51.7330 - val_loss: 45.3926\n",
      "Epoch 25/100\n",
      "83/83 - 0s - loss: 50.9168 - val_loss: 45.1753\n",
      "Epoch 26/100\n",
      "83/83 - 0s - loss: 50.1847 - val_loss: 44.4322\n",
      "Epoch 27/100\n",
      "83/83 - 0s - loss: 49.3839 - val_loss: 44.2774\n",
      "Epoch 28/100\n",
      "83/83 - 0s - loss: 48.9184 - val_loss: 43.0600\n",
      "Epoch 29/100\n",
      "83/83 - 0s - loss: 47.8401 - val_loss: 42.8614\n",
      "Epoch 30/100\n",
      "83/83 - 0s - loss: 47.4023 - val_loss: 42.3164\n",
      "Epoch 31/100\n",
      "83/83 - 0s - loss: 46.3228 - val_loss: 41.6402\n",
      "Epoch 32/100\n",
      "83/83 - 0s - loss: 45.8818 - val_loss: 41.2974\n",
      "Epoch 33/100\n",
      "83/83 - 0s - loss: 44.9085 - val_loss: 40.8868\n",
      "Epoch 34/100\n",
      "83/83 - 0s - loss: 44.6188 - val_loss: 40.7361\n",
      "Epoch 35/100\n",
      "83/83 - 0s - loss: 44.3177 - val_loss: 40.9805\n",
      "Epoch 36/100\n",
      "83/83 - 0s - loss: 44.2669 - val_loss: 39.9344\n",
      "Epoch 37/100\n",
      "83/83 - 0s - loss: 43.6078 - val_loss: 40.1296\n",
      "Epoch 38/100\n",
      "83/83 - 0s - loss: 43.4488 - val_loss: 39.7823\n",
      "Epoch 39/100\n",
      "83/83 - 0s - loss: 43.4112 - val_loss: 39.7647\n",
      "Epoch 40/100\n",
      "83/83 - 0s - loss: 42.6312 - val_loss: 39.9945\n",
      "Epoch 41/100\n",
      "83/83 - 0s - loss: 42.6517 - val_loss: 40.4555\n",
      "Epoch 42/100\n",
      "83/83 - 0s - loss: 41.8627 - val_loss: 40.3655\n",
      "Epoch 43/100\n",
      "83/83 - 0s - loss: 41.9335 - val_loss: 40.2285\n",
      "Epoch 44/100\n",
      "83/83 - 0s - loss: 41.0821 - val_loss: 39.9686\n",
      "Epoch 45/100\n",
      "83/83 - 0s - loss: 40.7121 - val_loss: 39.9766\n",
      "Epoch 46/100\n",
      "83/83 - 0s - loss: 40.5235 - val_loss: 40.0095\n",
      "Epoch 47/100\n",
      "83/83 - 0s - loss: 40.0944 - val_loss: 39.9985\n",
      "Epoch 48/100\n",
      "83/83 - 0s - loss: 39.8087 - val_loss: 40.0267\n",
      "Epoch 49/100\n",
      "83/83 - 0s - loss: 39.3342 - val_loss: 40.0184\n",
      "Epoch 50/100\n",
      "83/83 - 0s - loss: 38.9914 - val_loss: 40.0194\n",
      "Epoch 51/100\n",
      "83/83 - 0s - loss: 38.6140 - val_loss: 40.0202\n",
      "Epoch 52/100\n",
      "83/83 - 0s - loss: 38.1581 - val_loss: 39.6390\n",
      "Epoch 53/100\n",
      "83/83 - 0s - loss: 37.7855 - val_loss: 39.6084\n",
      "Epoch 54/100\n",
      "83/83 - 0s - loss: 37.1580 - val_loss: 39.4261\n",
      "Epoch 55/100\n",
      "83/83 - 0s - loss: 37.0596 - val_loss: 39.4879\n",
      "Epoch 56/100\n",
      "83/83 - 0s - loss: 36.7779 - val_loss: 39.5987\n",
      "Epoch 57/100\n",
      "83/83 - 0s - loss: 36.4997 - val_loss: 39.5479\n",
      "Epoch 58/100\n",
      "83/83 - 0s - loss: 36.1466 - val_loss: 39.1928\n",
      "Epoch 59/100\n",
      "83/83 - 0s - loss: 35.8264 - val_loss: 39.9034\n",
      "Epoch 60/100\n",
      "83/83 - 0s - loss: 35.5242 - val_loss: 39.6456\n",
      "Epoch 61/100\n",
      "83/83 - 0s - loss: 35.1550 - val_loss: 39.5950\n",
      "Epoch 62/100\n",
      "83/83 - 0s - loss: 34.9126 - val_loss: 39.6448\n",
      "Epoch 63/100\n",
      "83/83 - 0s - loss: 34.6066 - val_loss: 39.6745\n",
      "Epoch 64/100\n",
      "83/83 - 0s - loss: 34.2651 - val_loss: 39.5491\n",
      "Epoch 65/100\n",
      "83/83 - 0s - loss: 33.9940 - val_loss: 39.6475\n",
      "Epoch 66/100\n",
      "83/83 - 0s - loss: 33.7708 - val_loss: 39.3032\n",
      "Epoch 67/100\n",
      "83/83 - 0s - loss: 33.4167 - val_loss: 39.4105\n",
      "Epoch 68/100\n",
      "83/83 - 0s - loss: 33.2282 - val_loss: 39.4286\n",
      "Epoch 69/100\n",
      "83/83 - 0s - loss: 33.0341 - val_loss: 39.2946\n",
      "Epoch 70/100\n",
      "83/83 - 0s - loss: 32.8741 - val_loss: 38.6490\n",
      "Epoch 71/100\n",
      "83/83 - 0s - loss: 32.6027 - val_loss: 38.7653\n",
      "Epoch 72/100\n",
      "83/83 - 0s - loss: 32.6376 - val_loss: 38.6349\n",
      "Epoch 73/100\n",
      "83/83 - 0s - loss: 32.3898 - val_loss: 38.5235\n",
      "Epoch 74/100\n",
      "83/83 - 0s - loss: 32.2813 - val_loss: 38.6846\n",
      "Epoch 75/100\n",
      "83/83 - 0s - loss: 32.3428 - val_loss: 38.6232\n",
      "Epoch 76/100\n",
      "83/83 - 0s - loss: 32.4221 - val_loss: 38.8910\n",
      "Epoch 77/100\n",
      "83/83 - 0s - loss: 31.5823 - val_loss: 38.4432\n",
      "Epoch 78/100\n",
      "83/83 - 0s - loss: 31.6971 - val_loss: 38.4837\n",
      "Epoch 79/100\n",
      "83/83 - 0s - loss: 31.5401 - val_loss: 38.3497\n",
      "Epoch 80/100\n",
      "83/83 - 0s - loss: 31.3065 - val_loss: 38.3727\n",
      "Epoch 81/100\n",
      "83/83 - 0s - loss: 31.1453 - val_loss: 38.1791\n",
      "Epoch 82/100\n",
      "83/83 - 0s - loss: 31.1273 - val_loss: 37.9820\n",
      "Epoch 83/100\n",
      "83/83 - 0s - loss: 30.8680 - val_loss: 38.1243\n",
      "Epoch 84/100\n",
      "83/83 - 0s - loss: 30.8350 - val_loss: 38.1298\n",
      "Epoch 85/100\n",
      "83/83 - 0s - loss: 30.6416 - val_loss: 38.0035\n",
      "Epoch 86/100\n",
      "83/83 - 0s - loss: 30.5900 - val_loss: 38.1267\n",
      "Epoch 87/100\n",
      "83/83 - 0s - loss: 30.4294 - val_loss: 38.0611\n",
      "Epoch 88/100\n",
      "83/83 - 0s - loss: 30.4561 - val_loss: 38.2847\n",
      "Epoch 89/100\n",
      "83/83 - 0s - loss: 30.2576 - val_loss: 38.1513\n",
      "Epoch 90/100\n",
      "83/83 - 0s - loss: 30.1231 - val_loss: 38.4450\n",
      "Epoch 91/100\n",
      "83/83 - 0s - loss: 29.9883 - val_loss: 38.3120\n",
      "Epoch 92/100\n",
      "83/83 - 0s - loss: 30.0452 - val_loss: 38.3889\n",
      "Epoch 93/100\n",
      "83/83 - 0s - loss: 29.8940 - val_loss: 38.5049\n",
      "Epoch 94/100\n",
      "83/83 - 0s - loss: 29.8813 - val_loss: 38.8601\n",
      "Epoch 95/100\n",
      "83/83 - 0s - loss: 29.8774 - val_loss: 38.8753\n",
      "Epoch 96/100\n",
      "83/83 - 0s - loss: 29.6862 - val_loss: 39.0606\n",
      "Epoch 97/100\n",
      "83/83 - 0s - loss: 29.7179 - val_loss: 39.2118\n",
      "Epoch 98/100\n",
      "83/83 - 0s - loss: 29.6990 - val_loss: 38.5732\n",
      "Epoch 99/100\n",
      "83/83 - 0s - loss: 29.5963 - val_loss: 38.7406\n",
      "Epoch 100/100\n",
      "83/83 - 0s - loss: 29.5642 - val_loss: 39.2910\n"
     ]
    },
    {
     "data": {
      "image/png": "[encoded data removed]",
      "text/plain": [
       "<Figure size 432x288 with 1 Axes>"
      ]
     },
     "metadata": {
      "needs_background": "light"
     },
     "output_type": "display_data"
    }
   ],
   "source": [
    "# LSTM model untuk seasonal\n",
    "model1 = Sequential()\n",
    "model1.add(LSTM(50, input_shape=(seasonal_train_X.shape[1], seasonal_train_X.shape[2])))\n",
    "model1.add(Dense(1))\n",
    "model1.compile(loss='mae', optimizer='adam')\n",
    "# fit network\n",
    "history = model1.fit(seasonal_train_X, seasonal_train_y, epochs=epooch, batch_size=size_batch, validation_data=(seasonal_test_X, seasonal_test_y), verbose=2, shuffle=False)\n",
    "# plot history\n",
    "plt.plot(history.history['loss'], label='train')\n",
    "plt.plot(history.history['val_loss'], label='test')\n",
    "plt.legend()\n",
    "plt.show()"
   ]
  },
  {
   "cell_type": "code",
   "execution_count": 27,
   "metadata": {},
   "outputs": [
    {
     "data": {
      "text/plain": [
       "array([[-37.59412 ],\n",
       "       [-37.908333],\n",
       "       [ 46.0561  ],\n",
       "       [ 69.09104 ],\n",
       "       [ 82.8493  ],\n",
       "       [ 68.07626 ],\n",
       "       [-48.19839 ],\n",
       "       [-37.354965],\n",
       "       [-43.140175],\n",
       "       [ 45.152206]], dtype=float32)"
      ]
     },
     "execution_count": 27,
     "metadata": {},
     "output_type": "execute_result"
    }
   ],
   "source": [
    "# make a prediction\n",
    "yhat_seasonality = model1.predict(seasonal_test_X)\n",
    "yhat_seasonality"
   ]
  },
  {
   "cell_type": "code",
   "execution_count": 28,
   "metadata": {},
   "outputs": [
    {
     "name": "stdout",
     "output_type": "stream",
     "text": [
      "Epoch 1/100\n",
      "83/83 - 1s - loss: 151.7695 - val_loss: 64.9553\n",
      "Epoch 2/100\n",
      "83/83 - 0s - loss: 151.5839 - val_loss: 65.1793\n",
      "Epoch 3/100\n",
      "83/83 - 0s - loss: 151.5067 - val_loss: 65.2269\n",
      "Epoch 4/100\n",
      "83/83 - 0s - loss: 151.4309 - val_loss: 65.3899\n",
      "Epoch 5/100\n",
      "83/83 - 0s - loss: 151.3578 - val_loss: 65.4248\n",
      "Epoch 6/100\n",
      "83/83 - 0s - loss: 151.3063 - val_loss: 65.5167\n",
      "Epoch 7/100\n",
      "83/83 - 0s - loss: 151.2496 - val_loss: 65.6001\n",
      "Epoch 8/100\n",
      "83/83 - 0s - loss: 151.1811 - val_loss: 65.6742\n",
      "Epoch 9/100\n",
      "83/83 - 0s - loss: 151.1035 - val_loss: 65.7983\n",
      "Epoch 10/100\n",
      "83/83 - 0s - loss: 151.0728 - val_loss: 65.8477\n",
      "Epoch 11/100\n",
      "83/83 - 0s - loss: 151.0185 - val_loss: 66.0435\n",
      "Epoch 12/100\n",
      "83/83 - 0s - loss: 150.9762 - val_loss: 65.9719\n",
      "Epoch 13/100\n",
      "83/83 - 0s - loss: 150.9384 - val_loss: 66.2610\n",
      "Epoch 14/100\n",
      "83/83 - 0s - loss: 150.8935 - val_loss: 66.3246\n",
      "Epoch 15/100\n",
      "83/83 - 0s - loss: 150.8450 - val_loss: 66.5196\n",
      "Epoch 16/100\n",
      "83/83 - 0s - loss: 150.8140 - val_loss: 66.3388\n",
      "Epoch 17/100\n",
      "83/83 - 0s - loss: 150.7602 - val_loss: 66.5460\n",
      "Epoch 18/100\n",
      "83/83 - 0s - loss: 150.7206 - val_loss: 66.6396\n",
      "Epoch 19/100\n",
      "83/83 - 0s - loss: 150.6912 - val_loss: 66.6446\n",
      "Epoch 20/100\n",
      "83/83 - 0s - loss: 150.6204 - val_loss: 66.7304\n",
      "Epoch 21/100\n",
      "83/83 - 0s - loss: 150.5987 - val_loss: 66.8482\n",
      "Epoch 22/100\n",
      "83/83 - 0s - loss: 150.5422 - val_loss: 66.8289\n",
      "Epoch 23/100\n",
      "83/83 - 0s - loss: 150.4933 - val_loss: 66.7927\n",
      "Epoch 24/100\n",
      "83/83 - 0s - loss: 150.4549 - val_loss: 66.8803\n",
      "Epoch 25/100\n",
      "83/83 - 0s - loss: 150.4044 - val_loss: 67.0272\n",
      "Epoch 26/100\n",
      "83/83 - 0s - loss: 150.3506 - val_loss: 67.1141\n",
      "Epoch 27/100\n",
      "83/83 - 0s - loss: 150.3280 - val_loss: 67.1971\n",
      "Epoch 28/100\n",
      "83/83 - 0s - loss: 150.2674 - val_loss: 67.2370\n",
      "Epoch 29/100\n",
      "83/83 - 0s - loss: 150.2425 - val_loss: 67.0553\n",
      "Epoch 30/100\n",
      "83/83 - 0s - loss: 150.2126 - val_loss: 67.2856\n",
      "Epoch 31/100\n",
      "83/83 - 0s - loss: 150.1594 - val_loss: 67.3718\n",
      "Epoch 32/100\n",
      "83/83 - 0s - loss: 150.0966 - val_loss: 67.3117\n",
      "Epoch 33/100\n",
      "83/83 - 0s - loss: 150.0467 - val_loss: 67.5265\n",
      "Epoch 34/100\n",
      "83/83 - 0s - loss: 150.0108 - val_loss: 67.4406\n",
      "Epoch 35/100\n",
      "83/83 - 0s - loss: 149.9414 - val_loss: 67.5910\n",
      "Epoch 36/100\n",
      "83/83 - 0s - loss: 149.9381 - val_loss: 67.5634\n",
      "Epoch 37/100\n",
      "83/83 - 0s - loss: 149.8687 - val_loss: 67.5953\n",
      "Epoch 38/100\n",
      "83/83 - 0s - loss: 149.8389 - val_loss: 67.6268\n",
      "Epoch 39/100\n",
      "83/83 - 0s - loss: 149.8056 - val_loss: 67.7774\n",
      "Epoch 40/100\n",
      "83/83 - 0s - loss: 149.8049 - val_loss: 67.6575\n",
      "Epoch 41/100\n",
      "83/83 - 0s - loss: 149.7769 - val_loss: 67.5864\n",
      "Epoch 42/100\n",
      "83/83 - 0s - loss: 149.7108 - val_loss: 67.8799\n",
      "Epoch 43/100\n",
      "83/83 - 0s - loss: 149.6886 - val_loss: 67.5684\n",
      "Epoch 44/100\n",
      "83/83 - 0s - loss: 149.5923 - val_loss: 67.7301\n",
      "Epoch 45/100\n",
      "83/83 - 0s - loss: 149.5348 - val_loss: 67.5995\n",
      "Epoch 46/100\n",
      "83/83 - 0s - loss: 149.4944 - val_loss: 67.6033\n",
      "Epoch 47/100\n",
      "83/83 - 0s - loss: 149.4372 - val_loss: 67.7609\n",
      "Epoch 48/100\n",
      "83/83 - 0s - loss: 149.3790 - val_loss: 67.5262\n",
      "Epoch 49/100\n",
      "83/83 - 0s - loss: 149.3565 - val_loss: 67.7747\n",
      "Epoch 50/100\n",
      "83/83 - 0s - loss: 149.3486 - val_loss: 67.6546\n",
      "Epoch 51/100\n",
      "83/83 - 0s - loss: 149.2508 - val_loss: 67.7958\n",
      "Epoch 52/100\n",
      "83/83 - 0s - loss: 149.2126 - val_loss: 67.6503\n",
      "Epoch 53/100\n",
      "83/83 - 0s - loss: 149.1719 - val_loss: 67.7050\n",
      "Epoch 54/100\n",
      "83/83 - 0s - loss: 149.1217 - val_loss: 67.9844\n",
      "Epoch 55/100\n",
      "83/83 - 0s - loss: 149.1140 - val_loss: 68.0497\n",
      "Epoch 56/100\n",
      "83/83 - 0s - loss: 149.0694 - val_loss: 68.0155\n",
      "Epoch 57/100\n",
      "83/83 - 0s - loss: 149.0169 - val_loss: 67.8905\n",
      "Epoch 58/100\n",
      "83/83 - 0s - loss: 148.9244 - val_loss: 67.9268\n",
      "Epoch 59/100\n",
      "83/83 - 0s - loss: 148.8793 - val_loss: 68.2041\n",
      "Epoch 60/100\n",
      "83/83 - 0s - loss: 148.8499 - val_loss: 68.0369\n",
      "Epoch 61/100\n",
      "83/83 - 0s - loss: 148.7876 - val_loss: 68.2590\n",
      "Epoch 62/100\n",
      "83/83 - 0s - loss: 148.7312 - val_loss: 68.1449\n",
      "Epoch 63/100\n",
      "83/83 - 0s - loss: 148.7043 - val_loss: 68.1891\n",
      "Epoch 64/100\n",
      "83/83 - 0s - loss: 148.6509 - val_loss: 68.1300\n",
      "Epoch 65/100\n",
      "83/83 - 0s - loss: 148.6536 - val_loss: 68.2641\n",
      "Epoch 66/100\n",
      "83/83 - 0s - loss: 148.5815 - val_loss: 68.0270\n",
      "Epoch 67/100\n",
      "83/83 - 0s - loss: 148.5648 - val_loss: 68.3754\n",
      "Epoch 68/100\n",
      "83/83 - 0s - loss: 148.5018 - val_loss: 68.2449\n",
      "Epoch 69/100\n",
      "83/83 - 0s - loss: 148.4474 - val_loss: 68.2670\n",
      "Epoch 70/100\n",
      "83/83 - 0s - loss: 148.4360 - val_loss: 68.2560\n",
      "Epoch 71/100\n",
      "83/83 - 0s - loss: 148.3807 - val_loss: 68.3965\n",
      "Epoch 72/100\n",
      "83/83 - 0s - loss: 148.3453 - val_loss: 68.4006\n",
      "Epoch 73/100\n",
      "83/83 - 0s - loss: 148.3065 - val_loss: 68.7551\n",
      "Epoch 74/100\n",
      "83/83 - 0s - loss: 148.2503 - val_loss: 68.5965\n",
      "Epoch 75/100\n",
      "83/83 - 0s - loss: 148.2214 - val_loss: 68.6577\n",
      "Epoch 76/100\n",
      "83/83 - 0s - loss: 148.1878 - val_loss: 68.6696\n",
      "Epoch 77/100\n",
      "83/83 - 0s - loss: 148.1515 - val_loss: 68.5296\n",
      "Epoch 78/100\n",
      "83/83 - 0s - loss: 148.1414 - val_loss: 68.8994\n",
      "Epoch 79/100\n",
      "83/83 - 0s - loss: 148.0977 - val_loss: 68.8660\n",
      "Epoch 80/100\n",
      "83/83 - 0s - loss: 148.0590 - val_loss: 68.7827\n",
      "Epoch 81/100\n",
      "83/83 - 0s - loss: 148.0100 - val_loss: 68.9541\n",
      "Epoch 82/100\n",
      "83/83 - 0s - loss: 147.9769 - val_loss: 68.9082\n",
      "Epoch 83/100\n",
      "83/83 - 0s - loss: 147.9355 - val_loss: 68.9416\n",
      "Epoch 84/100\n",
      "83/83 - 0s - loss: 147.9107 - val_loss: 69.0163\n",
      "Epoch 85/100\n",
      "83/83 - 0s - loss: 147.8823 - val_loss: 69.1042\n",
      "Epoch 86/100\n",
      "83/83 - 0s - loss: 147.8434 - val_loss: 69.0155\n",
      "Epoch 87/100\n",
      "83/83 - 0s - loss: 147.7900 - val_loss: 68.4848\n",
      "Epoch 88/100\n",
      "83/83 - 0s - loss: 147.7602 - val_loss: 68.8918\n",
      "Epoch 89/100\n",
      "83/83 - 0s - loss: 147.7181 - val_loss: 68.8774\n",
      "Epoch 90/100\n",
      "83/83 - 0s - loss: 147.6910 - val_loss: 68.6552\n",
      "Epoch 91/100\n",
      "83/83 - 0s - loss: 147.6854 - val_loss: 68.5647\n",
      "Epoch 92/100\n",
      "83/83 - 0s - loss: 147.6351 - val_loss: 68.7090\n",
      "Epoch 93/100\n",
      "83/83 - 0s - loss: 147.5960 - val_loss: 68.9963\n",
      "Epoch 94/100\n",
      "83/83 - 0s - loss: 147.5593 - val_loss: 68.7612\n",
      "Epoch 95/100\n",
      "83/83 - 0s - loss: 147.5419 - val_loss: 69.0288\n",
      "Epoch 96/100\n",
      "83/83 - 0s - loss: 147.4947 - val_loss: 68.9102\n",
      "Epoch 97/100\n",
      "83/83 - 0s - loss: 147.4643 - val_loss: 68.9083\n",
      "Epoch 98/100\n",
      "83/83 - 0s - loss: 147.4165 - val_loss: 68.7777\n",
      "Epoch 99/100\n",
      "83/83 - 0s - loss: 147.3820 - val_loss: 68.9172\n",
      "Epoch 100/100\n",
      "83/83 - 0s - loss: 147.3613 - val_loss: 68.9043\n"
     ]
    },
    {
     "data": {
      "image/png": "[encoded data removed]",
      "text/plain": [
       "<Figure size 432x288 with 1 Axes>"
      ]
     },
     "metadata": {
      "needs_background": "light"
     },
     "output_type": "display_data"
    }
   ],
   "source": [
    "# LSTM model untuk residual\n",
    "model2 = Sequential()\n",
    "model2.add(LSTM(50, input_shape=(residual_train_X.shape[1], residual_train_X.shape[2])))\n",
    "model2.add(Dense(1))\n",
    "model2.compile(loss='mae', optimizer='adam')\n",
    "# fit network\n",
    "history = model2.fit(residual_train_X, residual_train_y, epochs=epooch, batch_size=size_batch, validation_data=(residual_test_X, residual_test_y), verbose=2, shuffle=False)\n",
    "# plot history\n",
    "plt.plot(history.history['loss'], label='train')\n",
    "plt.plot(history.history['val_loss'], label='test')\n",
    "plt.legend()\n",
    "plt.show()"
   ]
  },
  {
   "cell_type": "code",
   "execution_count": 29,
   "metadata": {
    "scrolled": true
   },
   "outputs": [
    {
     "data": {
      "text/plain": [
       "array([[ -2.146333 ],\n",
       "       [ 14.249606 ],\n",
       "       [ 15.456046 ],\n",
       "       [-10.057438 ],\n",
       "       [-22.803396 ],\n",
       "       [  5.3421283],\n",
       "       [ 12.0908375],\n",
       "       [-19.098978 ],\n",
       "       [ -3.436472 ],\n",
       "       [ -2.911802 ]], dtype=float32)"
      ]
     },
     "execution_count": 29,
     "metadata": {},
     "output_type": "execute_result"
    }
   ],
   "source": [
    "# make a prediction\n",
    "yhat_residual = model2.predict(residual_test_X)\n",
    "yhat_residual"
   ]
  },
  {
   "cell_type": "code",
   "execution_count": 30,
   "metadata": {},
   "outputs": [
    {
     "data": {
      "text/html": [
       "<div>\n",
       "<style scoped>\n",
       "    .dataframe tbody tr th:only-of-type {\n",
       "        vertical-align: middle;\n",
       "    }\n",
       "\n",
       "    .dataframe tbody tr th {\n",
       "        vertical-align: top;\n",
       "    }\n",
       "\n",
       "    .dataframe thead th {\n",
       "        text-align: right;\n",
       "    }\n",
       "</style>\n",
       "<table border=\"1\" class=\"dataframe\">\n",
       "  <thead>\n",
       "    <tr style=\"text-align: right;\">\n",
       "      <th></th>\n",
       "      <th>case</th>\n",
       "    </tr>\n",
       "    <tr>\n",
       "      <th>date</th>\n",
       "      <th></th>\n",
       "    </tr>\n",
       "  </thead>\n",
       "  <tbody>\n",
       "    <tr>\n",
       "      <th>2021-05-05</th>\n",
       "      <td>845</td>\n",
       "    </tr>\n",
       "    <tr>\n",
       "      <th>2021-05-06</th>\n",
       "      <td>905</td>\n",
       "    </tr>\n",
       "    <tr>\n",
       "      <th>2021-05-07</th>\n",
       "      <td>783</td>\n",
       "    </tr>\n",
       "    <tr>\n",
       "      <th>2021-05-08</th>\n",
       "      <td>732</td>\n",
       "    </tr>\n",
       "    <tr>\n",
       "      <th>2021-05-09</th>\n",
       "      <td>809</td>\n",
       "    </tr>\n",
       "    <tr>\n",
       "      <th>2021-05-10</th>\n",
       "      <td>694</td>\n",
       "    </tr>\n",
       "    <tr>\n",
       "      <th>2021-05-11</th>\n",
       "      <td>406</td>\n",
       "    </tr>\n",
       "    <tr>\n",
       "      <th>2021-05-12</th>\n",
       "      <td>656</td>\n",
       "    </tr>\n",
       "    <tr>\n",
       "      <th>2021-05-13</th>\n",
       "      <td>785</td>\n",
       "    </tr>\n",
       "    <tr>\n",
       "      <th>2021-05-14</th>\n",
       "      <td>632</td>\n",
       "    </tr>\n",
       "  </tbody>\n",
       "</table>\n",
       "</div>"
      ],
      "text/plain": [
       "            case\n",
       "date            \n",
       "2021-05-05   845\n",
       "2021-05-06   905\n",
       "2021-05-07   783\n",
       "2021-05-08   732\n",
       "2021-05-09   809\n",
       "2021-05-10   694\n",
       "2021-05-11   406\n",
       "2021-05-12   656\n",
       "2021-05-13   785\n",
       "2021-05-14   632"
      ]
     },
     "execution_count": 30,
     "metadata": {},
     "output_type": "execute_result"
    }
   ],
   "source": [
    "data_evaluasi"
   ]
  },
  {
   "cell_type": "code",
   "execution_count": 57,
   "metadata": {},
   "outputs": [
    {
     "data": {
      "text/plain": [
       "[745.9602149126407,\n",
       " 763.4155237454311,\n",
       " 850.1378006391263,\n",
       " 849.3386791029054,\n",
       " 852.1211290497056,\n",
       " 867.326614984023,\n",
       " 759.6756508241409,\n",
       " 741.23064808775,\n",
       " 753.0241101509366,\n",
       " 843.7634406433174]"
      ]
     },
     "execution_count": 57,
     "metadata": {},
     "output_type": "execute_result"
    }
   ],
   "source": [
    "residual_list = ndarray.tolist(yhat_residual)\n",
    "seasonal_list = ndarray.tolist(yhat_seasonality)\n",
    "ARIMA_list = hasil['predicted_mean'].tolist()\n",
    "list_evaluasi = data_evaluasi['case'].tolist()\n",
    "length = len(list_evaluasi)\n",
    "hasil_final = list()\n",
    "\n",
    "for i in range(length):\n",
    "    residual_single = residual_list[i]\n",
    "    seasonal_single = seasonal_list[i]\n",
    "    residual_single = residual_single[0]\n",
    "    seasonal_single = seasonal_single[0]\n",
    "    tambah = residual_single+seasonal_single+ARIMA_list[i]\n",
    "    hasil_final.append(tambah)\n",
    "    #print('hasil tambah',tambah)\n",
    "\n",
    "hasil_final"
   ]
  },
  {
   "cell_type": "code",
   "execution_count": null,
   "metadata": {},
   "outputs": [],
   "source": []
  },
  {
   "cell_type": "code",
   "execution_count": null,
   "metadata": {},
   "outputs": [],
   "source": []
  }
 ],
 "metadata": {
  "kernelspec": {
   "display_name": "Python 3",
   "language": "python",
   "name": "python3"
  },
  "language_info": {
   "codemirror_mode": {
    "name": "ipython",
    "version": 3
   },
   "file_extension": ".py",
   "mimetype": "text/x-python",
   "name": "python",
   "nbconvert_exporter": "python",
   "pygments_lexer": "ipython3",
   "version": "3.7.9"
  }
 },
 "nbformat": 4,
 "nbformat_minor": 4
}
