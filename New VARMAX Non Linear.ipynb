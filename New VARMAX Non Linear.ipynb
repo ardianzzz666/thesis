{
 "cells": [
  {
   "cell_type": "code",
   "execution_count": 1,
   "metadata": {},
   "outputs": [],
   "source": [
    "import warnings\n",
    "warnings.filterwarnings('ignore')\n",
    "\n",
    "import os\n",
    "import random\n",
    "import numpy as np\n",
    "from numpy import mean\n",
    "from numpy import std\n",
    "import pandas as pd\n",
    "from pandas import datetime\n",
    "from pandas import DataFrame\n",
    "import matplotlib.pyplot as plt\n",
    "from pandas import Series\n",
    "\n",
    "from statsmodels.tsa.statespace.varmax import VARMAX\n",
    "from sklearn.metrics import mean_squared_error\n",
    "from sklearn.metrics import mean_absolute_error\n",
    "\n",
    "\n",
    "from statsmodels.tsa.stattools import adfuller\n",
    "from statsmodels.tools.eval_measures import rmse, aic\n",
    "from sklearn.model_selection import train_test_split"
   ]
  },
  {
   "cell_type": "code",
   "execution_count": 2,
   "metadata": {},
   "outputs": [],
   "source": [
    "# dataset united kingdom\n",
    "#case = pd.read_csv('UK/case.csv')\n",
    "#mobility = pd.read_csv('UK/mobility.csv')\n",
    "#case.set_index('date', inplace=True)\n",
    "#mobility.set_index('date', inplace=True)\n",
    "\n",
    "# dataset indonesia (jakarta)\n",
    "case = pd.read_csv('data/new/case_maret_july.csv')\n",
    "mobility = pd.read_csv('data/new/mobility_maret_july.csv')\n",
    "weather = pd.read_csv('data/new/weather_maret_july.csv')\n",
    "case.set_index('date', inplace=True)\n",
    "#weather.set_index('date', inplace=True)\n",
    "mobility.set_index('date', inplace=True)"
   ]
  },
  {
   "cell_type": "code",
   "execution_count": 3,
   "metadata": {},
   "outputs": [],
   "source": [
    "new_weather = weather.interpolate(method='spline', order=2)\n",
    "new_weather.head()\n",
    "\n",
    "new_weather.set_index('date', inplace=True)"
   ]
  },
  {
   "cell_type": "code",
   "execution_count": 4,
   "metadata": {},
   "outputs": [
    {
     "data": {
      "text/html": [
       "<div>\n",
       "<style scoped>\n",
       "    .dataframe tbody tr th:only-of-type {\n",
       "        vertical-align: middle;\n",
       "    }\n",
       "\n",
       "    .dataframe tbody tr th {\n",
       "        vertical-align: top;\n",
       "    }\n",
       "\n",
       "    .dataframe thead th {\n",
       "        text-align: right;\n",
       "    }\n",
       "</style>\n",
       "<table border=\"1\" class=\"dataframe\">\n",
       "  <thead>\n",
       "    <tr style=\"text-align: right;\">\n",
       "      <th></th>\n",
       "      <th>case</th>\n",
       "      <th>rh</th>\n",
       "      <th>avt</th>\n",
       "      <th>mxt</th>\n",
       "      <th>mnt</th>\n",
       "    </tr>\n",
       "    <tr>\n",
       "      <th>date</th>\n",
       "      <th></th>\n",
       "      <th></th>\n",
       "      <th></th>\n",
       "      <th></th>\n",
       "      <th></th>\n",
       "    </tr>\n",
       "  </thead>\n",
       "  <tbody>\n",
       "    <tr>\n",
       "      <th>2020-03-18</th>\n",
       "      <td>38</td>\n",
       "      <td>86.0</td>\n",
       "      <td>27.6</td>\n",
       "      <td>29.0</td>\n",
       "      <td>25.800000</td>\n",
       "    </tr>\n",
       "    <tr>\n",
       "      <th>2020-03-19</th>\n",
       "      <td>50</td>\n",
       "      <td>83.0</td>\n",
       "      <td>28.1</td>\n",
       "      <td>31.4</td>\n",
       "      <td>25.800000</td>\n",
       "    </tr>\n",
       "    <tr>\n",
       "      <th>2020-03-20</th>\n",
       "      <td>14</td>\n",
       "      <td>82.0</td>\n",
       "      <td>27.4</td>\n",
       "      <td>31.2</td>\n",
       "      <td>25.200000</td>\n",
       "    </tr>\n",
       "    <tr>\n",
       "      <th>2020-03-21</th>\n",
       "      <td>44</td>\n",
       "      <td>81.0</td>\n",
       "      <td>28.1</td>\n",
       "      <td>32.4</td>\n",
       "      <td>26.521978</td>\n",
       "    </tr>\n",
       "    <tr>\n",
       "      <th>2020-03-22</th>\n",
       "      <td>36</td>\n",
       "      <td>84.0</td>\n",
       "      <td>27.2</td>\n",
       "      <td>31.2</td>\n",
       "      <td>25.000000</td>\n",
       "    </tr>\n",
       "  </tbody>\n",
       "</table>\n",
       "</div>"
      ],
      "text/plain": [
       "            case    rh   avt   mxt        mnt\n",
       "date                                         \n",
       "2020-03-18    38  86.0  27.6  29.0  25.800000\n",
       "2020-03-19    50  83.0  28.1  31.4  25.800000\n",
       "2020-03-20    14  82.0  27.4  31.2  25.200000\n",
       "2020-03-21    44  81.0  28.1  32.4  26.521978\n",
       "2020-03-22    36  84.0  27.2  31.2  25.000000"
      ]
     },
     "execution_count": 4,
     "metadata": {},
     "output_type": "execute_result"
    }
   ],
   "source": [
    "data = pd.concat([case, new_weather], axis=1)\n",
    "data.head()"
   ]
  },
  {
   "cell_type": "code",
   "execution_count": 5,
   "metadata": {},
   "outputs": [
    {
     "data": {
      "text/plain": [
       "(423, 5)"
      ]
     },
     "execution_count": 5,
     "metadata": {},
     "output_type": "execute_result"
    }
   ],
   "source": [
    "data.shape"
   ]
  },
  {
   "cell_type": "code",
   "execution_count": 6,
   "metadata": {},
   "outputs": [],
   "source": [
    "train = data[:413]\n",
    "train_exog = mobility[:413]\n",
    "test = data[413:]\n",
    "test_exog = mobility[413:]"
   ]
  },
  {
   "cell_type": "code",
   "execution_count": 7,
   "metadata": {},
   "outputs": [
    {
     "name": "stderr",
     "output_type": "stream",
     "text": [
      "C:\\ProgramData\\Anaconda3\\envs\\Forecatsing\\lib\\site-packages\\statsmodels\\tsa\\statespace\\varmax.py:163: EstimationWarning: Estimation of VARMA(p,q) models is not generically robust, due especially to identification issues.\n",
      "  EstimationWarning)\n",
      "C:\\ProgramData\\Anaconda3\\envs\\Forecatsing\\lib\\site-packages\\statsmodels\\tsa\\base\\tsa_model.py:527: ValueWarning: No frequency information was provided, so inferred frequency D will be used.\n",
      "  % freq, ValueWarning)\n",
      "C:\\ProgramData\\Anaconda3\\envs\\Forecatsing\\lib\\site-packages\\statsmodels\\base\\model.py:568: ConvergenceWarning: Maximum Likelihood optimization failed to converge. Check mle_retvals\n",
      "  ConvergenceWarning)\n"
     ]
    },
    {
     "name": "stdout",
     "output_type": "stream",
     "text": [
      "                                    Statespace Model Results                                   \n",
      "===============================================================================================\n",
      "Dep. Variable:     ['case', 'rh', 'avt', 'mxt', 'mnt']   No. Observations:                  413\n",
      "Model:                                     VARMAX(3,1)   Log Likelihood               -5197.954\n",
      "                                           + intercept   AIC                          10695.907\n",
      "Date:                                 Tue, 24 Aug 2021   BIC                          11299.424\n",
      "Time:                                         12:22:57   HQIC                         10934.605\n",
      "Sample:                                     03-18-2020                                         \n",
      "                                          - 05-04-2021                                         \n",
      "Covariance Type:                                   opg                                         \n",
      "============================================================================================================\n",
      "Ljung-Box (L1) (Q):      2.31, 0.00, 0.01, 0.04, 0.00   Jarque-Bera (JB):   585.84, 3.71, 24.17, 15.23, 7.60\n",
      "Prob(Q):                 0.13, 0.97, 0.90, 0.85, 0.99   Prob(JB):               0.00, 0.16, 0.00, 0.00, 0.02\n",
      "Heteroskedasticity (H): 19.04, 1.16, 0.82, 1.22, 1.06   Skew:                 0.20, 0.13, -0.47, 0.19, -0.27\n",
      "Prob(H) (two-sided):     0.00, 0.40, 0.23, 0.24, 0.74   Kurtosis:               8.82, 3.38, 3.73, 3.86, 3.38\n",
      "                                Results for equation case                                 \n",
      "==========================================================================================\n",
      "                             coef    std err          z      P>|z|      [0.025      0.975]\n",
      "------------------------------------------------------------------------------------------\n",
      "intercept               2801.8800     21.167    132.371      0.000    2760.394    2843.366\n",
      "L1.case                    0.5691      0.546      1.042      0.297      -0.501       1.639\n",
      "L1.rh                     -1.4793     55.487     -0.027      0.979    -110.231     107.272\n",
      "L1.avt                   -44.3499     52.221     -0.849      0.396    -146.701      58.001\n",
      "L1.mxt                    19.1829    128.030      0.150      0.881    -231.752     270.118\n",
      "L1.mnt                   -67.3886     44.488     -1.515      0.130    -154.584      19.807\n",
      "L2.case                    0.1217      0.331      0.367      0.713      -0.527       0.771\n",
      "L2.rh                     -6.1688     42.505     -0.145      0.885     -89.478      77.140\n",
      "L2.avt                    11.6370    127.059      0.092      0.927    -237.394     260.668\n",
      "L2.mxt                    -8.8670     66.392     -0.134      0.894    -138.993     121.259\n",
      "L2.mnt                     5.6939     75.101      0.076      0.940    -141.501     152.889\n",
      "L3.case                    0.1608      0.158      1.017      0.309      -0.149       0.471\n",
      "L3.rh                      1.1052     18.978      0.058      0.954     -36.090      38.301\n",
      "L3.avt                    10.2713    139.577      0.074      0.941    -263.295     283.838\n",
      "L3.mxt                     8.9073     69.363      0.128      0.898    -127.043     144.857\n",
      "L3.mnt                   -12.4624     74.432     -0.167      0.867    -158.346     133.421\n",
      "L1.e(case)                -0.0145      0.558     -0.026      0.979      -1.108       1.079\n",
      "L1.e(rh)                  -1.0646     59.324     -0.018      0.986    -117.338     115.209\n",
      "L1.e(avt)                 -1.8283     62.460     -0.029      0.977    -124.248     120.591\n",
      "L1.e(mxt)                 -3.6853    126.664     -0.029      0.977    -251.942     244.571\n",
      "L1.e(mnt)                  2.5123     51.865      0.048      0.961     -99.141     104.166\n",
      "beta.retail_recreation    -0.5213     18.821     -0.028      0.978     -37.409      36.367\n",
      "beta.grocery_pahrmacy     -8.2988     15.422     -0.538      0.590     -38.525      21.927\n",
      "beta.parks                 1.3096      6.269      0.209      0.835     -10.977      13.596\n",
      "beta.transit_station       4.4638     21.827      0.205      0.838     -38.316      47.243\n",
      "beta.workplace            -6.0202      9.096     -0.662      0.508     -23.849      11.808\n",
      "beta.residential         -18.8177     34.667     -0.543      0.587     -86.765      49.129\n",
      "                                 Results for equation rh                                  \n",
      "==========================================================================================\n",
      "                             coef    std err          z      P>|z|      [0.025      0.975]\n",
      "------------------------------------------------------------------------------------------\n",
      "intercept                 11.0878     64.976      0.171      0.865    -116.263     138.439\n",
      "L1.case                    0.0004      0.005      0.079      0.937      -0.010       0.011\n",
      "L1.rh                      0.6816      0.618      1.103      0.270      -0.530       1.893\n",
      "L1.avt                     0.2137      4.468      0.048      0.962      -8.543       8.971\n",
      "L1.mxt                     0.3063      2.698      0.114      0.910      -4.981       5.594\n",
      "L1.mnt                     0.2792      3.453      0.081      0.936      -6.488       7.046\n",
      "L2.case                    0.0004      0.004      0.108      0.914      -0.007       0.008\n",
      "L2.rh                     -0.1305      0.380     -0.344      0.731      -0.874       0.613\n",
      "L2.avt                     0.2665      3.169      0.084      0.933      -5.945       6.478\n",
      "L2.mxt                    -0.6935      0.520     -1.333      0.183      -1.713       0.326\n",
      "L2.mnt                    -0.0542      0.903     -0.060      0.952      -1.824       1.715\n",
      "L3.case                   -0.0005      0.002     -0.300      0.764      -0.004       0.003\n",
      "L3.rh                      0.1609      0.170      0.946      0.344      -0.172       0.494\n",
      "L3.avt                     0.4269      1.392      0.307      0.759      -2.301       3.154\n",
      "L3.mxt                     0.0655      0.581      0.113      0.910      -1.073       1.204\n",
      "L3.mnt                    -0.3726      0.521     -0.715      0.475      -1.394       0.649\n",
      "L1.e(case)                -0.0001      0.005     -0.027      0.978      -0.011       0.010\n",
      "L1.e(rh)                  -0.0243      0.635     -0.038      0.969      -1.270       1.221\n",
      "L1.e(avt)                 -0.1567      4.573     -0.034      0.973      -9.119       8.806\n",
      "L1.e(mxt)                  0.0188      2.744      0.007      0.995      -5.359       5.396\n",
      "L1.e(mnt)                  0.0802      3.512      0.023      0.982      -6.804       6.964\n",
      "beta.retail_recreation    -0.0608      0.115     -0.528      0.597      -0.287       0.165\n",
      "beta.grocery_pahrmacy     -0.0465      0.101     -0.459      0.646      -0.245       0.152\n",
      "beta.parks                 0.0299      0.039      0.762      0.446      -0.047       0.107\n",
      "beta.transit_station       0.0348      0.177      0.196      0.844      -0.312       0.382\n",
      "beta.workplace            -0.0272      0.069     -0.395      0.692      -0.162       0.108\n",
      "beta.residential          -0.1040      0.258     -0.403      0.687      -0.609       0.401\n",
      "                                 Results for equation avt                                 \n",
      "==========================================================================================\n",
      "                             coef    std err          z      P>|z|      [0.025      0.975]\n",
      "------------------------------------------------------------------------------------------\n",
      "intercept                 10.5034     10.184      1.031      0.302      -9.457      30.464\n",
      "L1.case                -7.018e-06      0.001     -0.008      0.994      -0.002       0.002\n",
      "L1.rh                     -0.0319      0.094     -0.338      0.736      -0.217       0.153\n",
      "L1.avt                     0.5203      0.662      0.785      0.432      -0.778       1.819\n",
      "L1.mxt                    -0.0552      0.417     -0.132      0.895      -0.872       0.761\n",
      "L1.mnt                    -0.1271      0.597     -0.213      0.831      -1.297       1.043\n",
      "L2.case                   -0.0001      0.001     -0.227      0.820      -0.001       0.001\n",
      "L2.rh                      0.0326      0.057      0.572      0.567      -0.079       0.144\n",
      "L2.avt                     0.1363      0.487      0.280      0.779      -0.817       1.090\n",
      "L2.mxt                     0.0420      0.080      0.527      0.598      -0.114       0.198\n",
      "L2.mnt                    -0.0103      0.148     -0.069      0.945      -0.301       0.280\n",
      "L3.case                 5.688e-05      0.000      0.205      0.837      -0.000       0.001\n",
      "L3.rh                      0.0005      0.028      0.017      0.987      -0.054       0.055\n",
      "L3.avt                     0.0640      0.221      0.289      0.773      -0.370       0.498\n",
      "L3.mxt                     0.0060      0.096      0.063      0.950      -0.182       0.194\n",
      "L3.mnt                     0.0266      0.088      0.304      0.761      -0.145       0.198\n",
      "L1.e(case)              5.938e-05      0.001      0.064      0.949      -0.002       0.002\n",
      "L1.e(rh)                   0.0015      0.097      0.015      0.988      -0.188       0.191\n",
      "L1.e(avt)                  0.0084      0.663      0.013      0.990      -1.290       1.307\n",
      "L1.e(mxt)                 -0.0041      0.422     -0.010      0.992      -0.831       0.823\n",
      "L1.e(mnt)                 -0.0134      0.602     -0.022      0.982      -1.194       1.167\n",
      "beta.retail_recreation -2.584e-05      0.017     -0.001      0.999      -0.034       0.034\n",
      "beta.grocery_pahrmacy      0.0295      0.016      1.823      0.068      -0.002       0.061\n",
      "beta.parks              6.413e-06      0.006      0.001      0.999      -0.012       0.012\n",
      "beta.transit_station      -0.0225      0.027     -0.835      0.404      -0.075       0.030\n",
      "beta.workplace             0.0147      0.010      1.461      0.144      -0.005       0.034\n",
      "beta.residential           0.0301      0.042      0.718      0.473      -0.052       0.112\n",
      "                                 Results for equation mxt                                 \n",
      "==========================================================================================\n",
      "                             coef    std err          z      P>|z|      [0.025      0.975]\n",
      "------------------------------------------------------------------------------------------\n",
      "intercept                 18.5607     16.049      1.157      0.247     -12.894      50.015\n",
      "L1.case                   -0.0003      0.001     -0.170      0.865      -0.003       0.003\n",
      "L1.rh                     -0.0731      0.154     -0.475      0.635      -0.375       0.229\n",
      "L1.avt                     0.3054      1.014      0.301      0.763      -1.682       2.293\n",
      "L1.mxt                    -0.0290      0.627     -0.046      0.963      -1.258       1.200\n",
      "L1.mnt                    -0.0628      0.836     -0.075      0.940      -1.702       1.576\n",
      "L2.case                   -0.0002      0.001     -0.153      0.879      -0.002       0.002\n",
      "L2.rh                      0.0372      0.097      0.384      0.701      -0.153       0.227\n",
      "L2.avt                     0.0900      0.760      0.118      0.906      -1.400       1.580\n",
      "L2.mxt                     0.0639      0.127      0.502      0.616      -0.186       0.314\n",
      "L2.mnt                    -0.0051      0.238     -0.022      0.983      -0.472       0.462\n",
      "L3.case                    0.0001      0.000      0.220      0.826      -0.001       0.001\n",
      "L3.rh                      0.0036      0.042      0.084      0.933      -0.079       0.086\n",
      "L3.avt                     0.0471      0.327      0.144      0.885      -0.594       0.688\n",
      "L3.mxt                     0.0974      0.143      0.681      0.496      -0.183       0.378\n",
      "L3.mnt                     0.0399      0.135      0.296      0.767      -0.224       0.304\n",
      "L1.e(case)              6.255e-05      0.001      0.042      0.967      -0.003       0.003\n",
      "L1.e(rh)                   0.0027      0.157      0.017      0.986      -0.306       0.311\n",
      "L1.e(avt)                  0.0230      1.031      0.022      0.982      -1.997       2.043\n",
      "L1.e(mxt)                 -0.0035      0.634     -0.005      0.996      -1.245       1.238\n",
      "L1.e(mnt)                 -0.0162      0.838     -0.019      0.985      -1.659       1.626\n",
      "beta.retail_recreation    -0.0190      0.028     -0.672      0.502      -0.074       0.036\n",
      "beta.grocery_pahrmacy      0.0223      0.026      0.865      0.387      -0.028       0.073\n",
      "beta.parks                -0.0052      0.010     -0.499      0.618      -0.026       0.015\n",
      "beta.transit_station       0.0211      0.039      0.541      0.589      -0.055       0.098\n",
      "beta.workplace             0.0065      0.019      0.350      0.726      -0.030       0.043\n",
      "beta.residential           0.0556      0.065      0.853      0.394      -0.072       0.183\n",
      "                                 Results for equation mnt                                 \n",
      "==========================================================================================\n",
      "                             coef    std err          z      P>|z|      [0.025      0.975]\n",
      "------------------------------------------------------------------------------------------\n",
      "intercept                  2.6238      9.314      0.282      0.778     -15.631      20.879\n",
      "L1.case                    0.0001      0.001      0.135      0.893      -0.002       0.002\n",
      "L1.rh                      0.0063      0.085      0.074      0.941      -0.161       0.174\n",
      "L1.avt                     0.6680      0.648      1.031      0.302      -0.602       1.938\n",
      "L1.mxt                    -0.0623      0.383     -0.163      0.871      -0.813       0.689\n",
      "L1.mnt                    -0.0648      0.557     -0.116      0.907      -1.157       1.027\n",
      "L2.case                -2.338e-05      0.001     -0.035      0.972      -0.001       0.001\n",
      "L2.rh                      0.0303      0.052      0.579      0.563      -0.072       0.133\n",
      "L2.avt                     0.1031      0.458      0.225      0.822      -0.794       1.000\n",
      "L2.mxt                     0.0357      0.079      0.453      0.650      -0.119       0.190\n",
      "L2.mnt                    -0.0237      0.144     -0.165      0.869      -0.306       0.259\n",
      "L3.case                   -0.0001      0.000     -0.470      0.638      -0.001       0.000\n",
      "L3.rh                      0.0015      0.025      0.058      0.954      -0.048       0.051\n",
      "L3.avt                     0.1214      0.182      0.667      0.505      -0.235       0.478\n",
      "L3.mxt                    -0.0143      0.082     -0.175      0.861      -0.175       0.146\n",
      "L3.mnt                    -0.0476      0.081     -0.586      0.558      -0.207       0.112\n",
      "L1.e(case)             -3.777e-05      0.001     -0.041      0.967      -0.002       0.002\n",
      "L1.e(rh)                   0.0031      0.084      0.037      0.971      -0.161       0.167\n",
      "L1.e(avt)                  0.0168      0.651      0.026      0.979      -1.260       1.293\n",
      "L1.e(mxt)                 -0.0010      0.389     -0.002      0.998      -0.764       0.762\n",
      "L1.e(mnt)                  0.0026      0.555      0.005      0.996      -1.085       1.090\n",
      "beta.retail_recreation     0.0098      0.017      0.596      0.551      -0.023       0.042\n",
      "beta.grocery_pahrmacy     -0.0066      0.015     -0.443      0.658      -0.036       0.023\n",
      "beta.parks                 0.0036      0.006      0.613      0.540      -0.008       0.015\n",
      "beta.transit_station       0.0038      0.026      0.144      0.885      -0.047       0.055\n",
      "beta.workplace             0.0166      0.010      1.630      0.103      -0.003       0.037\n",
      "beta.residential           0.0603      0.042      1.435      0.151      -0.022       0.143\n",
      "                               Error covariance matrix                               \n",
      "=====================================================================================\n",
      "                        coef    std err          z      P>|z|      [0.025      0.975]\n",
      "-------------------------------------------------------------------------------------\n",
      "sqrt.var.case       414.8958     21.149     19.618      0.000     373.445     456.347\n",
      "sqrt.cov.case.rh      0.6652      0.455      1.463      0.144      -0.226       1.556\n",
      "sqrt.var.rh           4.1952      0.239     17.563      0.000       3.727       4.663\n",
      "sqrt.cov.case.avt    -0.1252      0.073     -1.705      0.088      -0.269       0.019\n",
      "sqrt.cov.rh.avt      -0.5276      0.045    -11.814      0.000      -0.615      -0.440\n",
      "sqrt.var.avt          0.4585      0.022     20.570      0.000       0.415       0.502\n",
      "sqrt.cov.case.mxt    -0.2481      0.110     -2.247      0.025      -0.464      -0.032\n",
      "sqrt.cov.rh.mxt      -0.7001      0.066    -10.563      0.000      -0.830      -0.570\n",
      "sqrt.cov.avt.mxt      0.3501      0.052      6.697      0.000       0.248       0.453\n",
      "sqrt.var.mxt          0.6984      0.032     21.964      0.000       0.636       0.761\n",
      "sqrt.cov.case.mnt    -0.0977      0.062     -1.578      0.115      -0.219       0.024\n",
      "sqrt.cov.rh.mnt      -0.1792      0.045     -3.964      0.000      -0.268      -0.091\n",
      "sqrt.cov.avt.mnt      0.2263      0.042      5.448      0.000       0.145       0.308\n",
      "sqrt.cov.mxt.mnt     -0.0869      0.041     -2.106      0.035      -0.168      -0.006\n",
      "sqrt.var.mnt          0.5725      0.027     20.857      0.000       0.519       0.626\n",
      "=====================================================================================\n",
      "\n",
      "Warnings:\n",
      "[1] Covariance matrix calculated using the outer product of gradients (complex-step).\n",
      "[2] Covariance matrix is singular or near-singular, with condition number 7.58e+16. Standard errors may be unstable.\n"
     ]
    }
   ],
   "source": [
    "model = VARMAX(train, exog=train_exog, order=(3, 1))\n",
    "model_fit = model.fit(disp=False)\n",
    "print(model_fit.summary())"
   ]
  },
  {
   "cell_type": "code",
   "execution_count": 8,
   "metadata": {},
   "outputs": [
    {
     "data": {
      "image/png": "[encoded data removed]",
      "text/plain": [
       "<Figure size 936x216 with 1 Axes>"
      ]
     },
     "metadata": {
      "needs_background": "light"
     },
     "output_type": "display_data"
    }
   ],
   "source": [
    "ax = model_fit.impulse_responses(10, orthogonalized=True).plot(figsize=(13,3))\n",
    "ax.set(xlabel='t', title='Responses to a shock to `mxt`');"
   ]
  },
  {
   "cell_type": "code",
   "execution_count": 9,
   "metadata": {},
   "outputs": [
    {
     "name": "stdout",
     "output_type": "stream",
     "text": [
      "                  case         rh        avt        mxt        mnt\n",
      "2021-05-05  584.748538  73.403119  29.409216  33.374577  26.364582\n",
      "2021-05-06  641.067928  75.020143  29.307453  32.908902  26.253852\n",
      "2021-05-07  534.668090  73.983110  29.522596  32.788645  26.347476\n",
      "2021-05-08  527.797951  73.943427  29.544984  33.150561  26.349663\n",
      "2021-05-09  454.461267  73.803188  29.659454  33.250332  26.535248\n",
      "2021-05-10  424.862221  73.691468  29.758867  33.086274  26.381842\n",
      "2021-05-11  416.092123  73.623053  29.862980  33.302978  26.347895\n",
      "2021-05-12  379.196506  73.906583  30.007190  33.447901  26.350218\n",
      "2021-05-13  728.167252  77.007986  29.102721  32.433674  26.113543\n",
      "2021-05-14  853.860693  77.820616  28.871790  32.189395  25.960822\n"
     ]
    },
    {
     "name": "stderr",
     "output_type": "stream",
     "text": [
      "C:\\ProgramData\\Anaconda3\\envs\\Forecatsing\\lib\\site-packages\\statsmodels\\tsa\\statespace\\varmax.py:163: EstimationWarning: Estimation of VARMA(p,q) models is not generically robust, due especially to identification issues.\n",
      "  EstimationWarning)\n",
      "C:\\ProgramData\\Anaconda3\\envs\\Forecatsing\\lib\\site-packages\\statsmodels\\tsa\\statespace\\varmax.py:163: EstimationWarning: Estimation of VARMA(p,q) models is not generically robust, due especially to identification issues.\n",
      "  EstimationWarning)\n"
     ]
    }
   ],
   "source": [
    "yhat = model_fit.forecast(steps=len(test_exog),exog=test_exog)\n",
    "print(yhat)"
   ]
  },
  {
   "cell_type": "code",
   "execution_count": 10,
   "metadata": {},
   "outputs": [],
   "source": [
    "list_hasil = yhat['case'].tolist()\n",
    "list_eval = test['case'].tolist()"
   ]
  },
  {
   "cell_type": "code",
   "execution_count": 11,
   "metadata": {},
   "outputs": [
    {
     "data": {
      "text/plain": [
       "238.3411812327217"
      ]
     },
     "execution_count": 11,
     "metadata": {},
     "output_type": "execute_result"
    }
   ],
   "source": [
    "rms = mean_squared_error(list_eval, list_hasil, squared=False)\n",
    "rms"
   ]
  },
  {
   "cell_type": "code",
   "execution_count": 12,
   "metadata": {},
   "outputs": [
    {
     "data": {
      "text/plain": [
       "56806.518671409096"
      ]
     },
     "execution_count": 12,
     "metadata": {},
     "output_type": "execute_result"
    }
   ],
   "source": [
    "mse = mean_squared_error(list_eval, list_hasil)\n",
    "mse"
   ]
  },
  {
   "cell_type": "code",
   "execution_count": 13,
   "metadata": {},
   "outputs": [
    {
     "data": {
      "text/plain": [
       "216.5983062165084"
      ]
     },
     "execution_count": 13,
     "metadata": {},
     "output_type": "execute_result"
    }
   ],
   "source": [
    "mae = mean_absolute_error(list_eval, list_hasil)\n",
    "mae"
   ]
  },
  {
   "cell_type": "code",
   "execution_count": null,
   "metadata": {},
   "outputs": [],
   "source": []
  }
 ],
 "metadata": {
  "kernelspec": {
   "display_name": "Python 3",
   "language": "python",
   "name": "python3"
  },
  "language_info": {
   "codemirror_mode": {
    "name": "ipython",
    "version": 3
   },
   "file_extension": ".py",
   "mimetype": "text/x-python",
   "name": "python",
   "nbconvert_exporter": "python",
   "pygments_lexer": "ipython3",
   "version": "3.7.9"
  }
 },
 "nbformat": 4,
 "nbformat_minor": 4
}
