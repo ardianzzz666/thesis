{
 "cells": [
  {
   "cell_type": "code",
   "execution_count": 1,
   "metadata": {},
   "outputs": [],
   "source": [
    "# prepare data for lstm\n",
    "from math import sqrt\n",
    "from numpy import concatenate\n",
    "from matplotlib import pyplot\n",
    "from pandas import read_csv\n",
    "from pandas import DataFrame\n",
    "from pandas import concat\n",
    "from sklearn.preprocessing import LabelEncoder\n",
    "from sklearn.preprocessing import MinMaxScaler\n",
    "\n",
    "from sklearn.metrics import mean_squared_error\n",
    "from keras.models import Sequential\n",
    "from keras.layers import Dense\n",
    "from keras.layers import LSTM"
   ]
  },
  {
   "cell_type": "code",
   "execution_count": 2,
   "metadata": {},
   "outputs": [],
   "source": [
    "# convert series to supervised learning\n",
    "def series_to_supervised(data, n_in=1, n_out=1, dropnan=True):\n",
    "    n_vars = 1 if type(data) is list else data.shape[1]\n",
    "    df = DataFrame(data)\n",
    "    cols, names = list(), list()\n",
    "    # input sequence (t-n, ... t-1)\n",
    "    for i in range(n_in, 0, -1):\n",
    "        cols.append(df.shift(i))\n",
    "        names += [('var%d(t-%d)' % (j+1, i)) for j in range(n_vars)]\n",
    "    # forecast sequence (t, t+1, ... t+n)\n",
    "    for i in range(0, n_out):\n",
    "        cols.append(df.shift(-i))\n",
    "        if i == 0:\n",
    "            names += [('var%d(t)' % (j+1)) for j in range(n_vars)]\n",
    "        else:\n",
    "            names += [('var%d(t+%d)' % (j+1, i)) for j in range(n_vars)]\n",
    "    # put it all together\n",
    "    agg = concat(cols, axis=1)\n",
    "    agg.columns = names\n",
    "    # drop rows with NaN values\n",
    "    if dropnan:\n",
    "        agg.dropna(inplace=True)\n",
    "    return agg"
   ]
  },
  {
   "cell_type": "code",
   "execution_count": 3,
   "metadata": {},
   "outputs": [
    {
     "name": "stdout",
     "output_type": "stream",
     "text": [
      "                     pollution  dew  temp   press wnd_dir  wnd_spd  snow  rain\n",
      "date                                                                          \n",
      "2010-01-02 00:00:00      129.0  -16  -4.0  1020.0      SE     1.79     0     0\n",
      "2010-01-02 01:00:00      148.0  -15  -4.0  1020.0      SE     2.68     0     0\n",
      "2010-01-02 02:00:00      159.0  -11  -5.0  1021.0      SE     3.57     0     0\n",
      "2010-01-02 03:00:00      181.0   -7  -5.0  1022.0      SE     5.36     1     0\n",
      "2010-01-02 04:00:00      138.0   -7  -5.0  1022.0      SE     6.25     2     0\n",
      "...                        ...  ...   ...     ...     ...      ...   ...   ...\n",
      "2014-12-31 19:00:00        8.0  -23  -2.0  1034.0      NW   231.97     0     0\n",
      "2014-12-31 20:00:00       10.0  -22  -3.0  1034.0      NW   237.78     0     0\n",
      "2014-12-31 21:00:00       10.0  -22  -3.0  1034.0      NW   242.70     0     0\n",
      "2014-12-31 22:00:00        8.0  -22  -4.0  1034.0      NW   246.72     0     0\n",
      "2014-12-31 23:00:00       12.0  -21  -3.0  1034.0      NW   249.85     0     0\n",
      "\n",
      "[43800 rows x 8 columns]\n"
     ]
    }
   ],
   "source": [
    "# load dataset\n",
    "dataset = read_csv('pollution.csv', header=0, index_col=0)\n",
    "values = dataset.values\n",
    "print(dataset)"
   ]
  },
  {
   "cell_type": "code",
   "execution_count": 4,
   "metadata": {},
   "outputs": [
    {
     "name": "stdout",
     "output_type": "stream",
     "text": [
      "['SE' 'SE' 'SE' ... 'NW' 'NW' 'NW']\n"
     ]
    }
   ],
   "source": [
    "print(values[:,4])"
   ]
  },
  {
   "cell_type": "code",
   "execution_count": 5,
   "metadata": {},
   "outputs": [
    {
     "name": "stdout",
     "output_type": "stream",
     "text": [
      "[129.0 148.0 159.0 ... 10.0 8.0 12.0]\n"
     ]
    }
   ],
   "source": [
    "# integer encode direction\n",
    "encoder = LabelEncoder()\n",
    "values[:,4] = encoder.fit_transform(values[:,4])\n",
    "print(values[:,0])"
   ]
  },
  {
   "cell_type": "code",
   "execution_count": 12,
   "metadata": {},
   "outputs": [
    {
     "name": "stdout",
     "output_type": "stream",
     "text": [
      "[-16. -15. -11. ... -22. -22. -21.]\n"
     ]
    }
   ],
   "source": [
    "# ensure all data is float\n",
    "values = values.astype('float32')\n",
    "print(values[:,1])"
   ]
  },
  {
   "cell_type": "code",
   "execution_count": 14,
   "metadata": {},
   "outputs": [
    {
     "name": "stdout",
     "output_type": "stream",
     "text": [
      "[[0.12977867 0.35294122 0.24590163 ... 0.00229001 0.         0.        ]\n",
      " [0.14889336 0.36764708 0.24590163 ... 0.00381099 0.         0.        ]\n",
      " [0.15995975 0.4264706  0.22950819 ... 0.00533197 0.         0.        ]\n",
      " ...\n",
      " [0.01006036 0.2647059  0.26229507 ... 0.41399646 0.         0.        ]\n",
      " [0.00804829 0.2647059  0.24590163 ... 0.4208665  0.         0.        ]\n",
      " [0.01207243 0.2794118  0.26229507 ... 0.42621556 0.         0.        ]]\n"
     ]
    }
   ],
   "source": [
    "# normalize features\n",
    "scaler = MinMaxScaler(feature_range=(0, 1))\n",
    "scaled = scaler.fit_transform(values)\n",
    "print(scaled)"
   ]
  },
  {
   "cell_type": "code",
   "execution_count": 15,
   "metadata": {},
   "outputs": [
    {
     "name": "stdout",
     "output_type": "stream",
     "text": [
      "       var1(t-1)  var2(t-1)  var3(t-1)  var4(t-1)  var5(t-1)  var6(t-1)  \\\n",
      "1       0.129779   0.352941   0.245902   0.527273   0.666667   0.002290   \n",
      "2       0.148893   0.367647   0.245902   0.527273   0.666667   0.003811   \n",
      "3       0.159960   0.426471   0.229508   0.545454   0.666667   0.005332   \n",
      "4       0.182093   0.485294   0.229508   0.563637   0.666667   0.008391   \n",
      "5       0.138833   0.485294   0.229508   0.563637   0.666667   0.009912   \n",
      "...          ...        ...        ...        ...        ...        ...   \n",
      "43795   0.010060   0.264706   0.278689   0.763638   0.333333   0.385730   \n",
      "43796   0.008048   0.250000   0.278689   0.781818   0.333333   0.395659   \n",
      "43797   0.010060   0.264706   0.262295   0.781818   0.333333   0.405588   \n",
      "43798   0.010060   0.264706   0.262295   0.781818   0.333333   0.413996   \n",
      "43799   0.008048   0.264706   0.245902   0.781818   0.333333   0.420866   \n",
      "\n",
      "       var7(t-1)  var8(t-1)   var1(t)   var2(t)   var3(t)   var4(t)   var5(t)  \\\n",
      "1       0.000000        0.0  0.148893  0.367647  0.245902  0.527273  0.666667   \n",
      "2       0.000000        0.0  0.159960  0.426471  0.229508  0.545454  0.666667   \n",
      "3       0.000000        0.0  0.182093  0.485294  0.229508  0.563637  0.666667   \n",
      "4       0.037037        0.0  0.138833  0.485294  0.229508  0.563637  0.666667   \n",
      "5       0.074074        0.0  0.109658  0.485294  0.213115  0.563637  0.666667   \n",
      "...          ...        ...       ...       ...       ...       ...       ...   \n",
      "43795   0.000000        0.0  0.008048  0.250000  0.278689  0.781818  0.333333   \n",
      "43796   0.000000        0.0  0.010060  0.264706  0.262295  0.781818  0.333333   \n",
      "43797   0.000000        0.0  0.010060  0.264706  0.262295  0.781818  0.333333   \n",
      "43798   0.000000        0.0  0.008048  0.264706  0.245902  0.781818  0.333333   \n",
      "43799   0.000000        0.0  0.012072  0.279412  0.262295  0.781818  0.333333   \n",
      "\n",
      "        var6(t)   var7(t)  var8(t)  \n",
      "1      0.003811  0.000000      0.0  \n",
      "2      0.005332  0.000000      0.0  \n",
      "3      0.008391  0.037037      0.0  \n",
      "4      0.009912  0.074074      0.0  \n",
      "5      0.011433  0.111111      0.0  \n",
      "...         ...       ...      ...  \n",
      "43795  0.395659  0.000000      0.0  \n",
      "43796  0.405588  0.000000      0.0  \n",
      "43797  0.413996  0.000000      0.0  \n",
      "43798  0.420866  0.000000      0.0  \n",
      "43799  0.426216  0.000000      0.0  \n",
      "\n",
      "[43799 rows x 16 columns]\n"
     ]
    }
   ],
   "source": [
    "# frame as supervised learning\n",
    "reframed = series_to_supervised(scaled, 1, 1)\n",
    "print(reframed)"
   ]
  },
  {
   "cell_type": "code",
   "execution_count": null,
   "metadata": {},
   "outputs": [],
   "source": [
    "# drop columns we don't want to predict\n",
    "reframed.drop(reframed.columns[[9,10,11,12,13,14,15]], axis=1, inplace=True)\n",
    "print(reframed.head())"
   ]
  }
 ],
 "metadata": {
  "kernelspec": {
   "display_name": "Python 3",
   "language": "python",
   "name": "python3"
  },
  "language_info": {
   "codemirror_mode": {
    "name": "ipython",
    "version": 3
   },
   "file_extension": ".py",
   "mimetype": "text/x-python",
   "name": "python",
   "nbconvert_exporter": "python",
   "pygments_lexer": "ipython3",
   "version": "3.7.9"
  }
 },
 "nbformat": 4,
 "nbformat_minor": 4
}
