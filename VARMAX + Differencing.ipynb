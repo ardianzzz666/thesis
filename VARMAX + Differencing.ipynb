{
 "cells": [
  {
   "cell_type": "code",
   "execution_count": 1,
   "metadata": {},
   "outputs": [],
   "source": [
    "import warnings\n",
    "warnings.filterwarnings('ignore')\n",
    "\n",
    "import os\n",
    "import random\n",
    "import numpy as np\n",
    "from numpy import mean\n",
    "from numpy import std\n",
    "import pandas as pd\n",
    "from pandas import datetime\n",
    "from pandas import DataFrame\n",
    "import matplotlib.pyplot as plt\n",
    "from pandas import Series\n",
    "\n",
    "from statsmodels.tsa.statespace.varmax import VARMAX\n",
    "from sklearn.metrics import mean_squared_error\n",
    "from sklearn.metrics import mean_absolute_error\n",
    "\n",
    "\n",
    "from statsmodels.tsa.stattools import adfuller\n",
    "from statsmodels.tools.eval_measures import rmse, aic\n",
    "from sklearn.model_selection import train_test_split"
   ]
  },
  {
   "cell_type": "code",
   "execution_count": 2,
   "metadata": {},
   "outputs": [],
   "source": [
    "# dataset united kingdom\n",
    "#case = pd.read_csv('UK/case.csv')\n",
    "#mobility = pd.read_csv('UK/mobility.csv')\n",
    "#case.set_index('date', inplace=True)\n",
    "#mobility.set_index('date', inplace=True)\n",
    "\n",
    "# dataset indonesia (jakarta)\n",
    "case = pd.read_csv('data/new/case_maret_july.csv')\n",
    "mobility = pd.read_csv('data/new/mobility_maret_july.csv')\n",
    "weather = pd.read_csv('data/new/weather_maret_july.csv')\n",
    "case.set_index('date', inplace=True)\n",
    "#weather.set_index('date', inplace=True)\n",
    "mobility.set_index('date', inplace=True)"
   ]
  },
  {
   "cell_type": "code",
   "execution_count": 3,
   "metadata": {},
   "outputs": [],
   "source": [
    "new_weather = weather.interpolate(method='spline', order=2)\n",
    "new_weather.head()\n",
    "\n",
    "new_weather.set_index('date', inplace=True)"
   ]
  },
  {
   "cell_type": "code",
   "execution_count": 4,
   "metadata": {},
   "outputs": [
    {
     "data": {
      "text/html": [
       "<div>\n",
       "<style scoped>\n",
       "    .dataframe tbody tr th:only-of-type {\n",
       "        vertical-align: middle;\n",
       "    }\n",
       "\n",
       "    .dataframe tbody tr th {\n",
       "        vertical-align: top;\n",
       "    }\n",
       "\n",
       "    .dataframe thead th {\n",
       "        text-align: right;\n",
       "    }\n",
       "</style>\n",
       "<table border=\"1\" class=\"dataframe\">\n",
       "  <thead>\n",
       "    <tr style=\"text-align: right;\">\n",
       "      <th></th>\n",
       "      <th>retail_recreation</th>\n",
       "      <th>grocery_pahrmacy</th>\n",
       "      <th>parks</th>\n",
       "      <th>transit_station</th>\n",
       "      <th>workplace</th>\n",
       "      <th>residential</th>\n",
       "    </tr>\n",
       "    <tr>\n",
       "      <th>date</th>\n",
       "      <th></th>\n",
       "      <th></th>\n",
       "      <th></th>\n",
       "      <th></th>\n",
       "      <th></th>\n",
       "      <th></th>\n",
       "    </tr>\n",
       "  </thead>\n",
       "  <tbody>\n",
       "    <tr>\n",
       "      <th>2020-03-19</th>\n",
       "      <td>-6.0</td>\n",
       "      <td>-9.0</td>\n",
       "      <td>-5.0</td>\n",
       "      <td>-6.0</td>\n",
       "      <td>-2.0</td>\n",
       "      <td>1.0</td>\n",
       "    </tr>\n",
       "    <tr>\n",
       "      <th>2020-03-20</th>\n",
       "      <td>-2.0</td>\n",
       "      <td>1.0</td>\n",
       "      <td>1.0</td>\n",
       "      <td>-4.0</td>\n",
       "      <td>-2.0</td>\n",
       "      <td>3.0</td>\n",
       "    </tr>\n",
       "    <tr>\n",
       "      <th>2020-03-21</th>\n",
       "      <td>-5.0</td>\n",
       "      <td>6.0</td>\n",
       "      <td>-6.0</td>\n",
       "      <td>2.0</td>\n",
       "      <td>13.0</td>\n",
       "      <td>-4.0</td>\n",
       "    </tr>\n",
       "    <tr>\n",
       "      <th>2020-03-22</th>\n",
       "      <td>-14.0</td>\n",
       "      <td>-17.0</td>\n",
       "      <td>-21.0</td>\n",
       "      <td>-9.0</td>\n",
       "      <td>-2.0</td>\n",
       "      <td>3.0</td>\n",
       "    </tr>\n",
       "    <tr>\n",
       "      <th>2020-03-23</th>\n",
       "      <td>9.0</td>\n",
       "      <td>3.0</td>\n",
       "      <td>16.0</td>\n",
       "      <td>-4.0</td>\n",
       "      <td>-22.0</td>\n",
       "      <td>4.0</td>\n",
       "    </tr>\n",
       "  </tbody>\n",
       "</table>\n",
       "</div>"
      ],
      "text/plain": [
       "            retail_recreation  grocery_pahrmacy  parks  transit_station  \\\n",
       "date                                                                      \n",
       "2020-03-19               -6.0              -9.0   -5.0             -6.0   \n",
       "2020-03-20               -2.0               1.0    1.0             -4.0   \n",
       "2020-03-21               -5.0               6.0   -6.0              2.0   \n",
       "2020-03-22              -14.0             -17.0  -21.0             -9.0   \n",
       "2020-03-23                9.0               3.0   16.0             -4.0   \n",
       "\n",
       "            workplace  residential  \n",
       "date                                \n",
       "2020-03-19       -2.0          1.0  \n",
       "2020-03-20       -2.0          3.0  \n",
       "2020-03-21       13.0         -4.0  \n",
       "2020-03-22       -2.0          3.0  \n",
       "2020-03-23      -22.0          4.0  "
      ]
     },
     "execution_count": 4,
     "metadata": {},
     "output_type": "execute_result"
    }
   ],
   "source": [
    "# Differencing order = 1\n",
    "mobility_diff = mobility.diff(periods=1)\n",
    "mobility_diff = mobility_diff.iloc[1:]\n",
    "case = case.iloc[1:]\n",
    "new_weather = new_weather.iloc[1:]\n",
    "mobility_diff.head()"
   ]
  },
  {
   "cell_type": "code",
   "execution_count": 5,
   "metadata": {},
   "outputs": [
    {
     "data": {
      "text/html": [
       "<div>\n",
       "<style scoped>\n",
       "    .dataframe tbody tr th:only-of-type {\n",
       "        vertical-align: middle;\n",
       "    }\n",
       "\n",
       "    .dataframe tbody tr th {\n",
       "        vertical-align: top;\n",
       "    }\n",
       "\n",
       "    .dataframe thead th {\n",
       "        text-align: right;\n",
       "    }\n",
       "</style>\n",
       "<table border=\"1\" class=\"dataframe\">\n",
       "  <thead>\n",
       "    <tr style=\"text-align: right;\">\n",
       "      <th></th>\n",
       "      <th>case</th>\n",
       "      <th>rh</th>\n",
       "      <th>avt</th>\n",
       "      <th>mxt</th>\n",
       "      <th>mnt</th>\n",
       "    </tr>\n",
       "    <tr>\n",
       "      <th>date</th>\n",
       "      <th></th>\n",
       "      <th></th>\n",
       "      <th></th>\n",
       "      <th></th>\n",
       "      <th></th>\n",
       "    </tr>\n",
       "  </thead>\n",
       "  <tbody>\n",
       "    <tr>\n",
       "      <th>2020-03-19</th>\n",
       "      <td>50</td>\n",
       "      <td>83.0</td>\n",
       "      <td>28.1</td>\n",
       "      <td>31.4</td>\n",
       "      <td>25.800000</td>\n",
       "    </tr>\n",
       "    <tr>\n",
       "      <th>2020-03-20</th>\n",
       "      <td>14</td>\n",
       "      <td>82.0</td>\n",
       "      <td>27.4</td>\n",
       "      <td>31.2</td>\n",
       "      <td>25.200000</td>\n",
       "    </tr>\n",
       "    <tr>\n",
       "      <th>2020-03-21</th>\n",
       "      <td>44</td>\n",
       "      <td>81.0</td>\n",
       "      <td>28.1</td>\n",
       "      <td>32.4</td>\n",
       "      <td>26.521978</td>\n",
       "    </tr>\n",
       "    <tr>\n",
       "      <th>2020-03-22</th>\n",
       "      <td>36</td>\n",
       "      <td>84.0</td>\n",
       "      <td>27.2</td>\n",
       "      <td>31.2</td>\n",
       "      <td>25.000000</td>\n",
       "    </tr>\n",
       "    <tr>\n",
       "      <th>2020-03-23</th>\n",
       "      <td>51</td>\n",
       "      <td>81.0</td>\n",
       "      <td>28.2</td>\n",
       "      <td>31.8</td>\n",
       "      <td>25.000000</td>\n",
       "    </tr>\n",
       "  </tbody>\n",
       "</table>\n",
       "</div>"
      ],
      "text/plain": [
       "            case    rh   avt   mxt        mnt\n",
       "date                                         \n",
       "2020-03-19    50  83.0  28.1  31.4  25.800000\n",
       "2020-03-20    14  82.0  27.4  31.2  25.200000\n",
       "2020-03-21    44  81.0  28.1  32.4  26.521978\n",
       "2020-03-22    36  84.0  27.2  31.2  25.000000\n",
       "2020-03-23    51  81.0  28.2  31.8  25.000000"
      ]
     },
     "execution_count": 5,
     "metadata": {},
     "output_type": "execute_result"
    }
   ],
   "source": [
    "data = pd.concat([case, new_weather], axis=1)\n",
    "data.head()"
   ]
  },
  {
   "cell_type": "code",
   "execution_count": 6,
   "metadata": {},
   "outputs": [
    {
     "name": "stderr",
     "output_type": "stream",
     "text": [
      "C:\\ProgramData\\Anaconda3\\envs\\Forecatsing\\lib\\site-packages\\statsmodels\\tsa\\statespace\\varmax.py:163: EstimationWarning: Estimation of VARMA(p,q) models is not generically robust, due especially to identification issues.\n",
      "  EstimationWarning)\n",
      "C:\\ProgramData\\Anaconda3\\envs\\Forecatsing\\lib\\site-packages\\statsmodels\\tsa\\base\\tsa_model.py:527: ValueWarning: No frequency information was provided, so inferred frequency D will be used.\n",
      "  % freq, ValueWarning)\n",
      "C:\\ProgramData\\Anaconda3\\envs\\Forecatsing\\lib\\site-packages\\statsmodels\\base\\model.py:568: ConvergenceWarning: Maximum Likelihood optimization failed to converge. Check mle_retvals\n",
      "  ConvergenceWarning)\n"
     ]
    },
    {
     "name": "stdout",
     "output_type": "stream",
     "text": [
      "                                    Statespace Model Results                                   \n",
      "===============================================================================================\n",
      "Dep. Variable:     ['case', 'rh', 'avt', 'mxt', 'mnt']   No. Observations:                  422\n",
      "Model:                                     VARMAX(3,1)   Log Likelihood               -5262.831\n",
      "                                           + intercept   AIC                          10825.662\n",
      "Date:                                 Sun, 22 Aug 2021   BIC                          11432.412\n",
      "Time:                                         13:57:48   HQIC                         11065.431\n",
      "Sample:                                     03-19-2020                                         \n",
      "                                          - 05-14-2021                                         \n",
      "Covariance Type:                                   opg                                         \n",
      "============================================================================================================\n",
      "Ljung-Box (L1) (Q):      0.01, 0.03, 0.00, 0.00, 0.00   Jarque-Bera (JB):   606.38, 5.24, 12.81, 13.89, 7.67\n",
      "Prob(Q):                 0.93, 0.85, 0.97, 0.97, 0.98   Prob(JB):               0.00, 0.07, 0.00, 0.00, 0.02\n",
      "Heteroskedasticity (H): 27.91, 1.03, 0.87, 1.18, 1.02   Skew:                -0.21, 0.16, -0.33, 0.25, -0.33\n",
      "Prob(H) (two-sided):     0.00, 0.87, 0.41, 0.33, 0.93   Kurtosis:               8.86, 3.45, 3.53, 3.73, 3.10\n",
      "                                Results for equation case                                 \n",
      "==========================================================================================\n",
      "                             coef    std err          z      P>|z|      [0.025      0.975]\n",
      "------------------------------------------------------------------------------------------\n",
      "intercept               3448.7941        nan        nan        nan         nan         nan\n",
      "L1.case                    0.6299      0.231      2.727      0.006       0.177       1.083\n",
      "L1.rh                     -3.2308     26.047     -0.124      0.901     -54.282      47.821\n",
      "L1.avt                   -25.3672     33.410     -0.759      0.448     -90.850      40.115\n",
      "L1.mxt                    -6.4495     65.809     -0.098      0.922    -135.433     122.534\n",
      "L1.mnt                   -29.6767     22.023     -1.348      0.178     -72.841      13.488\n",
      "L2.case                    0.0419      0.150      0.279      0.780      -0.252       0.336\n",
      "L2.rh                     -8.1353     19.176     -0.424      0.671     -45.719      29.449\n",
      "L2.avt                   -31.0533     72.612     -0.428      0.669    -173.370     111.263\n",
      "L2.mxt                   -17.2923     38.495     -0.449      0.653     -92.741      58.156\n",
      "L2.mnt                    43.9403     39.216      1.120      0.263     -32.921     120.802\n",
      "L3.case                    0.2459      0.076      3.247      0.001       0.097       0.394\n",
      "L3.rh                      2.7854      9.953      0.280      0.780     -16.723      22.293\n",
      "L3.avt                   -11.1750     70.670     -0.158      0.874    -149.685     127.336\n",
      "L3.mxt                    16.6204     37.858      0.439      0.661     -57.579      90.820\n",
      "L3.mnt                   -35.5728     42.104     -0.845      0.398    -118.096      46.950\n",
      "L1.e(case)                -0.0462      0.241     -0.192      0.848      -0.518       0.426\n",
      "L1.e(rh)                  -1.2914     28.535     -0.045      0.964     -57.219      54.636\n",
      "L1.e(avt)                  1.4662     37.257      0.039      0.969     -71.557      74.489\n",
      "L1.e(mxt)                 -3.4862     67.654     -0.052      0.959    -136.085     129.113\n",
      "L1.e(mnt)                  7.4224     28.585      0.260      0.795     -48.603      63.448\n",
      "beta.retail_recreation     0.4243     13.058      0.032      0.974     -25.169      26.018\n",
      "beta.grocery_pahrmacy     -0.6562      9.285     -0.071      0.944     -18.855      17.543\n",
      "beta.parks                -0.1697      7.411     -0.023      0.982     -14.696      14.356\n",
      "beta.transit_station       0.7464     15.373      0.049      0.961     -29.384      30.877\n",
      "beta.workplace            -0.6975      6.901     -0.101      0.919     -14.223      12.828\n",
      "beta.residential          -1.5651     21.659     -0.072      0.942     -44.015      40.885\n",
      "                                 Results for equation rh                                  \n",
      "==========================================================================================\n",
      "                             coef    std err          z      P>|z|      [0.025      0.975]\n",
      "------------------------------------------------------------------------------------------\n",
      "intercept                  3.3748     47.026      0.072      0.943     -88.794      95.544\n",
      "L1.case                    0.0010      0.004      0.256      0.798      -0.006       0.008\n",
      "L1.rh                      0.6958      0.491      1.417      0.156      -0.266       1.658\n",
      "L1.avt                     0.2652      4.822      0.055      0.956      -9.187       9.717\n",
      "L1.mxt                     0.2115      2.420      0.087      0.930      -4.531       4.954\n",
      "L1.mnt                     0.2183      2.720      0.080      0.936      -5.112       5.549\n",
      "L2.case                -7.493e-05      0.003     -0.026      0.980      -0.006       0.006\n",
      "L2.rh                     -0.1029      0.325     -0.316      0.752      -0.740       0.534\n",
      "L2.avt                     0.5832      2.605      0.224      0.823      -4.523       5.689\n",
      "L2.mxt                    -0.8222      0.454     -1.811      0.070      -1.712       0.067\n",
      "L2.mnt                     0.0751      0.680      0.110      0.912      -1.257       1.408\n",
      "L3.case                   -0.0002      0.001     -0.139      0.890      -0.003       0.002\n",
      "L3.rh                      0.1912      0.176      1.086      0.277      -0.154       0.536\n",
      "L3.avt                     0.3440      1.304      0.264      0.792      -2.211       2.899\n",
      "L3.mxt                     0.1560      0.522      0.299      0.765      -0.867       1.179\n",
      "L3.mnt                    -0.5644      0.489     -1.153      0.249      -1.524       0.395\n",
      "L1.e(case)                -0.0008      0.004     -0.224      0.823      -0.008       0.006\n",
      "L1.e(rh)                  -0.0281      0.509     -0.055      0.956      -1.026       0.970\n",
      "L1.e(avt)                 -0.1327      4.994     -0.027      0.979      -9.920       9.655\n",
      "L1.e(mxt)                  0.0550      2.504      0.022      0.982      -4.852       4.962\n",
      "L1.e(mnt)                  0.1413      2.814      0.050      0.960      -5.375       5.657\n",
      "beta.retail_recreation    -0.0216      0.148     -0.147      0.883      -0.311       0.268\n",
      "beta.grocery_pahrmacy     -0.0077      0.089     -0.086      0.931      -0.182       0.167\n",
      "beta.parks                -0.0453      0.055     -0.819      0.413      -0.154       0.063\n",
      "beta.transit_station       0.0591      0.153      0.387      0.699      -0.240       0.358\n",
      "beta.workplace             0.0139      0.067      0.209      0.834      -0.117       0.145\n",
      "beta.residential           0.0640      0.226      0.283      0.777      -0.378       0.506\n",
      "                                 Results for equation avt                                 \n",
      "==========================================================================================\n",
      "                             coef    std err          z      P>|z|      [0.025      0.975]\n",
      "------------------------------------------------------------------------------------------\n",
      "intercept                  8.6862      7.308      1.189      0.235      -5.637      23.010\n",
      "L1.case                -6.242e-05      0.001     -0.110      0.913      -0.001       0.001\n",
      "L1.rh                     -0.0328      0.078     -0.422      0.673      -0.185       0.119\n",
      "L1.avt                     0.4752      0.783      0.607      0.544      -1.060       2.011\n",
      "L1.mxt                    -0.0139      0.402     -0.034      0.972      -0.801       0.773\n",
      "L1.mnt                    -0.1374      0.438     -0.314      0.754      -0.995       0.720\n",
      "L2.case                 -3.85e-05      0.000     -0.086      0.932      -0.001       0.001\n",
      "L2.rh                      0.0380      0.053      0.720      0.471      -0.065       0.142\n",
      "L2.avt                     0.1426      0.426      0.335      0.738      -0.692       0.977\n",
      "L2.mxt                     0.0706      0.076      0.933      0.351      -0.078       0.219\n",
      "L2.mnt                    -0.0422      0.110     -0.382      0.703      -0.259       0.174\n",
      "L3.case                -8.411e-05      0.000     -0.418      0.676      -0.000       0.000\n",
      "L3.rh                      0.0016      0.029      0.055      0.956      -0.055       0.058\n",
      "L3.avt                     0.0952      0.208      0.458      0.647      -0.312       0.503\n",
      "L3.mxt                     0.0050      0.086      0.059      0.953      -0.163       0.173\n",
      "L3.mnt                     0.0710      0.080      0.887      0.375      -0.086       0.228\n",
      "L1.e(case)                 0.0002      0.001      0.263      0.793      -0.001       0.001\n",
      "L1.e(rh)                  -0.0028      0.081     -0.035      0.972      -0.161       0.155\n",
      "L1.e(avt)                 -0.0029      0.815     -0.004      0.997      -1.600       1.594\n",
      "L1.e(mxt)                 -0.0135      0.413     -0.033      0.974      -0.824       0.797\n",
      "L1.e(mnt)                 -0.0213      0.454     -0.047      0.963      -0.911       0.869\n",
      "beta.retail_recreation     0.0006      0.025      0.024      0.981      -0.049       0.050\n",
      "beta.grocery_pahrmacy      0.0094      0.015      0.629      0.530      -0.020       0.039\n",
      "beta.parks                 0.0046      0.010      0.452      0.651      -0.015       0.024\n",
      "beta.transit_station       0.0041      0.024      0.173      0.863      -0.042       0.050\n",
      "beta.workplace            -0.0048      0.011     -0.436      0.663      -0.026       0.017\n",
      "beta.residential          -0.0001      0.035     -0.003      0.998      -0.069       0.068\n",
      "                                 Results for equation mxt                                 \n",
      "==========================================================================================\n",
      "                             coef    std err          z      P>|z|      [0.025      0.975]\n",
      "------------------------------------------------------------------------------------------\n",
      "intercept                 15.4974     11.619      1.334      0.182      -7.275      38.270\n",
      "L1.case                   -0.0004      0.001     -0.380      0.704      -0.002       0.002\n",
      "L1.rh                     -0.0657      0.123     -0.534      0.593      -0.307       0.175\n",
      "L1.avt                     0.2824      1.136      0.249      0.804      -1.945       2.509\n",
      "L1.mxt                     0.0401      0.540      0.074      0.941      -1.018       1.098\n",
      "L1.mnt                    -0.0708      0.618     -0.114      0.909      -1.282       1.141\n",
      "L2.case                    0.0001      0.001      0.163      0.870      -0.001       0.002\n",
      "L2.rh                      0.0321      0.080      0.400      0.689      -0.125       0.189\n",
      "L2.avt                     0.0443      0.608      0.073      0.942      -1.148       1.236\n",
      "L2.mxt                     0.0923      0.107      0.862      0.389      -0.118       0.302\n",
      "L2.mnt                    -0.0712      0.172     -0.413      0.679      -0.409       0.267\n",
      "L3.case                   -0.0001      0.000     -0.373      0.709      -0.001       0.001\n",
      "L3.rh                      0.0079      0.045      0.175      0.861      -0.080       0.096\n",
      "L3.avt                     0.1273      0.318      0.401      0.689      -0.496       0.751\n",
      "L3.mxt                     0.1117      0.127      0.878      0.380      -0.138       0.361\n",
      "L3.mnt                     0.0759      0.113      0.675      0.500      -0.145       0.297\n",
      "L1.e(case)                 0.0003      0.001      0.271      0.786      -0.002       0.002\n",
      "L1.e(rh)                  -0.0003      0.126     -0.002      0.998      -0.247       0.246\n",
      "L1.e(avt)                  0.0044      1.176      0.004      0.997      -2.300       2.308\n",
      "L1.e(mxt)                 -0.0172      0.549     -0.031      0.975      -1.094       1.060\n",
      "L1.e(mnt)                 -0.0357      0.640     -0.056      0.956      -1.290       1.218\n",
      "beta.retail_recreation     0.0011      0.039      0.027      0.978      -0.075       0.078\n",
      "beta.grocery_pahrmacy      0.0122      0.026      0.477      0.633      -0.038       0.062\n",
      "beta.parks                -0.0080      0.019     -0.431      0.666      -0.044       0.028\n",
      "beta.transit_station       0.0030      0.039      0.077      0.938      -0.073       0.079\n",
      "beta.workplace            -0.0116      0.019     -0.622      0.534      -0.048       0.025\n",
      "beta.residential          -0.0200      0.057     -0.352      0.725      -0.131       0.091\n",
      "                                 Results for equation mnt                                 \n",
      "==========================================================================================\n",
      "                             coef    std err          z      P>|z|      [0.025      0.975]\n",
      "------------------------------------------------------------------------------------------\n",
      "intercept                  2.2810      6.419      0.355      0.722     -10.299      14.861\n",
      "L1.case                    0.0001      0.001      0.156      0.876      -0.001       0.001\n",
      "L1.rh                     -0.0002      0.063     -0.003      0.998      -0.123       0.123\n",
      "L1.avt                     0.5819      0.638      0.912      0.362      -0.668       1.832\n",
      "L1.mxt                    -0.0410      0.349     -0.117      0.906      -0.725       0.643\n",
      "L1.mnt                    -0.0535      0.449     -0.119      0.905      -0.934       0.827\n",
      "L2.case                 6.806e-05      0.001      0.136      0.892      -0.001       0.001\n",
      "L2.rh                      0.0344      0.043      0.793      0.428      -0.051       0.120\n",
      "L2.avt                     0.1519      0.371      0.409      0.683      -0.576       0.880\n",
      "L2.mxt                     0.0165      0.076      0.219      0.827      -0.131       0.165\n",
      "L2.mnt                    -0.0120      0.107     -0.112      0.911      -0.222       0.198\n",
      "L3.case                   -0.0002      0.000     -0.959      0.338      -0.001       0.000\n",
      "L3.rh                     -0.0042      0.025     -0.167      0.867      -0.053       0.045\n",
      "L3.avt                     0.1137      0.170      0.671      0.502      -0.219       0.446\n",
      "L3.mxt                    -0.0157      0.069     -0.226      0.821      -0.152       0.121\n",
      "L3.mnt                     0.0022      0.072      0.030      0.976      -0.138       0.142\n",
      "L1.e(case)              3.891e-05      0.001      0.057      0.955      -0.001       0.001\n",
      "L1.e(rh)                   0.0016      0.064      0.024      0.981      -0.123       0.126\n",
      "L1.e(avt)                 -0.0045      0.653     -0.007      0.995      -1.284       1.276\n",
      "L1.e(mxt)                  0.0002      0.364      0.001      1.000      -0.713       0.714\n",
      "L1.e(mnt)                  0.0086      0.461      0.019      0.985      -0.895       0.912\n",
      "beta.retail_recreation    -0.0024      0.020     -0.121      0.904      -0.042       0.037\n",
      "beta.grocery_pahrmacy     -0.0071      0.016     -0.454      0.650      -0.038       0.024\n",
      "beta.parks                -0.0095      0.011     -0.888      0.375      -0.030       0.011\n",
      "beta.transit_station       0.0209      0.023      0.904      0.366      -0.024       0.066\n",
      "beta.workplace            -0.0089      0.011     -0.843      0.399      -0.030       0.012\n",
      "beta.residential           0.0221      0.037      0.601      0.548      -0.050       0.094\n",
      "                               Error covariance matrix                               \n",
      "=====================================================================================\n",
      "                        coef    std err          z      P>|z|      [0.025      0.975]\n",
      "-------------------------------------------------------------------------------------\n",
      "sqrt.var.case       310.2463     10.497     29.555      0.000     289.672     330.821\n",
      "sqrt.cov.case.rh      0.0160      0.336      0.048      0.962      -0.643       0.675\n",
      "sqrt.var.rh           4.0192      0.207     19.383      0.000       3.613       4.426\n",
      "sqrt.cov.case.avt    -0.0014      0.057     -0.024      0.981      -0.113       0.110\n",
      "sqrt.cov.rh.avt      -0.5050      0.041    -12.271      0.000      -0.586      -0.424\n",
      "sqrt.var.avt          0.4476      0.020     22.064      0.000       0.408       0.487\n",
      "sqrt.cov.case.mxt    -0.0735      0.083     -0.890      0.373      -0.235       0.088\n",
      "sqrt.cov.rh.mxt      -0.6730      0.063    -10.620      0.000      -0.797      -0.549\n",
      "sqrt.cov.avt.mxt      0.3305      0.047      7.034      0.000       0.238       0.423\n",
      "sqrt.var.mxt          0.6901      0.031     21.979      0.000       0.629       0.752\n",
      "sqrt.cov.case.mnt     0.0110      0.044      0.248      0.804      -0.076       0.098\n",
      "sqrt.cov.rh.mnt      -0.1647      0.042     -3.905      0.000      -0.247      -0.082\n",
      "sqrt.cov.avt.mnt      0.2087      0.037      5.690      0.000       0.137       0.281\n",
      "sqrt.cov.mxt.mnt     -0.0969      0.039     -2.485      0.013      -0.173      -0.020\n",
      "sqrt.var.mnt          0.5676      0.026     21.679      0.000       0.516       0.619\n",
      "=====================================================================================\n",
      "\n",
      "Warnings:\n",
      "[1] Covariance matrix calculated using the outer product of gradients (complex-step).\n",
      "[2] Covariance matrix is singular or near-singular, with condition number 7.12e+17. Standard errors may be unstable.\n"
     ]
    }
   ],
   "source": [
    "model = VARMAX(data, exog=mobility_diff, order=(3, 1))\n",
    "model_fit = model.fit(disp=False)\n",
    "print(model_fit.summary())"
   ]
  },
  {
   "cell_type": "code",
   "execution_count": 7,
   "metadata": {},
   "outputs": [
    {
     "data": {
      "image/png": "[encoded data removed]",
      "text/plain": [
       "<Figure size 936x216 with 1 Axes>"
      ]
     },
     "metadata": {
      "needs_background": "light"
     },
     "output_type": "display_data"
    }
   ],
   "source": [
    "ax = model_fit.impulse_responses(10, orthogonalized=True).plot(figsize=(13,3))\n",
    "ax.set(xlabel='t', title='Responses to a shock to `mxt`');"
   ]
  },
  {
   "cell_type": "code",
   "execution_count": 8,
   "metadata": {},
   "outputs": [],
   "source": [
    "evalu = pd.read_csv('data/new/evaluation.csv')\n",
    "mobility_exog = pd.read_csv('data/new/mobility_exog2.csv')"
   ]
  },
  {
   "cell_type": "code",
   "execution_count": 9,
   "metadata": {},
   "outputs": [
    {
     "name": "stdout",
     "output_type": "stream",
     "text": [
      "                  case         rh        avt        mxt        mnt\n",
      "2021-05-15  580.226759  72.680212  29.485483  34.225077  27.003940\n",
      "2021-05-16  564.018860  74.709411  28.951969  33.724393  26.496178\n",
      "2021-05-17  554.251188  74.210126  28.882149  33.648851  26.319461\n",
      "2021-05-18  532.743863  74.074446  28.874406  33.653351  26.370432\n",
      "2021-05-19  534.142040  74.421591  28.757753  33.487230  26.218305\n",
      "2021-05-20  540.827240  74.208491  28.679742  33.332482  26.008825\n",
      "2021-05-21  543.837970  74.165815  28.651082  33.236676  26.056908\n",
      "2021-05-22  553.519188  74.922581  28.559166  33.236872  26.019202\n",
      "2021-05-23  568.761458  75.969287  28.375077  33.012950  25.958645\n",
      "2021-05-24  578.629516  75.751619  28.347743  32.951372  25.951835\n",
      "2021-05-25  594.213818  75.382878  28.478559  33.125522  25.847582\n",
      "2021-05-26  619.022588  74.198815  28.638581  33.204681  26.041473\n",
      "2021-05-27  614.886384  74.476494  28.570037  33.125383  25.950678\n",
      "2021-05-28  632.080170  74.556363  28.601843  33.071586  25.826317\n",
      "2021-05-29  644.781578  75.349532  28.451276  33.071570  25.994809\n",
      "2021-05-30  645.099221  75.984659  28.377028  32.981575  25.804904\n",
      "2021-05-31  665.153052  75.382243  28.508410  33.007773  25.817801\n"
     ]
    },
    {
     "name": "stderr",
     "output_type": "stream",
     "text": [
      "C:\\ProgramData\\Anaconda3\\envs\\Forecatsing\\lib\\site-packages\\statsmodels\\tsa\\statespace\\varmax.py:163: EstimationWarning: Estimation of VARMA(p,q) models is not generically robust, due especially to identification issues.\n",
      "  EstimationWarning)\n",
      "C:\\ProgramData\\Anaconda3\\envs\\Forecatsing\\lib\\site-packages\\statsmodels\\tsa\\statespace\\varmax.py:163: EstimationWarning: Estimation of VARMA(p,q) models is not generically robust, due especially to identification issues.\n",
      "  EstimationWarning)\n"
     ]
    }
   ],
   "source": [
    "yhat = model_fit.forecast(steps=len(mobility_exog),exog=mobility_exog)\n",
    "print(yhat)"
   ]
  },
  {
   "cell_type": "code",
   "execution_count": 10,
   "metadata": {},
   "outputs": [
    {
     "name": "stderr",
     "output_type": "stream",
     "text": [
      "C:\\ProgramData\\Anaconda3\\envs\\Forecatsing\\lib\\site-packages\\statsmodels\\tsa\\statespace\\varmax.py:163: EstimationWarning: Estimation of VARMA(p,q) models is not generically robust, due especially to identification issues.\n",
      "  EstimationWarning)\n",
      "C:\\ProgramData\\Anaconda3\\envs\\Forecatsing\\lib\\site-packages\\statsmodels\\tsa\\statespace\\varmax.py:163: EstimationWarning: Estimation of VARMA(p,q) models is not generically robust, due especially to identification issues.\n",
      "  EstimationWarning)\n"
     ]
    },
    {
     "data": {
      "text/plain": [
       "[580,\n",
       " 564,\n",
       " 554,\n",
       " 532,\n",
       " 534,\n",
       " 540,\n",
       " 543,\n",
       " 553,\n",
       " 568,\n",
       " 578,\n",
       " 594,\n",
       " 619,\n",
       " 614,\n",
       " 632,\n",
       " 644,\n",
       " 645,\n",
       " 665]"
      ]
     },
     "execution_count": 10,
     "metadata": {},
     "output_type": "execute_result"
    }
   ],
   "source": [
    "hasil = model_fit.forecast(steps=len(mobility_exog),exog=mobility_exog)\n",
    "list_hasil = hasil['case'].tolist()\n",
    "list_eval = evalu['case'].tolist()\n",
    "test_list = [int(i) for i in list_hasil]\n",
    "test_list"
   ]
  },
  {
   "cell_type": "code",
   "execution_count": 11,
   "metadata": {},
   "outputs": [
    {
     "data": {
      "text/plain": [
       "269.84548955892166"
      ]
     },
     "execution_count": 11,
     "metadata": {},
     "output_type": "execute_result"
    }
   ],
   "source": [
    "rms = mean_squared_error(list_eval, test_list, squared=False)\n",
    "rms"
   ]
  },
  {
   "cell_type": "code",
   "execution_count": 12,
   "metadata": {},
   "outputs": [
    {
     "data": {
      "text/plain": [
       "72816.58823529411"
      ]
     },
     "execution_count": 12,
     "metadata": {},
     "output_type": "execute_result"
    }
   ],
   "source": [
    "mse = mean_squared_error(list_eval, test_list)\n",
    "mse"
   ]
  },
  {
   "cell_type": "code",
   "execution_count": 13,
   "metadata": {},
   "outputs": [
    {
     "data": {
      "text/plain": [
       "233.1764705882353"
      ]
     },
     "execution_count": 13,
     "metadata": {},
     "output_type": "execute_result"
    }
   ],
   "source": [
    "mae = mean_absolute_error(list_eval, test_list)\n",
    "mae"
   ]
  },
  {
   "cell_type": "code",
   "execution_count": null,
   "metadata": {},
   "outputs": [],
   "source": []
  }
 ],
 "metadata": {
  "kernelspec": {
   "display_name": "Python 3",
   "language": "python",
   "name": "python3"
  },
  "language_info": {
   "codemirror_mode": {
    "name": "ipython",
    "version": 3
   },
   "file_extension": ".py",
   "mimetype": "text/x-python",
   "name": "python",
   "nbconvert_exporter": "python",
   "pygments_lexer": "ipython3",
   "version": "3.7.9"
  }
 },
 "nbformat": 4,
 "nbformat_minor": 4
}
